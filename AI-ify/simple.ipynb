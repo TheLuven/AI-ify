{
 "cells": [
  {
   "metadata": {},
   "cell_type": "markdown",
   "source": "",
   "id": "88ef5d4bb84be22e"
  },
  {
   "metadata": {
    "ExecuteTime": {
     "end_time": "2024-12-04T10:26:53.158837Z",
     "start_time": "2024-12-04T10:26:52.875363Z"
    }
   },
   "cell_type": "code",
   "source": [
    "import numpy as np\n",
    "import pandas as pd\n",
    "\n",
    "import seaborn as sns\n",
    "import plotly.express as px\n",
    "import matplotlib.pyplot as plt\n",
    "\n",
    "from sklearn.cluster import KMeans\n",
    "from sklearn.preprocessing import StandardScaler\n",
    "from sklearn.pipeline import Pipeline\n",
    "from sklearn.manifold import TSNE\n",
    "from sklearn.decomposition import PCA\n",
    "from sklearn.metrics import euclidean_distances\n",
    "from scipy.spatial.distance import cdist\n",
    "\n",
    "import warnings\n",
    "\n"
   ],
   "id": "7557b5a135b01b57",
   "outputs": [],
   "execution_count": 23
  },
  {
   "metadata": {
    "ExecuteTime": {
     "end_time": "2024-12-04T10:26:55.456386Z",
     "start_time": "2024-12-04T10:26:55.139053Z"
    }
   },
   "cell_type": "code",
   "source": [
    "data = pd.read_csv(\"data/data.csv\")\n",
    "genre_data = pd.read_csv('data/data_by_genres.csv')\n",
    "year_data = pd.read_csv('data/data_by_year.csv')"
   ],
   "id": "ae968bd7178c1210",
   "outputs": [],
   "execution_count": 24
  },
  {
   "metadata": {},
   "cell_type": "markdown",
   "source": "### Création de l'authentification API Spotify",
   "id": "dfce22696e6df403"
  },
  {
   "metadata": {
    "ExecuteTime": {
     "end_time": "2024-12-04T10:41:59.353372Z",
     "start_time": "2024-12-04T10:41:59.348576Z"
    }
   },
   "cell_type": "code",
   "source": [
    "import spotipy\n",
    "from spotipy.oauth2 import SpotifyOAuth\n",
    "\n",
    "SPOTIFY_CLIENT_ID = \"ed9ece4a286d42f1aa834c82bed1f95e\"\n",
    "SPOTIFY_CLIENT_SECRET = \"e1f250bb36914f3c9235c88df325eff6\"\n",
    "sp = spotipy.Spotify(auth_manager=SpotifyOAuth(\n",
    "    client_id=SPOTIFY_CLIENT_ID,\n",
    "    client_secret=SPOTIFY_CLIENT_SECRET,\n",
    "    redirect_uri=\"http://localhost:8000/callback\",\n",
    "    scope=\"user-top-read playlist-read-private user-library-read playlist-modify-public playlist-modify-private\"\n",
    "))"
   ],
   "id": "7c2db8016b1fa492",
   "outputs": [],
   "execution_count": 27
  },
  {
   "metadata": {},
   "cell_type": "markdown",
   "source": "### Get the user's top tracks",
   "id": "7602691844521b80"
  },
  {
   "metadata": {
    "ExecuteTime": {
     "end_time": "2024-12-04T10:14:54.860445Z",
     "start_time": "2024-12-04T10:14:43.648956Z"
    }
   },
   "cell_type": "code",
   "source": [
    "top_tracks = sp.current_user_top_tracks(limit=50, time_range='medium_term')\n",
    "\n",
    "print(\"Your top tracks:\")\n",
    "\n",
    "for idx, track in enumerate(top_tracks['items']):\n",
    "    print(f\"{idx + 1}: {track['name']} by {track['artists'][0]['name']}\")\n",
    "    "
   ],
   "id": "5859b72338e8677e",
   "outputs": [
    {
     "name": "stdout",
     "output_type": "stream",
     "text": [
      "Your top tracks:\n",
      "1: Ma Meilleure Ennemie (from the series Arcane League of Legends) by Stromae\n",
      "2: Cut the Bridge by Linkin Park\n",
      "3: Two Faced by Linkin Park\n",
      "4: Stained by Linkin Park\n",
      "5: Two Faced by Linkin Park\n",
      "6: Overflow by Linkin Park\n",
      "7: The Emptiness Machine by Linkin Park\n",
      "8: The Emptiness Machine by Linkin Park\n",
      "9: Heavy Is the Crown by Linkin Park\n",
      "10: IGYEIH by Linkin Park\n",
      "11: Over Each Other by Linkin Park\n",
      "12: Heavy Is the Crown by Linkin Park\n",
      "13: Good Things Go by Linkin Park\n",
      "14: 505 by Arctic Monkeys\n",
      "15: Decode - Twilight Soundtrack Version by Paramore\n",
      "16: In the End by Linkin Park\n",
      "17: Pyramid Song by Radiohead\n",
      "18: The Less I Know The Better by Tame Impala\n",
      "19: Where Is My Mind? - 2007 Remaster by Pixies\n",
      "20: No You Girls by Franz Ferdinand\n",
      "21: WASTE by KXLLSWXTCH\n",
      "22: Somewhere I Belong by Linkin Park\n",
      "23: Borderline by Tame Impala\n",
      "24: Notion by The Rare Occasions\n",
      "25: A Soul With No King by AURORA\n",
      "26: CASTLE OF GLASS by Linkin Park\n",
      "27: Cold Cold Cold by Cage The Elephant\n",
      "28: BURN IT DOWN by Linkin Park\n",
      "29: Numb by Linkin Park\n",
      "30: Apocalypse by Cigarettes After Sex\n",
      "31: At The Risk Of Feeling Dumb by Twenty One Pilots\n",
      "32: End of Beginning by Djo\n",
      "33: Neverender by Justice\n",
      "34: Navigating by Twenty One Pilots\n",
      "35: One Step Closer by Linkin Park\n",
      "36: What You Know by Two Door Cinema Club\n",
      "37: The Only Exception by Paramore\n",
      "38: Vignette by Twenty One Pilots\n",
      "39: Bleed It Out by Linkin Park\n",
      "40: Papercut by Linkin Park\n",
      "41: Faint by Linkin Park\n",
      "42: Oldies Station by Twenty One Pilots\n",
      "43: Over Each Other by Linkin Park\n",
      "44: Breezeblocks by alt-J\n",
      "45: Kids by MGMT\n",
      "46: Crawling by Linkin Park\n",
      "47: Bad Habit by Steve Lacy\n",
      "48: Blood In The Wine by AURORA\n",
      "49: Sex, Drugs, Etc. by Beach Weather\n",
      "50: Romantic Homicide by d4vd\n"
     ]
    }
   ],
   "execution_count": 19
  },
  {
   "metadata": {},
   "cell_type": "markdown",
   "source": "### Get the track IDs to fetch audio features",
   "id": "95db3ec2956adcd3"
  },
  {
   "metadata": {
    "ExecuteTime": {
     "end_time": "2024-12-04T10:30:42.123010Z",
     "start_time": "2024-12-04T10:30:42.114041Z"
    }
   },
   "cell_type": "code",
   "outputs": [
    {
     "name": "stdout",
     "output_type": "stream",
     "text": [
      "Track IDs: ['4lriIG2vNqwDWzOj2I9rtj', '5mFZipkX1HZ4Idz5LOWpzq', '6i5qhmmF9UNUBRyrPSGn4m', '0J1IJsMbKWb5g2sJArTkGF', '5Hh2VJj7bOWGsN0Jw6smwt', '7diOv6wm3ngF7Vt6ubK0Sf', '1EDPVGbyPKJPeGqATwXZvN', '2PnlsTsOTLE5jnBnNe2K0A', '2HBBM75Xv3o2Mqdyh1NcM0', '7M8eZBRTD9QNasEVReEM0H', '3k4gjmYNJugQRlh2aounZ9', '3fgehc497TFqKH1zBL2YNK', '6aCBjSb87RizdH8lVBIRW7', '0BxE4FqsDD1Ot4YuBXwAPp', '6umX518VohIob6IipK3WYM', '60a0Rd6pjrkxjPbaKzXjfq', '55q3Ro66yXWi9rsEddeEN4', '6K4t31amVTZDgR3sKmwUJJ', '7wCmS9TTVUcIhRalDYFgPy', '4VP8QiCeaZq8BeTIUrMQOG', '4NgherJDfCXWBZBYheM4jK', '3fjmSxt0PskST13CSdBUFx', '5hM5arv9KDbCHS0k9uqwjr', '0sTlGEld0h8kIPZaKDYUf4', '3MNSWCyOqjyQVUZCoPKYVL', '1r1fPuhj9H4VdXr7OK6FL5', '1Q3t9fWvHUXKsMmpD2XpUu', '7oVEtyuv9NBmnytsCIsY5I', '2nLtzopw4rPReszdYBJU6h', '0yc6Gst2xkRu0eMLeRMGCX', '0ZucyPms79Cydv0RMYV2Oi', '3qhlB30KknSejmIvZZLjOD', '3aQ9MHkMeL7Yu7jpyF62xn', '3gy21TwRSP40aUMwcY7Rtq', '3K4HG9evC7dg3N0R9cYqk4', '4JHg4nNYUJQ5HULcCmI18R', '7JIuqL4ZqkpfGKQhYlrirs', '3sEufjE0ITaW5qhtnW3avv', '0UFDKFqW2oGspYeYqo9wjA', '1Vej0qeQ3ioKwpI6FUbRv1', '4Yf5bqU3NK4kNOypcrLYwU', '7dI0mSvbdJTynUnEkWIom1', '3t4IkHfT4eXZggkupi4SUe', '1ZLroqJA8qoS5QEeCo0fA7', '1jJci4qxiYcOHhQR247rEU', '57BrRMwf9LrcmuOsyGilwr', '4k6Uh1HXdhtusDW5y8Gbvy', '7Lia8HVrC09vpuAtE8K0Yp', '7MlDNspYwfqnHxORufupwq', '1xK59OXxi2TAAAbmZK0kBL']\n"
     ]
    }
   ],
   "execution_count": 25,
   "source": [
    "track_ids = [track['id'] for track in top_tracks['items']]\n",
    "\n",
    "print(f\"Track IDs: {track_ids}\")"
   ],
   "id": "b95fbf4214ff17b0"
  },
  {
   "metadata": {},
   "cell_type": "markdown",
   "source": "### Create Spotify playlist",
   "id": "db6769386773b483"
  },
  {
   "metadata": {
    "ExecuteTime": {
     "end_time": "2024-12-04T10:43:03.543993Z",
     "start_time": "2024-12-04T10:43:02.922230Z"
    }
   },
   "cell_type": "code",
   "source": [
    "# Get user ID (required to create a playlist)\n",
    "user_id = sp.current_user()['id']\n",
    "\n",
    "# Create a new playlist\n",
    "playlist_name = \"AI-ify Playlist\"\n",
    "playlist_description = \"This is a playlist created using AI-ify.\"\n",
    "playlist = sp.user_playlist_create(user_id, playlist_name, public=True, description=playlist_description)\n",
    "\n",
    "# Add tracks to the playlist\n",
    "sp.playlist_add_items(playlist['id'], track_ids)"
   ],
   "id": "6c021437e23baf06",
   "outputs": [
    {
     "data": {
      "text/plain": [
       "{'snapshot_id': 'AAAAAnOtBCvDWAOs75w0WfvtnizJmFpR'}"
      ]
     },
     "execution_count": 29,
     "metadata": {},
     "output_type": "execute_result"
    }
   ],
   "execution_count": 29
  }
 ],
 "metadata": {
  "kernelspec": {
   "display_name": "Python 3",
   "language": "python",
   "name": "python3"
  },
  "language_info": {
   "codemirror_mode": {
    "name": "ipython",
    "version": 2
   },
   "file_extension": ".py",
   "mimetype": "text/x-python",
   "name": "python",
   "nbconvert_exporter": "python",
   "pygments_lexer": "ipython2",
   "version": "2.7.6"
  }
 },
 "nbformat": 4,
 "nbformat_minor": 5
}
