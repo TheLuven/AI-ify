{
 "cells": [
  {
   "metadata": {},
   "cell_type": "markdown",
   "source": "",
   "id": "88ef5d4bb84be22e"
  },
  {
   "metadata": {
    "ExecuteTime": {
     "end_time": "2024-12-11T17:53:00.746809Z",
     "start_time": "2024-12-11T17:53:00.265320Z"
    }
   },
   "cell_type": "code",
   "source": [
    "import numpy as np\n",
    "import pandas as pd\n",
    "\n",
    "import seaborn as sns\n",
    "import plotly.express as px\n",
    "import matplotlib.pyplot as plt\n",
    "from numpy.f2py.auxfuncs import throw_error\n",
    "\n",
    "from sklearn.cluster import KMeans\n",
    "from sklearn.preprocessing import StandardScaler\n",
    "from sklearn.pipeline import Pipeline\n",
    "from sklearn.manifold import TSNE\n",
    "from sklearn.decomposition import PCA\n",
    "from sklearn.metrics import euclidean_distances\n",
    "from scipy.spatial.distance import cdist\n",
    "\n",
    "import warnings\n",
    "\n"
   ],
   "id": "7557b5a135b01b57",
   "outputs": [],
   "execution_count": 1
  },
  {
   "metadata": {},
   "cell_type": "markdown",
   "source": "### Création de l'authentification API Spotify",
   "id": "dfce22696e6df403"
  },
  {
   "metadata": {
    "ExecuteTime": {
     "end_time": "2024-12-11T17:53:01.302502Z",
     "start_time": "2024-12-11T17:53:00.765746Z"
    }
   },
   "cell_type": "code",
   "source": [
    "import spotipy\n",
    "from spotipy.oauth2 import SpotifyOAuth\n",
    "\n",
    "SPOTIFY_CLIENT_ID = \"ed9ece4a286d42f1aa834c82bed1f95e\"\n",
    "SPOTIFY_CLIENT_SECRET = \"e1f250bb36914f3c9235c88df325eff6\"\n",
    "sp = spotipy.Spotify(auth_manager=SpotifyOAuth(\n",
    "    client_id=SPOTIFY_CLIENT_ID,\n",
    "    client_secret=SPOTIFY_CLIENT_SECRET,\n",
    "    redirect_uri=\"http://localhost:8000/callback\",\n",
    "    scope=\"user-top-read playlist-read-private user-library-read playlist-modify-public playlist-modify-private\",\n",
    "    cache_path=\"./spotify_cache\",\n",
    "    state=\"unique_state_value\"\n",
    "))"
   ],
   "id": "7c2db8016b1fa492",
   "outputs": [],
   "execution_count": 2
  },
  {
   "metadata": {
    "ExecuteTime": {
     "end_time": "2024-12-11T17:53:01.566718Z",
     "start_time": "2024-12-11T17:53:01.556946Z"
    }
   },
   "cell_type": "code",
   "source": [
    "import os\n",
    "\n",
    "if os.path.exists(\"./spotify_cache\"):\n",
    "    os.remove(\"./spotify_cache\")\n",
    "    print(\"Custom cache file deleted.\")\n",
    "else:\n",
    "    print(\"Custom cache file not found.\")"
   ],
   "id": "4fbc031c34fd574a",
   "outputs": [
    {
     "name": "stdout",
     "output_type": "stream",
     "text": [
      "Custom cache file deleted.\n"
     ]
    }
   ],
   "execution_count": 3
  },
  {
   "metadata": {},
   "cell_type": "markdown",
   "source": "### Get the user's top tracks",
   "id": "7602691844521b80"
  },
  {
   "metadata": {
    "ExecuteTime": {
     "end_time": "2024-12-11T17:53:03.849275Z",
     "start_time": "2024-12-11T17:53:01.679346Z"
    }
   },
   "cell_type": "code",
   "source": [
    "top_tracks = sp.current_user_top_tracks(limit=50, time_range='long_term')\n",
    "\n",
    "print(\"Your top tracks:\")\n",
    "\n",
    "for idx, track in enumerate(top_tracks['items']):\n",
    "    print(f\"{idx + 1}: {track['name']} by {track['artists'][0]['name']}\")\n",
    "    "
   ],
   "id": "5859b72338e8677e",
   "outputs": [
    {
     "name": "stdout",
     "output_type": "stream",
     "text": [
      "Your top tracks:\n",
      "1: Numb by Linkin Park\n",
      "2: Comme c'est bon by Jenifer\n",
      "3: Wakfu opening song by Guillaume Houzé\n",
      "4: Stopped Time by WOO JI HUN\n",
      "5: Iron Heart by Marina Kaye\n",
      "6: Descendants Of The Sun (Original Television Soundtrack) Pt.6 - Talk Love by K.Will\n",
      "7: Mauvais rêve by Hoshi\n",
      "8: One Piece (1999) - The Very, Very, Very Strongest by Geek Music\n",
      "9: My Sails Are Set (from the Netflix Series \"One Piece\") by Sonya Belousova\n",
      "10: Believe in Myself (Fairy Tail Opening 21) by PelleK\n",
      "11: Black Rover by VK Blanka\n",
      "12: Time of JungHyuk for Seri by Nam Hye Seung\n",
      "13: Dépassé by Nuit Incolore\n",
      "14: Un diavolo scaccia l′altro by Lee Nyeom\n",
      "15: ワノ国 幕開け、幕引きのテーマ by Kohei Tanaka\n",
      "16: 悲壮 by Yasuharu Takanashi\n",
      "17: You Give Love A Bad Name by Bon Jovi\n",
      "18: Popcorn salé - Live by Les Enfoirés\n",
      "19: Someone You Loved by Lewis Capaldi\n",
      "20: 疾風組曲 by Yasuharu Takanashi\n",
      "21: STRIKE BACK by BACK-ON\n",
      "22: Across the Stars (Love Theme from \"Star Wars: Attack of the Clones\") by John Williams\n",
      "23: Black Catcher by VK Blanka\n",
      "24: Scars Leave Beautiful Trace by Car, the garden\n",
      "25: My Name (Feat. Swervy, JEMINN) by Hwang Sang Jun\n",
      "26: Sigriswil - Crash Landing on You Title Full Version by Kim Kyoung Hee\n",
      "27: Alchemy of Souls (Opening Title) by Nam Hye Seung\n",
      "28: FAIRY TAIL Main Theme by Yasuharu Takanashi\n",
      "29: White Flag by Bishop Briggs\n",
      "30: Set Fire to the Rain by Adele\n",
      "31: Someone Like You by Adele\n",
      "32: Time by Hans Zimmer\n",
      "33: Here I Am by Min Kyunghoon\n",
      "34: ラヴァーズ by 7!!\n",
      "35: It's My Life by Bon Jovi\n",
      "36: Shukumei by Yasuharu Takanashi\n",
      "37: Wanted Dead Or Alive by Sonya Belousova\n",
      "38: Secret - Live by Les Enfoirés\n",
      "39: 哀と愁 by MUSASHI PROJECT\n",
      "40: Fantasy by SURAN\n",
      "41: Dernière danse by Kyo\n",
      "42: Torn by Natalie Imbruglia\n",
      "43: Untraveled Road by Thousand Foot Krutch\n",
      "44: One Piece: Epic Battle Theme: Fierce Attack by Geek Music\n",
      "45: Starlight by TAEIL\n",
      "46: Autobots by Steve Jablonsky\n",
      "47: Fairy Tail Main Theme - Slow ver. by Yasuharu Takanashi\n",
      "48: Kanashiki Kako by Yasuharu Takanashi\n",
      "49: How to Save a Life by The Fray\n",
      "50: Becoming one of \"The People\" Becoming one with Neytiri by James Horner\n"
     ]
    }
   ],
   "execution_count": 4
  },
  {
   "metadata": {},
   "cell_type": "markdown",
   "source": "### Get the track IDs to fetch audio features",
   "id": "95db3ec2956adcd3"
  },
  {
   "metadata": {
    "ExecuteTime": {
     "end_time": "2024-12-11T17:53:04.113073Z",
     "start_time": "2024-12-11T17:53:04.093021Z"
    }
   },
   "cell_type": "code",
   "source": [
    "track_ids = [track['id'] for track in top_tracks['items']]\n",
    "\n",
    "print(f\"Track IDs: {track_ids}\")"
   ],
   "id": "b95fbf4214ff17b0",
   "outputs": [
    {
     "name": "stdout",
     "output_type": "stream",
     "text": [
      "Track IDs: ['2nLtzopw4rPReszdYBJU6h', '2342PpFWk3V3oUsFmfOzsI', '550268c5oupgwaenURSsE9', '1pRapazgWNxpEqTqe63jH5', '4T0cHbcxGzEGzUki89NFp9', '5NkpsRKvSBukdYQtl3WLZW', '36HkKVTxGk1jIoUqW0AnUi', '4O4u9XSr2vgZxLLNMOq68V', '507tVcKoaL0iORuaM2nrmy', '4Ik2HBEoqvF3gIOYnMHRM6', '04LCCxG3pbOYeENiyUc7Xb', '0IjT3ZixP581jP70WQ3nbv', '5bOWPM362XpMa8zn6UR9te', '7AnHS1o08tFXLmnOedcucv', '15WLsibdUCBTyN6a9YUajB', '6JeKu6FAAmfGrr2tTBnVIF', '0rmGAIH9LNJewFw7nKzZnc', '5sK0uWylEvnMPGBUatnZnl', '7qEHsqek33rTcFNT9PFqLf', '46tIwaDhLsDhrYl6vjK8ZB', '5QSt0jnVuPdQsC9plgW3lz', '757Azo0GkANYBAaNackdry', '5RXmLhscstsdvWPN0XtUa0', '5eSGz8BIIoUIUWPhIp5CWy', '7r7PL7TxcixHculcGtnEC9', '210bN1eoP343zkIqIv6mne', '7ojDz4j9rqmnLdjsfsU3nk', '7JoZiEMrwjpD18krCV8Czo', '2ph6BRhGcUzc2W9wIulG5k', '3di5hcvxxciiqwMH1jarhY', '3bNv3VuUOKgrf5hu3YcuRo', '6ZFbXIJkuI1dVNWvzJzown', '3uBgxxlZ3Ul8nH7NUdOlRZ', '5Do3qmFMpCjVLmtLhmj3a1', '6mqOtq4LgQ4eK6yF9yZvO7', '16NThvaQeF0xItfMI6XGwn', '22qLxnlZDOEP7LwSd0S2tr', '5DWKsSCWDUf9ffzvAlwInE', '6CfBzLvptTgv21y3OjB5GC', '1lZcJx27OnKAOPBG8H2WlF', '7mNErWes3YegbRLgZuILl5', '1Jaah2tmN9Hv81A87KZ1MU', '3WG3wFBe9NgkWB1mNGE6fJ', '1yQurNpCsuVjvDB3bkCs9M', '7cIC9v7EfYZl7vFLPkIXTS', '1hQMzVXdoDZXcO16GOhWc5', '1ADsAp80fs3TVEkRnqfJje', '0RxhkRMtLg52znOUqlyOWJ', '5fVZC9GiM4e8vu99W0Xf6J', '1UBd7aWHZCz8yirI9KCvAU']\n"
     ]
    }
   ],
   "execution_count": 5
  },
  {
   "metadata": {},
   "cell_type": "markdown",
   "source": "### Load data_appended dataset and fetch the top tracks using ids",
   "id": "268f8e22a9ddbc53"
  },
  {
   "metadata": {
    "ExecuteTime": {
     "end_time": "2024-12-11T17:53:06.014496Z",
     "start_time": "2024-12-11T17:53:04.292144Z"
    }
   },
   "cell_type": "code",
   "source": [
    "data = pd.read_csv(\"data/data_appended.csv\")\n",
    "\n",
    "top_tracks_data = data[data['id'].isin(track_ids)]\n",
    "\n",
    "print(\"Top tracks data :\")\n",
    "print(\"Found a total of {} tracks\".format(len(top_tracks_data)))\n",
    "print(top_tracks_data)\n",
    "\n",
    "track_to_analyse = top_tracks_data['id'].tolist()\n",
    "\n",
    "print(track_to_analyse)\n",
    "print(\"Tracks that are not in top track :\")\n",
    "for idx,track in enumerate(top_tracks['items']):\n",
    "    if track['id'] not in top_tracks_data['id'].values:\n",
    "        print(f\"{idx}: {track['name']} by {track['artists'][0]['name']}\")"
   ],
   "id": "ce014ee55cb6089e",
   "outputs": [
    {
     "name": "stdout",
     "output_type": "stream",
     "text": [
      "Top tracks data :\n",
      "Found a total of 18 tracks\n",
      "        valence  year  acousticness                   artists  danceability  \\\n",
      "12808    0.8120  1986      0.066300              ['Bon Jovi']        0.5410   \n",
      "15106    0.6090  1997      0.064700     ['Natalie Imbruglia']        0.5750   \n",
      "16206    0.2430  2003      0.004600           ['Linkin Park']        0.4960   \n",
      "16609    0.3610  2005      0.269000              ['The Fray']        0.6400   \n",
      "17740    0.0401  2010      0.155000           ['Hans Zimmer']        0.2210   \n",
      "19413    0.4460  2019      0.751000         ['Lewis Capaldi']        0.5010   \n",
      "72952    0.0382  2009      0.692000          ['James Horner']        0.0993   \n",
      "89598    0.1750  2007      0.572000       ['Steve Jablonsky']        0.3920   \n",
      "123630   0.5890  2014      0.005350               ['BACK-ON']        0.4690   \n",
      "154974   0.5390  2018      0.002150           ['Vickeblanka']        0.5990   \n",
      "170191   0.3540  2018      0.062000         ['Bishop Briggs']        0.5240   \n",
      "174556   0.6650     0      0.000790           ['Vickeblanka']        0.5860   \n",
      "174607   0.3660     0      0.000029    ['Yasuharu Takanashi']        0.4620   \n",
      "174939   0.0490     0      0.063600    ['Yasuharu Takanashi']        0.1790   \n",
      "180018   0.4460     0      0.004080                 ['Adele']        0.6030   \n",
      "180021   0.2940     0      0.893000                 ['Adele']        0.5560   \n",
      "222104   0.5550     0      0.353000                ['K.Will']        0.6030   \n",
      "226111   0.4670     0      0.000315  ['Thousand Foot Krutch']        0.5930   \n",
      "\n",
      "        duration_ms  energy  explicit                      id  \\\n",
      "12808      222707.0  0.9600         0  0rmGAIH9LNJewFw7nKzZnc   \n",
      "15106      244667.0  0.8860         0  1Jaah2tmN9Hv81A87KZ1MU   \n",
      "16206      185587.0  0.8630         0  2nLtzopw4rPReszdYBJU6h   \n",
      "16609      262533.0  0.7430         0  5fVZC9GiM4e8vu99W0Xf6J   \n",
      "17740      275547.0  0.0879         0  6ZFbXIJkuI1dVNWvzJzown   \n",
      "19413      182161.0  0.4050         0  7qEHsqek33rTcFNT9PFqLf   \n",
      "72952      463707.0  0.0902         0  1UBd7aWHZCz8yirI9KCvAU   \n",
      "89598      153027.0  0.4920         0  1hQMzVXdoDZXcO16GOhWc5   \n",
      "123630     227467.0  0.9420         0  5QSt0jnVuPdQsC9plgW3lz   \n",
      "154974     208300.0  0.9320         0  04LCCxG3pbOYeENiyUc7Xb   \n",
      "170191     230587.0  0.8050         0  2ph6BRhGcUzc2W9wIulG5k   \n",
      "174556     195000.0  0.8920         0  5RXmLhscstsdvWPN0XtUa0   \n",
      "174607     152346.0  0.9000         0  7JoZiEMrwjpD18krCV8Czo   \n",
      "174939     154613.0  0.4210         0  1ADsAp80fs3TVEkRnqfJje   \n",
      "180018     242973.0  0.6700         0  3di5hcvxxciiqwMH1jarhY   \n",
      "180021     285240.0  0.3190         0  3bNv3VuUOKgrf5hu3YcuRo   \n",
      "222104     216555.0  0.8340         0  5NkpsRKvSBukdYQtl3WLZW   \n",
      "226111     235689.0  0.8500         0  3WG3wFBe9NgkWB1mNGE6fJ   \n",
      "\n",
      "        instrumentalness   key  liveness  loudness  mode  \\\n",
      "12808           0.000002   0.0    0.3440    -2.947   0.0   \n",
      "15106           0.000187   5.0    0.7090    -5.182   1.0   \n",
      "16206           0.000000   9.0    0.6390    -4.153   1.0   \n",
      "16609           0.000000  10.0    0.1010    -4.080   1.0   \n",
      "17740           0.698000   7.0    0.0869   -16.996   1.0   \n",
      "19413           0.000000   1.0    0.1050    -5.679   1.0   \n",
      "72952           0.850000   1.0    0.0745   -26.307   1.0   \n",
      "89598           0.959000   7.0    0.1090   -14.757   0.0   \n",
      "123630          0.000000   1.0    0.3060    -2.481   1.0   \n",
      "154974          0.000000  11.0    0.1460    -5.622   1.0   \n",
      "170191          0.000000   4.0    0.2090    -4.080   0.0   \n",
      "174556          0.000004  11.0    0.1600    -5.259   0.0   \n",
      "174607          0.905000   2.0    0.3120    -3.578   0.0   \n",
      "174939          0.752000   5.0    0.2010    -7.510   1.0   \n",
      "180018          0.000002   2.0    0.1120    -3.882   0.0   \n",
      "180021          0.000000   9.0    0.0996    -8.251   1.0   \n",
      "222104          0.000000   1.0    0.0989    -2.339   0.0   \n",
      "226111          0.000002  11.0    0.0670    -6.341   1.0   \n",
      "\n",
      "                                                     name  popularity  \\\n",
      "12808                            You Give Love A Bad Name        80.0   \n",
      "15106                                                Torn        73.0   \n",
      "16206                                                Numb        82.0   \n",
      "16609                                  How to Save a Life        81.0   \n",
      "17740                                                Time        73.0   \n",
      "19413                                   Someone You Loved        91.0   \n",
      "72952   Becoming one of \"The People\" Becoming one with...        59.0   \n",
      "89598                                            Autobots        56.0   \n",
      "123630                                        STRIKE BACK        57.0   \n",
      "154974                                        Black Rover        65.0   \n",
      "170191                                         White Flag        65.0   \n",
      "174556                                      Black Catcher        68.0   \n",
      "174607                              FAIRY TAIL Main Theme        56.0   \n",
      "174939                  Fairy Tail Main Theme - Slow ver.        49.0   \n",
      "180018                               Set Fire to the Rain        80.0   \n",
      "180021                                   Someone Like You        81.0   \n",
      "222104  Descendants Of The Sun (Original Television So...        59.0   \n",
      "226111                                    Untraveled Road        63.0   \n",
      "\n",
      "        speechiness    tempo  \\\n",
      "12808        0.0505  122.803   \n",
      "15106        0.0340   96.309   \n",
      "16206        0.0381  110.018   \n",
      "16609        0.0379  122.035   \n",
      "17740        0.0381  126.622   \n",
      "19413        0.0319  109.891   \n",
      "72952        0.0428   71.062   \n",
      "89598        0.0570   80.016   \n",
      "123630       0.0956  179.951   \n",
      "154974       0.0407  102.065   \n",
      "170191       0.0650  152.044   \n",
      "174556       0.0349  100.040   \n",
      "174607       0.0393  110.008   \n",
      "174939       0.0347   76.853   \n",
      "180018       0.0249  107.993   \n",
      "180021       0.0281  135.187   \n",
      "222104       0.0287  102.038   \n",
      "226111       0.0411  125.027   \n",
      "\n",
      "                                                    genre  \n",
      "12808                              ['glam metal', 'rock']  \n",
      "15106   ['dance pop', 'europop', 'lilith', 'new wave p...  \n",
      "16206   ['alternative metal', 'nu metal', 'post-grunge...  \n",
      "16609   ['modern rock', 'neo mellow', 'piano rock', 'p...  \n",
      "17740                 ['german soundtrack', 'soundtrack']  \n",
      "19413                                   ['pop', 'uk pop']  \n",
      "72952                                      ['soundtrack']  \n",
      "89598   ['epicore', 'scorecore', 'soundtrack', 'video ...  \n",
      "123630    ['anime', 'anime rock', 'j-poprock', 'otacore']  \n",
      "154974  ['anime', 'anime rock', 'j-pop', 'j-poprock', ...  \n",
      "170191  ['indie poptimism', 'modern alternative rock',...  \n",
      "174556                                                 []  \n",
      "174607                                                 []  \n",
      "174939                                                 []  \n",
      "180018                                                 []  \n",
      "180021                                                 []  \n",
      "222104                                                 []  \n",
      "226111                                                 []  \n",
      "['0rmGAIH9LNJewFw7nKzZnc', '1Jaah2tmN9Hv81A87KZ1MU', '2nLtzopw4rPReszdYBJU6h', '5fVZC9GiM4e8vu99W0Xf6J', '6ZFbXIJkuI1dVNWvzJzown', '7qEHsqek33rTcFNT9PFqLf', '1UBd7aWHZCz8yirI9KCvAU', '1hQMzVXdoDZXcO16GOhWc5', '5QSt0jnVuPdQsC9plgW3lz', '04LCCxG3pbOYeENiyUc7Xb', '2ph6BRhGcUzc2W9wIulG5k', '5RXmLhscstsdvWPN0XtUa0', '7JoZiEMrwjpD18krCV8Czo', '1ADsAp80fs3TVEkRnqfJje', '3di5hcvxxciiqwMH1jarhY', '3bNv3VuUOKgrf5hu3YcuRo', '5NkpsRKvSBukdYQtl3WLZW', '3WG3wFBe9NgkWB1mNGE6fJ']\n",
      "Tracks that are not in top track :\n",
      "1: Comme c'est bon by Jenifer\n",
      "2: Wakfu opening song by Guillaume Houzé\n",
      "3: Stopped Time by WOO JI HUN\n",
      "4: Iron Heart by Marina Kaye\n",
      "6: Mauvais rêve by Hoshi\n",
      "7: One Piece (1999) - The Very, Very, Very Strongest by Geek Music\n",
      "8: My Sails Are Set (from the Netflix Series \"One Piece\") by Sonya Belousova\n",
      "9: Believe in Myself (Fairy Tail Opening 21) by PelleK\n",
      "11: Time of JungHyuk for Seri by Nam Hye Seung\n",
      "12: Dépassé by Nuit Incolore\n",
      "13: Un diavolo scaccia l′altro by Lee Nyeom\n",
      "14: ワノ国 幕開け、幕引きのテーマ by Kohei Tanaka\n",
      "15: 悲壮 by Yasuharu Takanashi\n",
      "17: Popcorn salé - Live by Les Enfoirés\n",
      "19: 疾風組曲 by Yasuharu Takanashi\n",
      "21: Across the Stars (Love Theme from \"Star Wars: Attack of the Clones\") by John Williams\n",
      "23: Scars Leave Beautiful Trace by Car, the garden\n",
      "24: My Name (Feat. Swervy, JEMINN) by Hwang Sang Jun\n",
      "25: Sigriswil - Crash Landing on You Title Full Version by Kim Kyoung Hee\n",
      "26: Alchemy of Souls (Opening Title) by Nam Hye Seung\n",
      "32: Here I Am by Min Kyunghoon\n",
      "33: ラヴァーズ by 7!!\n",
      "34: It's My Life by Bon Jovi\n",
      "35: Shukumei by Yasuharu Takanashi\n",
      "36: Wanted Dead Or Alive by Sonya Belousova\n",
      "37: Secret - Live by Les Enfoirés\n",
      "38: 哀と愁 by MUSASHI PROJECT\n",
      "39: Fantasy by SURAN\n",
      "40: Dernière danse by Kyo\n",
      "43: One Piece: Epic Battle Theme: Fierce Attack by Geek Music\n",
      "44: Starlight by TAEIL\n",
      "47: Kanashiki Kako by Yasuharu Takanashi\n"
     ]
    }
   ],
   "execution_count": 6
  },
  {
   "metadata": {
    "ExecuteTime": {
     "end_time": "2024-12-11T17:53:06.926370Z",
     "start_time": "2024-12-11T17:53:06.047145Z"
    }
   },
   "cell_type": "code",
   "source": [
    "#Throw an error to stop the execution here\n",
    "throw_error()"
   ],
   "id": "f4af99c8a4fc6f87",
   "outputs": [
    {
     "ename": "TypeError",
     "evalue": "throw_error.__init__() missing 1 required positional argument: 'mess'",
     "output_type": "error",
     "traceback": [
      "\u001B[1;31m---------------------------------------------------------------------------\u001B[0m",
      "\u001B[1;31mTypeError\u001B[0m                                 Traceback (most recent call last)",
      "Cell \u001B[1;32mIn[7], line 2\u001B[0m\n\u001B[0;32m      1\u001B[0m \u001B[38;5;66;03m#Throw an error to stop the execution here\u001B[39;00m\n\u001B[1;32m----> 2\u001B[0m \u001B[43mthrow_error\u001B[49m\u001B[43m(\u001B[49m\u001B[43m)\u001B[49m\n",
      "\u001B[1;31mTypeError\u001B[0m: throw_error.__init__() missing 1 required positional argument: 'mess'"
     ]
    }
   ],
   "execution_count": 7
  },
  {
   "metadata": {
    "ExecuteTime": {
     "end_time": "2024-12-11T17:53:24.682260Z",
     "start_time": "2024-12-11T17:53:11.738100Z"
    }
   },
   "cell_type": "code",
   "source": [
    "from useKeam import FindSimilarSong\n",
    "\n",
    "f = FindSimilarSong()\n",
    "result = f.find_songs_for_playlist(track_to_analyse)\n",
    "\n",
    "\n"
   ],
   "id": "b5168c3867ae2a70",
   "outputs": [],
   "execution_count": 8
  },
  {
   "metadata": {},
   "cell_type": "markdown",
   "source": "### Create Spotify playlist",
   "id": "db6769386773b483"
  },
  {
   "metadata": {
    "ExecuteTime": {
     "end_time": "2024-12-11T17:54:58.616264Z",
     "start_time": "2024-12-11T17:54:58.042398Z"
    }
   },
   "cell_type": "code",
   "source": [
    "# Get user ID (required to create a playlist)\n",
    "user_id = sp.current_user()['id']\n",
    "\n",
    "# Create a new playlist\n",
    "playlist_name = \"AI-ify Playlist\"\n",
    "playlist_description = \"This is a playlist created using AI-ify.\"\n",
    "playlist = sp.user_playlist_create(user_id, playlist_name, public=True, description=playlist_description)\n",
    "\n",
    "# Add tracks to the playlist\n",
    "sp.playlist_add_items(playlist['id'], result)"
   ],
   "id": "6c021437e23baf06",
   "outputs": [
    {
     "data": {
      "text/plain": [
       "{'snapshot_id': 'AAAAAr19XzDm0/shmOuKWqwhSweyZVSO'}"
      ]
     },
     "execution_count": 9,
     "metadata": {},
     "output_type": "execute_result"
    }
   ],
   "execution_count": 9
  }
 ],
 "metadata": {
  "kernelspec": {
   "display_name": "Python 3",
   "language": "python",
   "name": "python3"
  },
  "language_info": {
   "codemirror_mode": {
    "name": "ipython",
    "version": 2
   },
   "file_extension": ".py",
   "mimetype": "text/x-python",
   "name": "python",
   "nbconvert_exporter": "python",
   "pygments_lexer": "ipython2",
   "version": "2.7.6"
  }
 },
 "nbformat": 4,
 "nbformat_minor": 5
}
