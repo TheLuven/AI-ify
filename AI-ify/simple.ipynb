{
 "cells": [
  {
   "metadata": {},
   "cell_type": "markdown",
   "source": "",
   "id": "88ef5d4bb84be22e"
  },
  {
   "metadata": {
    "ExecuteTime": {
     "end_time": "2024-12-04T08:07:46.742115Z",
     "start_time": "2024-12-04T08:07:45.874026Z"
    }
   },
   "cell_type": "code",
   "source": [
    "import numpy as np\n",
    "import pandas as pd\n",
    "\n",
    "import seaborn as sns\n",
    "import plotly.express as px\n",
    "import matplotlib.pyplot as plt\n",
    "\n",
    "from sklearn.cluster import KMeans\n",
    "from sklearn.preprocessing import StandardScaler\n",
    "from sklearn.pipeline import Pipeline\n",
    "from sklearn.manifold import TSNE\n",
    "from sklearn.decomposition import PCA\n",
    "from sklearn.metrics import euclidean_distances\n",
    "from scipy.spatial.distance import cdist\n",
    "\n",
    "import warnings\n",
    "\n",
    "import spotipy"
   ],
   "id": "7557b5a135b01b57",
   "outputs": [],
   "execution_count": 2
  },
  {
   "metadata": {
    "ExecuteTime": {
     "end_time": "2024-12-04T08:25:15.086260Z",
     "start_time": "2024-12-04T08:25:14.800272Z"
    }
   },
   "cell_type": "code",
   "source": [
    "data = pd.read_csv(\"data/data_114.csv\")\n",
    "genre_data = pd.read_csv('data/data_by_genres.csv')\n",
    "year_data = pd.read_csv('data/data_by_year.csv')"
   ],
   "id": "ae968bd7178c1210",
   "outputs": [],
   "execution_count": 7
  }
 ],
 "metadata": {
  "kernelspec": {
   "display_name": "Python 3",
   "language": "python",
   "name": "python3"
  },
  "language_info": {
   "codemirror_mode": {
    "name": "ipython",
    "version": 2
   },
   "file_extension": ".py",
   "mimetype": "text/x-python",
   "name": "python",
   "nbconvert_exporter": "python",
   "pygments_lexer": "ipython2",
   "version": "2.7.6"
  }
 },
 "nbformat": 4,
 "nbformat_minor": 5
}
