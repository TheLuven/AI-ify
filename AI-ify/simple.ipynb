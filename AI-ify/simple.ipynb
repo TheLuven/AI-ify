{
 "cells": [
  {
   "metadata": {},
   "cell_type": "markdown",
   "source": "",
   "id": "88ef5d4bb84be22e"
  },
  {
   "metadata": {
    "ExecuteTime": {
     "end_time": "2024-12-04T13:50:57.628247Z",
     "start_time": "2024-12-04T13:50:57.623573Z"
    }
   },
   "cell_type": "code",
   "source": [
    "import numpy as np\n",
    "import pandas as pd\n",
    "\n",
    "import seaborn as sns\n",
    "import plotly.express as px\n",
    "import matplotlib.pyplot as plt\n",
    "from numpy.f2py.auxfuncs import throw_error\n",
    "\n",
    "from sklearn.cluster import KMeans\n",
    "from sklearn.preprocessing import StandardScaler\n",
    "from sklearn.pipeline import Pipeline\n",
    "from sklearn.manifold import TSNE\n",
    "from sklearn.decomposition import PCA\n",
    "from sklearn.metrics import euclidean_distances\n",
    "from scipy.spatial.distance import cdist\n",
    "\n",
    "import warnings\n",
    "\n"
   ],
   "id": "7557b5a135b01b57",
   "outputs": [],
   "execution_count": 36
  },
  {
   "metadata": {},
   "cell_type": "markdown",
   "source": "### Création de l'authentification API Spotify",
   "id": "dfce22696e6df403"
  },
  {
   "metadata": {
    "ExecuteTime": {
     "end_time": "2024-12-04T13:50:57.664180Z",
     "start_time": "2024-12-04T13:50:57.657258Z"
    }
   },
   "cell_type": "code",
   "source": [
    "import spotipy\n",
    "from spotipy.oauth2 import SpotifyOAuth\n",
    "\n",
    "SPOTIFY_CLIENT_ID = \"ed9ece4a286d42f1aa834c82bed1f95e\"\n",
    "SPOTIFY_CLIENT_SECRET = \"e1f250bb36914f3c9235c88df325eff6\"\n",
    "sp = spotipy.Spotify(auth_manager=SpotifyOAuth(\n",
    "    client_id=SPOTIFY_CLIENT_ID,\n",
    "    client_secret=SPOTIFY_CLIENT_SECRET,\n",
    "    redirect_uri=\"http://localhost:8000/callback\",\n",
    "    scope=\"user-top-read playlist-read-private user-library-read playlist-modify-public playlist-modify-private\"\n",
    "))"
   ],
   "id": "7c2db8016b1fa492",
   "outputs": [],
   "execution_count": 37
  },
  {
   "metadata": {},
   "cell_type": "markdown",
   "source": "### Get the user's top tracks",
   "id": "7602691844521b80"
  },
  {
   "metadata": {
    "ExecuteTime": {
     "end_time": "2024-12-04T13:55:31.928686Z",
     "start_time": "2024-12-04T13:55:30.954564Z"
    }
   },
   "cell_type": "code",
   "source": [
    "top_tracks = sp.current_user_top_tracks(limit=50, time_range='long_term')\n",
    "\n",
    "print(\"Your top tracks:\")\n",
    "\n",
    "for idx, track in enumerate(top_tracks['items']):\n",
    "    print(f\"{idx + 1}: {track['name']} by {track['artists'][0]['name']}\")\n",
    "    "
   ],
   "id": "5859b72338e8677e",
   "outputs": [
    {
     "name": "stdout",
     "output_type": "stream",
     "text": [
      "Your top tracks:\n",
      "1: Where Is My Mind? - 2007 Remaster by Pixies\n",
      "2: Jocelyn Flores by XXXTENTACION\n",
      "3: Falling Down - Bonus Track by Lil Peep\n",
      "4: Teardrop by Massive Attack\n",
      "5: The Night We Met by Lord Huron\n",
      "6: Évidemment by Lomepal\n",
      "7: In This Dark Time by Aime Simone\n",
      "8: death bed (coffee for your head) by Powfu\n",
      "9: Paradise Circus by Massive Attack\n",
      "10: The Seed by AURORA\n",
      "11: Take Me To Church by Hozier\n",
      "12: Reactor by Woodkid\n",
      "13: Hasarder by Lomepal\n",
      "14: 7 Years by Lukas Graham\n",
      "15: Way down We Go by KALEO\n",
      "16: San by Orelsan\n",
      "17: Trop beau by Lomepal\n",
      "18: Another Love by Tom Odell\n",
      "19: Rip X by iamjakehill\n",
      "20: Lucid Dreams by Juice WRLD\n",
      "21: Where's My Love by SYML\n",
      "22: Sundance by Népal\n",
      "23: Sorry by Halsey\n",
      "24: How to Save a Life by The Fray\n",
      "25: 505 by Arctic Monkeys\n",
      "26: Runaway by AURORA\n",
      "27: Flash by Lomepal\n",
      "28: Nique les clones, Pt. II by Nekfeu\n",
      "29: Guns for Hire (from the series Arcane League of Legends) by Woodkid\n",
      "30: Good News by Mac Miller\n",
      "31: Jour meilleur by Orelsan\n",
      "32: Si facile by Casseurs Flowters\n",
      "33: YEAH RIGHT by Joji\n",
      "34: The Most Beautiful Boy - Felsmann + Tiley Reinterpretation by The Irrepressibles\n",
      "35: Crossfader by Népal\n",
      "36: Avant tu riais by Nekfeu\n",
      "37: I Love You by The Post Nobles\n",
      "38: Feel by Robbie Williams\n",
      "39: Atlantis by Seafret\n",
      "40: Can I Exist by MISSIO\n",
      "41: Philadelphia by alt-J\n",
      "42: Trajectoire by Népal\n",
      "43: Cheddar by Népal\n",
      "44: Sparks by Coldplay\n",
      "45: Roxanne by The Police\n",
      "46: Poznań by Low Roar\n",
      "47: It's Ok by Tom Rosenthal\n",
      "48: Mystery of Love by Sufjan Stevens\n",
      "49: Clocks by Coldplay\n",
      "50: Sign of the Times by Harry Styles\n"
     ]
    }
   ],
   "execution_count": 45
  },
  {
   "metadata": {},
   "cell_type": "markdown",
   "source": "### Get the track IDs to fetch audio features",
   "id": "95db3ec2956adcd3"
  },
  {
   "metadata": {
    "ExecuteTime": {
     "end_time": "2024-12-04T13:55:39.446251Z",
     "start_time": "2024-12-04T13:55:39.442831Z"
    }
   },
   "cell_type": "code",
   "source": [
    "track_ids = [track['id'] for track in top_tracks['items']]\n",
    "\n",
    "print(f\"Track IDs: {track_ids}\")"
   ],
   "id": "b95fbf4214ff17b0",
   "outputs": [
    {
     "name": "stdout",
     "output_type": "stream",
     "text": [
      "Track IDs: ['7wCmS9TTVUcIhRalDYFgPy', '7m9OqQk4RVRkw9JJdeAw96', '4jvjzW7Hm0yK4LvvE0Paz9', '67Hna13dNDkZvBpTXRIaOJ', '3hRV0jL3vUpRrcy398teAU', '43yYuYeSOOupBHOkH9pRtF', '2tVJpUamLfNdUI7SiyPIFF', '7eJMfftS33KTjuF7lTsMCx', '2BndJYJQ17UcEeUFJP5JmY', '16tvIGzCNfRLVbm8G39DDo', '3dYD57lRAUcMHufyqn9GcI', '020srIDHnOnzyIhzGTcp7s', '6V40xLcDlYwZpz3oKIVNhL', '0VQjTLPG8l3egUHmIxe265', '0y1QJc3SJVPKJ1OvFmFqe6', '36SHbxigbf4iSCHdQVgy6V', '4WB9OeauHXnGOMUK4s80gM', '7jtQIBanIiJOMS6RyCx6jZ', '0j2BydmlwcMqffV08hFDyI', '285pBltuF7vW8TeWk8hdRR', '1B62o4CbdL9ckGvwsz2cgn', '3CBjC9bcb5MzAnP4Hu9SVL', '44n97yHySt0Z9rqPaXgjCK', '5fVZC9GiM4e8vu99W0Xf6J', '0BxE4FqsDD1Ot4YuBXwAPp', '1WKOnYtM6HtzYvEJlSEIv5', '3EjJfMN67Bcv3FCGR9UgBB', '67obelIiEq3vhpkolCCzZR', '2H3HPGuPyhcbg5AqoQ4BWr', '1DWZUa5Mzf2BwzpHtgbHPY', '6VOUfCrjmxH62oijWgbC6O', '7GfmLz1shp0aMwkPYHan0y', '1VGzxJnVQND7Cg5H5wGj14', '54fap9q6JOH7xNJBEfJch6', '6cT2ovEBYIdVIdjRM532dp', '62w3djsCFX85c5V6qfsI7Y', '5tP7eNuBiAPCElikyAL8h0', '2Ms33RTRCT6gArrpcrPxmo', '1Fid2jjqsHViMX6xNH70hE', '1PfstIZqhC77Xpctr80Urv', '5gtCLYP5MBUjehk0xWs2vH', '5URRkOSTiK6ptNimcb3mDl', '6NH6WJm7i8kRP5Zi5Z6Hvb', '7D0RhFcb3CrfPuTJ0obrod', '3EYOJ48Et32uATr9ZmLnAo', '3660jVthm40vdeB5YBSwdD', '2Iyfw8YfKruAagJwGc4G07', '5GbVzc6Ex5LYlLJqzRQhuy', '0BCPKOYdS2jbQ8iyB56Zns', '5Ohxk2dO5COHF1krpoPigN']\n"
     ]
    }
   ],
   "execution_count": 46
  },
  {
   "metadata": {},
   "cell_type": "markdown",
   "source": "### Load data_appended dataset and fetch the top tracks using ids",
   "id": "268f8e22a9ddbc53"
  },
  {
   "metadata": {
    "ExecuteTime": {
     "end_time": "2024-12-04T14:08:01.095721Z",
     "start_time": "2024-12-04T14:08:00.383756Z"
    }
   },
   "cell_type": "code",
   "source": [
    "data = pd.read_csv(\"data/data_appended.csv\")\n",
    "\n",
    "top_tracks_data = data[data['id'].isin(track_ids)]\n",
    "\n",
    "print(\"Top tracks data :\")\n",
    "print(top_tracks_data)\n",
    "\n",
    "print(\"Tracks that are not in top track :\")\n",
    "for idx,track in enumerate(top_tracks['items']):\n",
    "    if track['id'] not in top_tracks_data['id'].values:\n",
    "        print(f\"{idx}: {track['name']} by {track['artists'][0]['name']}\")"
   ],
   "id": "ce014ee55cb6089e",
   "outputs": [
    {
     "name": "stdout",
     "output_type": "stream",
     "text": [
      "Top tracks data :\n",
      "        valence  year  acousticness                       artists  \\\n",
      "11217    0.6630  1978       0.03840                ['The Police']   \n",
      "15298    0.2160  1998       0.01730            ['Massive Attack']   \n",
      "15617    0.1650  2000       0.74800                  ['Coldplay']   \n",
      "16028    0.2550  2002       0.59900                  ['Coldplay']   \n",
      "16609    0.3610  2005       0.26900                  ['The Fray']   \n",
      "18901    0.3370  2016       0.57900                     ['KALEO']   \n",
      "19006    0.4370  2017       0.46900              ['XXXTENTACION']   \n",
      "19045    0.2220  2017       0.02750              ['Harry Styles']   \n",
      "19187    0.3510  2017       0.91300                    ['Halsey']   \n",
      "19207    0.2180  2018       0.34900                ['Juice WRLD']   \n",
      "19223    0.2730  2018       0.01750  ['Lil Peep', 'XXXTENTACION']   \n",
      "19245    0.2040  2018       0.61900                      ['Joji']   \n",
      "19645    0.3480  2020       0.73100      ['Powfu', 'beabadoobee']   \n",
      "35061    0.2950  2002       0.01450           ['Robbie Williams']   \n",
      "37372    0.0607  2014       0.87100             ['Tom Rosenthal']   \n",
      "37777    0.2130  2016       0.05290                   ['Seafret']   \n",
      "38548    0.2410  2020       0.85300                ['Mac Miller']   \n",
      "73066    0.2970  2010       0.41400            ['Massive Attack']   \n",
      "172765   0.2500     0       0.02040                        Pixies   \n",
      "198057   0.6490     0       0.41500                   iamjakehill   \n",
      "198729   0.1020     0       0.96900                    Lord Huron   \n",
      "202087   0.2480     0       0.00287                Arctic Monkeys   \n",
      "243131   0.4370     0       0.63400                        Hozier   \n",
      "243154   0.2380     0       0.94000                Sufjan Stevens   \n",
      "\n",
      "        danceability  duration_ms  energy explicit                      id  \\\n",
      "11217          0.618     191947.0   0.748        0  3EYOJ48Et32uATr9ZmLnAo   \n",
      "15298          0.615     330773.0   0.419        0  67Hna13dNDkZvBpTXRIaOJ   \n",
      "15617          0.371     227093.0   0.268        0  7D0RhFcb3CrfPuTJ0obrod   \n",
      "16028          0.577     307880.0   0.749        0  0BCPKOYdS2jbQ8iyB56Zns   \n",
      "16609          0.640     262533.0   0.743        0  5fVZC9GiM4e8vu99W0Xf6J   \n",
      "18901          0.489     213707.0   0.505        0  0y1QJc3SJVPKJ1OvFmFqe6   \n",
      "19006          0.872     119133.0   0.391        1  7m9OqQk4RVRkw9JJdeAw96   \n",
      "19045          0.516     340707.0   0.595        0  5Ohxk2dO5COHF1krpoPigN   \n",
      "19187          0.513     220541.0   0.250        0  44n97yHySt0Z9rqPaXgjCK   \n",
      "19207          0.511     239836.0   0.566        1  285pBltuF7vW8TeWk8hdRR   \n",
      "19223          0.669     196400.0   0.574        1  4jvjzW7Hm0yK4LvvE0Paz9   \n",
      "19245          0.672     174358.0   0.588        1  1VGzxJnVQND7Cg5H5wGj14   \n",
      "19645          0.726     173333.0   0.431        0  7eJMfftS33KTjuF7lTsMCx   \n",
      "35061          0.599     263867.0   0.732        0  2Ms33RTRCT6gArrpcrPxmo   \n",
      "37372          0.561     191352.0   0.111        0  2Iyfw8YfKruAagJwGc4G07   \n",
      "37777          0.400     229173.0   0.479        0  1Fid2jjqsHViMX6xNH70hE   \n",
      "38548          0.794     342040.0   0.320        0  1DWZUa5Mzf2BwzpHtgbHPY   \n",
      "73066          0.810     297775.0   0.591        0  2BndJYJQ17UcEeUFJP5JmY   \n",
      "172765         0.519     234973.0   0.441    False  7wCmS9TTVUcIhRalDYFgPy   \n",
      "198057         0.670     159466.0   0.366     True  0j2BydmlwcMqffV08hFDyI   \n",
      "198729         0.544     208211.0   0.369    False  3hRV0jL3vUpRrcy398teAU   \n",
      "202087         0.526     253586.0   0.866    False  0BxE4FqsDD1Ot4YuBXwAPp   \n",
      "243131         0.566     241688.0   0.664    False  3dYD57lRAUcMHufyqn9GcI   \n",
      "243154         0.365     248960.0   0.273    False  5GbVzc6Ex5LYlLJqzRQhuy   \n",
      "\n",
      "        instrumentalness   key  liveness  loudness  mode  \\\n",
      "11217           0.000004   0.0    0.0473    -8.905   1.0   \n",
      "15298           0.497000  11.0    0.1350    -8.800   0.0   \n",
      "15617           0.051700   1.0    0.1040   -10.506   1.0   \n",
      "16028           0.011500   5.0    0.1830    -7.215   0.0   \n",
      "16609           0.000000  10.0    0.1010    -4.080   1.0   \n",
      "18901           0.000333  10.0    0.1040    -8.022   0.0   \n",
      "19006           0.000004   0.0    0.2970    -9.144   0.0   \n",
      "19045           0.000000   5.0    0.1090    -4.630   1.0   \n",
      "19187           0.000000   5.0    0.1170    -9.376   0.0   \n",
      "19207           0.000000   6.0    0.3400    -7.230   0.0   \n",
      "19223           0.002940   4.0    0.1460    -6.442   0.0   \n",
      "19245           0.241000   1.0    0.0992    -9.573   1.0   \n",
      "19645           0.000000   8.0    0.6960    -8.765   0.0   \n",
      "35061           0.000467   5.0    0.1430    -6.843   1.0   \n",
      "37372           0.205000   8.0    0.1030   -15.110   0.0   \n",
      "37777           0.000002   8.0    0.1150    -7.989   0.0   \n",
      "38548           0.134000   1.0    0.1120   -12.920   0.0   \n",
      "73066           0.799000   8.0    0.0720   -13.385   1.0   \n",
      "172765          0.000453   4.0    0.0760   -14.178   1.0   \n",
      "198057          0.000000   1.0    0.3370   -12.021   1.0   \n",
      "198729          0.279000   2.0    0.6390    -9.514   1.0   \n",
      "202087          0.000078   0.0    0.0945    -5.822   1.0   \n",
      "243131          0.000000   4.0    0.1160    -5.303   0.0   \n",
      "243154          0.431000   4.0    0.1090   -16.526   0.0   \n",
      "\n",
      "                                    name  popularity  speechiness    tempo  \\\n",
      "11217                            Roxanne        76.0       0.3580  134.114   \n",
      "15298                           Teardrop        70.0       0.0395   76.997   \n",
      "15617                             Sparks        73.0       0.0281  102.617   \n",
      "16028                             Clocks        77.0       0.0279  130.970   \n",
      "16609                 How to Save a Life        81.0       0.0379  122.035   \n",
      "18901                     Way down We Go        78.0       0.1170  163.255   \n",
      "19006                     Jocelyn Flores        87.0       0.2420  134.021   \n",
      "19045                  Sign of the Times        83.0       0.0313  119.972   \n",
      "19187                              Sorry        77.0       0.0367   74.103   \n",
      "19207                       Lucid Dreams        89.0       0.2000   83.903   \n",
      "19223         Falling Down - Bonus Track        84.0       0.0286  120.013   \n",
      "19245                         YEAH RIGHT        81.0       0.1330  169.033   \n",
      "19645   death bed (coffee for your head)        90.0       0.1350  144.026   \n",
      "35061                               Feel        73.0       0.0260   97.997   \n",
      "37372                            It's Ok        70.0       0.0324  148.191   \n",
      "37777                           Atlantis        73.0       0.0308  166.159   \n",
      "38548                          Good News        77.0       0.1730  174.088   \n",
      "73066                    Paradise Circus        62.0       0.0638  136.028   \n",
      "172765    Where Is My Mind? - Remastered        79.0       0.0353   81.334   \n",
      "198057                             Rip X        65.0       0.2290   63.116   \n",
      "198729                  The Night We Met        83.0       0.0380   87.010   \n",
      "202087                               505        88.0       0.0568  140.266   \n",
      "243131                 Take Me To Church        83.0       0.0464  128.945   \n",
      "243154                   Mystery of Love        71.0       0.0380  132.285   \n",
      "\n",
      "                    genre  \n",
      "11217             unknown  \n",
      "15298             unknown  \n",
      "15617             unknown  \n",
      "16028             unknown  \n",
      "16609             unknown  \n",
      "18901             unknown  \n",
      "19006             unknown  \n",
      "19045             unknown  \n",
      "19187             unknown  \n",
      "19207             unknown  \n",
      "19223             unknown  \n",
      "19245             unknown  \n",
      "19645             unknown  \n",
      "35061             unknown  \n",
      "37372             unknown  \n",
      "37777             unknown  \n",
      "38548             unknown  \n",
      "73066             unknown  \n",
      "172765           alt-rock  \n",
      "198057                emo  \n",
      "198729               folk  \n",
      "202087             garage  \n",
      "243131  singer-songwriter  \n",
      "243154  singer-songwriter  \n",
      "Tracks that are not in top track :\n",
      "5: Évidemment by Lomepal\n",
      "6: In This Dark Time by Aime Simone\n",
      "9: The Seed by AURORA\n",
      "11: Reactor by Woodkid\n",
      "12: Hasarder by Lomepal\n",
      "13: 7 Years by Lukas Graham\n",
      "15: San by Orelsan\n",
      "16: Trop beau by Lomepal\n",
      "17: Another Love by Tom Odell\n",
      "20: Where's My Love by SYML\n",
      "21: Sundance by Népal\n",
      "25: Runaway by AURORA\n",
      "26: Flash by Lomepal\n",
      "27: Nique les clones, Pt. II by Nekfeu\n",
      "28: Guns for Hire (from the series Arcane League of Legends) by Woodkid\n",
      "30: Jour meilleur by Orelsan\n",
      "31: Si facile by Casseurs Flowters\n",
      "33: The Most Beautiful Boy - Felsmann + Tiley Reinterpretation by The Irrepressibles\n",
      "34: Crossfader by Népal\n",
      "35: Avant tu riais by Nekfeu\n",
      "36: I Love You by The Post Nobles\n",
      "39: Can I Exist by MISSIO\n",
      "40: Philadelphia by alt-J\n",
      "41: Trajectoire by Népal\n",
      "42: Cheddar by Népal\n",
      "45: Poznań by Low Roar\n"
     ]
    },
    {
     "name": "stderr",
     "output_type": "stream",
     "text": [
      "/var/folders/4v/kbc66d2n3_38tlh4_ggwywxr0000gp/T/ipykernel_17509/2072300795.py:1: DtypeWarning: Columns (7) have mixed types. Specify dtype option on import or set low_memory=False.\n",
      "  data = pd.read_csv(\"data/data_appended.csv\")\n"
     ]
    }
   ],
   "execution_count": 55
  },
  {
   "metadata": {
    "ExecuteTime": {
     "end_time": "2024-12-04T13:50:58.562962Z",
     "start_time": "2024-12-04T13:50:58.543381Z"
    }
   },
   "cell_type": "code",
   "source": [
    "#Throw an error to stop the execution here\n",
    "throw_error()"
   ],
   "id": "f4af99c8a4fc6f87",
   "outputs": [
    {
     "ename": "TypeError",
     "evalue": "throw_error.__init__() missing 1 required positional argument: 'mess'",
     "output_type": "error",
     "traceback": [
      "\u001B[0;31m---------------------------------------------------------------------------\u001B[0m",
      "\u001B[0;31mTypeError\u001B[0m                                 Traceback (most recent call last)",
      "Cell \u001B[0;32mIn[40], line 2\u001B[0m\n\u001B[1;32m      1\u001B[0m \u001B[38;5;66;03m#Throw an error to stop the execution here\u001B[39;00m\n\u001B[0;32m----> 2\u001B[0m \u001B[43mthrow_error\u001B[49m\u001B[43m(\u001B[49m\u001B[43m)\u001B[49m\n",
      "\u001B[0;31mTypeError\u001B[0m: throw_error.__init__() missing 1 required positional argument: 'mess'"
     ]
    }
   ],
   "execution_count": 40
  },
  {
   "metadata": {},
   "cell_type": "markdown",
   "source": "### Create Spotify playlist",
   "id": "db6769386773b483"
  },
  {
   "metadata": {
    "ExecuteTime": {
     "end_time": "2024-12-04T13:50:58.616507Z",
     "start_time": "2024-12-04T10:43:02.922230Z"
    }
   },
   "cell_type": "code",
   "source": [
    "# Get user ID (required to create a playlist)\n",
    "user_id = sp.current_user()['id']\n",
    "\n",
    "# Create a new playlist\n",
    "playlist_name = \"AI-ify Playlist\"\n",
    "playlist_description = \"This is a playlist created using AI-ify.\"\n",
    "playlist = sp.user_playlist_create(user_id, playlist_name, public=True, description=playlist_description)\n",
    "\n",
    "# Add tracks to the playlist\n",
    "sp.playlist_add_items(playlist['id'], track_ids)"
   ],
   "id": "6c021437e23baf06",
   "outputs": [
    {
     "data": {
      "text/plain": [
       "{'snapshot_id': 'AAAAAnOtBCvDWAOs75w0WfvtnizJmFpR'}"
      ]
     },
     "execution_count": 29,
     "metadata": {},
     "output_type": "execute_result"
    }
   ],
   "execution_count": 29
  }
 ],
 "metadata": {
  "kernelspec": {
   "display_name": "Python 3",
   "language": "python",
   "name": "python3"
  },
  "language_info": {
   "codemirror_mode": {
    "name": "ipython",
    "version": 2
   },
   "file_extension": ".py",
   "mimetype": "text/x-python",
   "name": "python",
   "nbconvert_exporter": "python",
   "pygments_lexer": "ipython2",
   "version": "2.7.6"
  }
 },
 "nbformat": 4,
 "nbformat_minor": 5
}
