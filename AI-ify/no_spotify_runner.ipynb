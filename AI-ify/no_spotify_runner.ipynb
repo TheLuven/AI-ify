{
 "cells": [
  {
   "metadata": {},
   "cell_type": "markdown",
   "source": "",
   "id": "88ef5d4bb84be22e"
  },
  {
   "metadata": {
    "ExecuteTime": {
     "end_time": "2025-01-07T13:57:19.517785Z",
     "start_time": "2025-01-07T13:57:18.963182Z"
    }
   },
   "cell_type": "code",
   "source": [
    "import pandas as pd\n",
    "from numpy.f2py.auxfuncs import throw_error"
   ],
   "id": "7557b5a135b01b57",
   "outputs": [],
   "execution_count": 1
  },
  {
   "metadata": {},
   "cell_type": "markdown",
   "source": "### Get the user's top tracks",
   "id": "7602691844521b80"
  },
  {
   "metadata": {
    "ExecuteTime": {
     "end_time": "2025-01-07T14:13:41.476568Z",
     "start_time": "2025-01-07T14:13:41.469752Z"
    }
   },
   "cell_type": "code",
   "source": [
    "top_tracks = [\n",
    "    '4sEq16gV91gLn4xgfbDPQt', '6JTFR9jAJ9z8jUiGo2q1PV', '0w6lsLBvhtGcqMYA7MB7r6',\n",
    "    '5NV2E7EClr01hmQYLyoDOr', '2ap3iiAG2VJ027m3HtleZL', '3jBIofMaOimfUgK4E3hBGB',\n",
    "    '6gpfhniHLBtdj5E1a1VM1S', '3jjsRKEsF42ccXf8kWR3nu', '27gxyjy1stzbiaYUJP719r',\n",
    "    '479TjlDwB0JAyPjZjxFah8', '3RXT1XhZSOgkD2pjzXBLHj', '2hUn92NSiQc3MBKYjhgUgc',\n",
    "    '2Yy5cJk1eDZ7rRAND119W1', '17Kr5yFiPWlfWJo3c65sE1', '09MdPU11JSdnJGfAGlHHf3',\n",
    "    '7wBoSW48q4ZFe8qSdozqqi', '4f5TKGvkD4TkTjr61GKNAG', '363mqittn6QH7w5qMmsEB0',\n",
    "    '6btgTbK2UslfSu0qjTEXQm', '3UYc8Rc0hskiAzyvczieGl', '2INs1g6Vfcxo3BWxfoG51U',\n",
    "    '3iXhLi33EpUfcOwasC8un1', '1BuOKZA8fokaiEVqBkIHF1', '4RPBN897qKd3wEsxmtSUqd',\n",
    "    '3vkCueOmm7xQDoJ17W1Pm3', '5KuU8cuhCGJRmAUZsqUBRE', '7rzjdyHmqwloCA16UBdDgg',\n",
    "    '2sMxeHjS9rQh9gB92rcRF9', '1i5nz3R4l37hQ2NmccbXxZ', '3BaGyruhFKKP6f8e2koRri',\n",
    "    '6w2Kgprot9BesN76ka2NwK', '2J0AJV5DsKyDuX1qEgJngB', '5cTitJ7nqx8eeJCNIgdHjp',\n",
    "    '6DPrYPPGYK218iVIZDix3i', '4Aam8WAOsj5CwZwYcjSCWD', '6mlYa6FsNSfpBtr8axmVoc',\n",
    "    '30d0q6kt1BIfwAQUCAfxVQ', '6cryNSlBitzoR2Y5HROrii', '2qxmye6gAegTMjLKEBoR3d',\n",
    "    '5IkofYa6Ac1plKIf6nYkDE', '6bImukrYG17iVAr8aa78F8', '2zvseOSbmKBuYBOe264UYm',\n",
    "    '0Vi7aOPdOU683VUfZ79c0d', '2HimJmsy7QZOauXXvlCd2m', '45KqDHTOJtIM53QR1gPGTa',\n",
    "    '0FNFkTfptDRi0AFaulrpOY', '1A3eBtA4ath65H7PFySd6l', '49kWhmgy3QXiUK9d6UHmEF',\n",
    "    '5UgUGPknu6JRgawaJAO9rX', '0tTO8sPwWzlEh2CzUMFZE2'\n",
    "]\n",
    "\n",
    "print(\"Top track IDs:\")\n",
    "print(top_tracks)"
   ],
   "id": "b95fbf4214ff17b0",
   "outputs": [
    {
     "name": "stdout",
     "output_type": "stream",
     "text": [
      "Top track IDs:\n",
      "['4sEq16gV91gLn4xgfbDPQt', '6JTFR9jAJ9z8jUiGo2q1PV', '0w6lsLBvhtGcqMYA7MB7r6', '5NV2E7EClr01hmQYLyoDOr', '2ap3iiAG2VJ027m3HtleZL', '3jBIofMaOimfUgK4E3hBGB', '6gpfhniHLBtdj5E1a1VM1S', '3jjsRKEsF42ccXf8kWR3nu', '27gxyjy1stzbiaYUJP719r', '479TjlDwB0JAyPjZjxFah8', '3RXT1XhZSOgkD2pjzXBLHj', '2hUn92NSiQc3MBKYjhgUgc', '2Yy5cJk1eDZ7rRAND119W1', '17Kr5yFiPWlfWJo3c65sE1', '09MdPU11JSdnJGfAGlHHf3', '7wBoSW48q4ZFe8qSdozqqi', '4f5TKGvkD4TkTjr61GKNAG', '363mqittn6QH7w5qMmsEB0', '6btgTbK2UslfSu0qjTEXQm', '3UYc8Rc0hskiAzyvczieGl', '2INs1g6Vfcxo3BWxfoG51U', '3iXhLi33EpUfcOwasC8un1', '1BuOKZA8fokaiEVqBkIHF1', '4RPBN897qKd3wEsxmtSUqd', '3vkCueOmm7xQDoJ17W1Pm3', '5KuU8cuhCGJRmAUZsqUBRE', '7rzjdyHmqwloCA16UBdDgg', '2sMxeHjS9rQh9gB92rcRF9', '1i5nz3R4l37hQ2NmccbXxZ', '3BaGyruhFKKP6f8e2koRri', '6w2Kgprot9BesN76ka2NwK', '2J0AJV5DsKyDuX1qEgJngB', '5cTitJ7nqx8eeJCNIgdHjp', '6DPrYPPGYK218iVIZDix3i', '4Aam8WAOsj5CwZwYcjSCWD', '6mlYa6FsNSfpBtr8axmVoc', '30d0q6kt1BIfwAQUCAfxVQ', '6cryNSlBitzoR2Y5HROrii', '2qxmye6gAegTMjLKEBoR3d', '5IkofYa6Ac1plKIf6nYkDE', '6bImukrYG17iVAr8aa78F8', '2zvseOSbmKBuYBOe264UYm', '0Vi7aOPdOU683VUfZ79c0d', '2HimJmsy7QZOauXXvlCd2m', '45KqDHTOJtIM53QR1gPGTa', '0FNFkTfptDRi0AFaulrpOY', '1A3eBtA4ath65H7PFySd6l', '49kWhmgy3QXiUK9d6UHmEF', '5UgUGPknu6JRgawaJAO9rX', '0tTO8sPwWzlEh2CzUMFZE2']\n"
     ]
    }
   ],
   "execution_count": 3
  },
  {
   "metadata": {},
   "cell_type": "markdown",
   "source": "### Load data_appended dataset and fetch the top tracks using ids",
   "id": "268f8e22a9ddbc53"
  },
  {
   "metadata": {
    "ExecuteTime": {
     "end_time": "2025-01-07T14:15:04.524709Z",
     "start_time": "2025-01-07T14:15:03.986007Z"
    }
   },
   "cell_type": "code",
   "source": [
    "data = pd.read_csv(\"data/data_appended.csv\")\n",
    "\n",
    "top_tracks_data = data[data['id'].isin(top_tracks)]\n",
    "\n",
    "print(\"Top tracks data :\")\n",
    "print(\"Found a total of {} tracks\".format(len(top_tracks_data)))\n",
    "print(top_tracks_data)\n",
    "\n",
    "track_to_analyse = top_tracks_data['id'].tolist()\n",
    "\n",
    "print(track_to_analyse)"
   ],
   "id": "ce014ee55cb6089e",
   "outputs": [
    {
     "name": "stdout",
     "output_type": "stream",
     "text": [
      "Top tracks data :\n",
      "Found a total of 3 tracks\n",
      "        valence  year  acousticness            artists  danceability  \\\n",
      "19263     0.483  2018        0.7400  ['Alec Benjamin']         0.652   \n",
      "200896    0.582     0        0.1330          ['Rilès']         0.670   \n",
      "215676    0.567     0        0.0092         ['Mitski']         0.613   \n",
      "\n",
      "        duration_ms  energy  explicit                      id  \\\n",
      "19263      169354.0   0.557         0  2qxmye6gAegTMjLKEBoR3d   \n",
      "200896     182044.0   0.630         1  45KqDHTOJtIM53QR1gPGTa   \n",
      "215676     128198.0   0.822         0  3jjsRKEsF42ccXf8kWR3nu   \n",
      "\n",
      "        instrumentalness  key  liveness  loudness  mode  \\\n",
      "19263              0.000  1.0     0.124    -5.714   0.0   \n",
      "200896             0.000  1.0     0.118    -3.651   1.0   \n",
      "215676             0.506  9.0     0.429    -4.087   1.0   \n",
      "\n",
      "                         name  popularity  speechiness    tempo    genre  \n",
      "19263      Let Me Down Slowly        84.0       0.0318  150.073  ['pop']  \n",
      "200896               Brothers        58.0       0.0694   86.025       []  \n",
      "215676  Washing Machine Heart        83.0       0.0260  105.997       []  \n",
      "['2qxmye6gAegTMjLKEBoR3d', '45KqDHTOJtIM53QR1gPGTa', '3jjsRKEsF42ccXf8kWR3nu']\n"
     ]
    }
   ],
   "execution_count": 5
  },
  {
   "metadata": {
    "ExecuteTime": {
     "end_time": "2024-12-04T13:50:58.562962Z",
     "start_time": "2024-12-04T13:50:58.543381Z"
    }
   },
   "cell_type": "code",
   "source": [
    "#Throw an error to stop the execution here\n",
    "throw_error()"
   ],
   "id": "f4af99c8a4fc6f87",
   "outputs": [
    {
     "ename": "TypeError",
     "evalue": "throw_error.__init__() missing 1 required positional argument: 'mess'",
     "output_type": "error",
     "traceback": [
      "\u001B[0;31m---------------------------------------------------------------------------\u001B[0m",
      "\u001B[0;31mTypeError\u001B[0m                                 Traceback (most recent call last)",
      "Cell \u001B[0;32mIn[40], line 2\u001B[0m\n\u001B[1;32m      1\u001B[0m \u001B[38;5;66;03m#Throw an error to stop the execution here\u001B[39;00m\n\u001B[0;32m----> 2\u001B[0m \u001B[43mthrow_error\u001B[49m\u001B[43m(\u001B[49m\u001B[43m)\u001B[49m\n",
      "\u001B[0;31mTypeError\u001B[0m: throw_error.__init__() missing 1 required positional argument: 'mess'"
     ]
    }
   ],
   "execution_count": 40
  },
  {
   "metadata": {
    "ExecuteTime": {
     "end_time": "2025-01-07T14:15:10.894675Z",
     "start_time": "2025-01-07T14:15:08.947034Z"
    }
   },
   "cell_type": "code",
   "source": [
    "from useKmean import FindSimilarSong\n",
    "\n",
    "f = FindSimilarSong()\n",
    "result = f.find_songs_for_playlist(track_to_analyse)\n",
    "\n",
    "print(result)\n"
   ],
   "id": "b5168c3867ae2a70",
   "outputs": [
    {
     "name": "stderr",
     "output_type": "stream",
     "text": [
      "C:\\Users\\Victor\\miniconda3\\envs\\TrainingProject\\lib\\site-packages\\sklearn\\base.py:348: InconsistentVersionWarning: Trying to unpickle estimator KMeans from version 1.5.2 when using version 1.3.2. This might lead to breaking code or invalid results. Use at your own risk. For more info please refer to:\n",
      "https://scikit-learn.org/stable/model_persistence.html#security-maintainability-limitations\n",
      "  warnings.warn(\n"
     ]
    },
    {
     "name": "stdout",
     "output_type": "stream",
     "text": [
      "['1roCmBlcpV7LzsmB7pmCyt', '7lGhrfren1Zpwh0ds0zuUg', '4R2kfaDFhslZEMJqAFNpdd', '70wFZWY6cKFxp3Qcq8uxH4', '0ZAiqymvbQUZAh9y6ZT3Rm', '06KyNuuMOX1ROXRhj787tj', '0zlGnseLGzRIBA0TJcb3Bo', '6bTbMMEShyGyrcuIwtBlpA', '7z3dPHwGxeK4fD6fYFDwiS', '0IudGhdeJZwJ0Ps6ndtQDt', '2hDMBVN3P47GEhH5VtmA6m', '3THVNKs3bdQekA02kK1hWD', '0hTrQoqDmFnA4S1PC265e1', '2ajUl8lBLAXOXNpG4NEPMz', '5dn6QANKbf76pANGjMBida', '3dYD57lRAUcMHufyqn9GcI', '1v8NfOckFEnck9gp7iyetm', '37FXw5QGFN7uwwsLy8uAc0', '1NCuYqMc8hKMb4cpNTcJbD', '6H3kDe7CGoWYBabAeVWGiD', '0YlmsOyEK9GL5In154LkID', '3PUIguYpwKFXmfGD6uU7Jl', '0M4tj5zmIrL4JpJUcE8D1F', '0xdYzkbBBfTevSyOJqWUSX', '2g7uRZ68eLtv74XrxgdT2q', '6aIAuKNU8JlVaTmoCYYN6U', '52qH79XktzCUPkN0dlRbUs', '5dRCujBQZQq6dlkCaGDMV0', '7my1wrfnHqssb3mtHEPWrI', '2SuMoyOaAVBg5AzfKyZaKV', '1GIYmwtBbPSHrqcSaukZck', '0SuLAslEMFZAXf0SwY7syi', '4jkZjaZkOCpgk2pqV8Wrw3', '2FqqVHvC4eKrsk97vpMRid', '57Wjcff1bw8TueYvFip4NN', '3qbqWUDl9j09PeBaQ6CZgr', '57mKcbEq7nMqtJ4gqJvWcp', '7yPGXCaeIr1ofJoqp3LeKF', '5s2oLZj9UbpNpo1fsGHaUK', '7wdx4RyIAgjRNoJLhjsnh4', '4Ys8jQvZOISzmp34BsImRf', '1jq28NGw6wdtFKx8MBPy6C', '2mPMFJvQ0v27gVqe5b6nDn', '4Clmg1g8n2yBYG13Z1oSdG', '3S9b5ink1kHrrKql3FdDI2', '6lYdV7rTtv3dVpQ89htlRU', '6kjlvJLh2DBsSQtqVzFh8I', '1t7VssS676p12e1GKx2Rgr', '3FR2w9O5i9q3unY3gyjq6E', '2ThdB23G9Rgf1ExndFGEEg', '2f4AQJ0A6IRWxSxudtzS5k', '5DuaMIvmPyT3oEvuccx6JO', '7xQYVjs4wZNdCwO0EeAWMC', '5lXY6PTuWXOludKy4zDQwM', '1wXuogT7bvqnhuWzDBNOdV', '0xOeB16JDbBJBJKSdHbElT', '4CRpOsjhvgxjF7rQufmyZ1', '0TZejo18HlJ86OrWNsXKnw', '3ow0TQVttXQF8rLckmXgRx', '098ttCNmncrO4YvqWUNMvn']\n"
     ]
    }
   ],
   "execution_count": 6
  },
  {
   "metadata": {},
   "cell_type": "code",
   "outputs": [],
   "execution_count": null,
   "source": "",
   "id": "d6a388159e78c71f"
  }
 ],
 "metadata": {
  "kernelspec": {
   "display_name": "Python 3",
   "language": "python",
   "name": "python3"
  },
  "language_info": {
   "codemirror_mode": {
    "name": "ipython",
    "version": 2
   },
   "file_extension": ".py",
   "mimetype": "text/x-python",
   "name": "python",
   "nbconvert_exporter": "python",
   "pygments_lexer": "ipython2",
   "version": "2.7.6"
  }
 },
 "nbformat": 4,
 "nbformat_minor": 5
}
