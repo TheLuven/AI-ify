{
 "cells": [
  {
   "metadata": {},
   "cell_type": "markdown",
   "source": "## Importation ##",
   "id": "1871012e0e9db4e5"
  },
  {
   "cell_type": "code",
   "id": "initial_id",
   "metadata": {
    "collapsed": true,
    "ExecuteTime": {
     "end_time": "2024-12-04T12:30:23.492327Z",
     "start_time": "2024-12-04T12:30:23.487226Z"
    }
   },
   "source": [
    "import numpy as np\n",
    "import pandas as pd\n",
    "from matplotlib import pyplot as plt\n",
    "from scipy.cluster.hierarchy import linkage, dendrogram\n",
    "from scipy.spatial.distance import squareform\n",
    "from sklearn import manifold\n",
    "from sklearn.decomposition import PCA\n",
    "from sklearn.metrics import euclidean_distances\n",
    "from sklearn.cluster import KMeans\n",
    "from sklearn.metrics import silhouette_score\n",
    "from sklearn.preprocessing import StandardScaler, OneHotEncoder\n",
    "from sklearn.compose import ColumnTransformer\n",
    "from sklearn.pipeline import Pipeline\n",
    "from sklearn.utils import shuffle\n"
   ],
   "outputs": [],
   "execution_count": 26
  },
  {
   "metadata": {},
   "cell_type": "markdown",
   "source": "## data ##",
   "id": "33011082849c3d47"
  },
  {
   "metadata": {
    "ExecuteTime": {
     "end_time": "2024-12-04T12:14:42.429176Z",
     "start_time": "2024-12-04T12:14:41.366179Z"
    }
   },
   "cell_type": "code",
   "source": [
    "data = pd.read_csv(\"AI-ify/data/data.csv\")\n",
    "genre_data = pd.read_csv('AI-ify/data/data_by_genres.csv')\n",
    "year_data = pd.read_csv('AI-ify/data/data_by_year.csv')\n",
    "\n",
    "print(data.values[0])"
   ],
   "id": "e0ef8823fe4322a",
   "outputs": [
    {
     "name": "stdout",
     "output_type": "stream",
     "text": [
      "[0.0594 1921 0.982\n",
      " \"['Sergei Rachmaninoff', 'James Levine', 'Berliner Philharmoniker']\"\n",
      " 0.279 831667 0.211 0 '4BJqT0PrAfrxzMOxytFOIz' 0.878 10 0.665 -20.096 1\n",
      " 'Piano Concerto No. 3 in D Minor, Op. 30: III. Finale. Alla breve' 4\n",
      " '1921' 0.0366 80.954]\n"
     ]
    }
   ],
   "execution_count": 15
  },
  {
   "metadata": {},
   "cell_type": "markdown",
   "source": "## Preprocessing ##",
   "id": "b1fd6538b2f6c588"
  },
  {
   "metadata": {
    "ExecuteTime": {
     "end_time": "2024-12-04T13:17:06.230848Z",
     "start_time": "2024-12-04T13:17:06.203793Z"
    }
   },
   "cell_type": "code",
   "source": [
    "df = pd.DataFrame(data)\n",
    "\n",
    "df.columns = ['valence', 'year', 'acousticness', 'artists', 'danceability', 'duration_ms', 'energy', 'explicit', 'id', 'instrumentalness', 'key', 'liveness', 'loudness', 'mode', 'name', 'popularity', 'release_date', 'speechiness', 'tempo']\n",
    "\n",
    "X = df.drop(columns=['id', 'key', 'name', 'release_date', 'artists'])\n",
    "print(X)\n",
    "\n",
    "# numeric_features = df.select_dtypes(include=['int64', 'float64']).columns\n",
    "# categorical_features = df.select_dtypes(include=['object']).columns\n",
    "# \n",
    "# print(f\"Numeric features: {numeric_features}\")\n",
    "# print(f\"Categorical features: {categorical_features}\")\n",
    "# \n",
    "# # Créer des transformateurs pour les colonnes numériques et catégorielles\n",
    "# numeric_transformer = StandardScaler()\n",
    "# categorical_transformer = OneHotEncoder()\n",
    "# \n",
    "# print(f\"Numeric features: {numeric_features}\")\n",
    "# print(f\"Categorical features: {categorical_features}\")\n",
    "# \n",
    "# preprocessor = ColumnTransformer(\n",
    "#     transformers=[\n",
    "#         ('num', numeric_transformer, numeric_features),\n",
    "#         ('cat', categorical_transformer, categorical_features)\n",
    "#     ])\n",
    "# \n",
    "# print(preprocessor)\n",
    "# \n",
    "# X = preprocessor.fit_transform(df)\n",
    "# print(X)\n",
    "# Compute the dissimilarity matrix\n",
    "#dissimilarity_matrix = euclidean_distances(X)\n",
    "\n",
    "#print(dissimilarity_matrix)"
   ],
   "id": "abaaef5a7519a42a",
   "outputs": [
    {
     "name": "stdout",
     "output_type": "stream",
     "text": [
      "        valence  year  acousticness  danceability  duration_ms  energy  \\\n",
      "0        0.0594  1921       0.98200         0.279       831667   0.211   \n",
      "1        0.9630  1921       0.73200         0.819       180533   0.341   \n",
      "2        0.0394  1921       0.96100         0.328       500062   0.166   \n",
      "3        0.1650  1921       0.96700         0.275       210000   0.309   \n",
      "4        0.2530  1921       0.95700         0.418       166693   0.193   \n",
      "...         ...   ...           ...           ...          ...     ...   \n",
      "170648   0.6080  2020       0.08460         0.786       301714   0.808   \n",
      "170649   0.7340  2020       0.20600         0.717       150654   0.753   \n",
      "170650   0.6370  2020       0.10100         0.634       211280   0.858   \n",
      "170651   0.1950  2020       0.00998         0.671       337147   0.623   \n",
      "170652   0.6420  2020       0.13200         0.856       189507   0.721   \n",
      "\n",
      "        explicit  instrumentalness  liveness  loudness  mode  popularity  \\\n",
      "0              0          0.878000    0.6650   -20.096     1           4   \n",
      "1              0          0.000000    0.1600   -12.441     1           5   \n",
      "2              0          0.913000    0.1010   -14.850     1           5   \n",
      "3              0          0.000028    0.3810    -9.316     1           3   \n",
      "4              0          0.000002    0.2290   -10.096     1           2   \n",
      "...          ...               ...       ...       ...   ...         ...   \n",
      "170648         0          0.000289    0.0822    -3.702     1          72   \n",
      "170649         0          0.000000    0.1010    -6.020     1          68   \n",
      "170650         0          0.000009    0.2580    -2.226     0          76   \n",
      "170651         1          0.000008    0.6430    -7.161     1          70   \n",
      "170652         1          0.004710    0.1820    -4.928     1          74   \n",
      "\n",
      "        speechiness    tempo  \n",
      "0            0.0366   80.954  \n",
      "1            0.4150   60.936  \n",
      "2            0.0339  110.339  \n",
      "3            0.0354  100.109  \n",
      "4            0.0380  101.665  \n",
      "...             ...      ...  \n",
      "170648       0.0881  105.029  \n",
      "170649       0.0605  137.936  \n",
      "170650       0.0809   91.688  \n",
      "170651       0.3080   75.055  \n",
      "170652       0.1080   94.991  \n",
      "\n",
      "[170653 rows x 14 columns]\n"
     ]
    }
   ],
   "execution_count": 38
  },
  {
   "metadata": {},
   "cell_type": "markdown",
   "source": "## Variables ##",
   "id": "40a9e452053b29d"
  },
  {
   "metadata": {
    "ExecuteTime": {
     "end_time": "2024-12-04T13:18:37.401680Z",
     "start_time": "2024-12-04T13:18:37.367933Z"
    }
   },
   "cell_type": "code",
   "source": [
    "#X = preprocessor.fit_transform(df)\n",
    "inertia = []\n",
    "silhouette_scores = []\n",
    "K = range(2, 20)\n",
    "random_state = 42\n",
    "\n",
    "X = shuffle(X, random_state=random_state)\n",
    "X = X[0:5000]\n",
    "print(X)"
   ],
   "id": "def01a357ad9f6f0",
   "outputs": [
    {
     "name": "stdout",
     "output_type": "stream",
     "text": [
      "        valence  year  acousticness  danceability  duration_ms  energy  \\\n",
      "116368    0.910  1977        0.5000         0.894       273067  0.5210   \n",
      "161935    0.583  1976        0.9300         0.585       182200  0.2720   \n",
      "135703    0.647  1994        0.1570         0.878       179933  0.5200   \n",
      "112288    0.196  1957        0.9370         0.463       925947  0.2870   \n",
      "22        0.422  1921        0.9950         0.648       154240  0.0995   \n",
      "...         ...   ...           ...           ...          ...     ...   \n",
      "121224    0.612  2001        0.1840         0.533       186093  0.7030   \n",
      "166328    0.919  1999        0.0819         0.714       200467  0.8520   \n",
      "121731    0.345  2012        0.8820         0.215       167741  0.3190   \n",
      "59641     0.286  1942        0.9900         0.393       187267  0.0747   \n",
      "110754    0.633  1949        0.6410         0.449        89227  0.4510   \n",
      "\n",
      "        explicit  instrumentalness  liveness  loudness  mode  popularity  \\\n",
      "116368         0          0.772000     0.068    -7.048     1          34   \n",
      "161935         0          0.115000     0.128   -16.693     0          26   \n",
      "135703         1          0.000000     0.173   -12.609     1          38   \n",
      "112288         0          0.837000     0.112   -11.758     0          13   \n",
      "22             0          0.846000     0.112   -22.429     1           0   \n",
      "...          ...               ...       ...       ...   ...         ...   \n",
      "121224         0          0.000000     0.101    -6.364     1          42   \n",
      "166328         0          0.000000     0.285    -6.570     1          40   \n",
      "121731         0          0.000013     0.228   -12.845     1           0   \n",
      "59641          0          0.078400     0.102   -17.930     1           0   \n",
      "110754         0          0.247000     0.139   -13.460     0           0   \n",
      "\n",
      "        speechiness    tempo  \n",
      "116368       0.0847  126.805  \n",
      "161935       0.0802   90.104  \n",
      "135703       0.4030   90.744  \n",
      "112288       0.0363  186.764  \n",
      "22           0.1050   71.978  \n",
      "...             ...      ...  \n",
      "121224       0.0423  128.761  \n",
      "166328       0.0565   92.016  \n",
      "121731       0.0363   55.846  \n",
      "59641        0.0321  101.457  \n",
      "110754       0.0468  115.531  \n",
      "\n",
      "[5000 rows x 14 columns]\n"
     ]
    }
   ],
   "execution_count": 39
  },
  {
   "metadata": {},
   "cell_type": "markdown",
   "source": "## Determine Optimal K ##",
   "id": "990db74497bcb596"
  },
  {
   "metadata": {
    "ExecuteTime": {
     "end_time": "2024-12-04T12:33:06.297996Z",
     "start_time": "2024-12-04T12:31:24.369504Z"
    }
   },
   "cell_type": "code",
   "source": [
    "print(\"Determine Optimal K\")\n",
    "for k in K:\n",
    "    kmeans = KMeans(n_clusters=k, random_state=random_state)\n",
    "    kmeans.fit(X)\n",
    "    inertia.append(kmeans.inertia_)\n",
    "    silhouette_scores.append(silhouette_score(X, kmeans.labels_))\n",
    "    print(f\"value of k: {k}\")\n",
    "\n",
    "# Plot the Elbow Method\n",
    "# plt.figure(figsize=(10, 5))\n",
    "# plt.plot(K, inertia, 'bo-')\n",
    "# plt.xlabel('Number of clusters')\n",
    "# plt.ylabel('Inertia')\n",
    "# plt.title('Elbow Method For Optimal k')\n",
    "# plt.show()\n",
    "\n",
    "# Plot the Silhouette Method\n",
    "# plt.figure(figsize=(10, 5))\n",
    "# plt.plot(K, silhouette_scores, 'bo-')\n",
    "# plt.xlabel('Number of clusters')\n",
    "# plt.ylabel('Silhouette Score')\n",
    "# plt.title('Silhouette Method For Optimal k')\n",
    "# plt.show()\n",
    "\n",
    "# Determine the optimal number of clusters\n",
    "optimal_k = K[np.argmax(silhouette_scores)]\n",
    "print(f\"The optimal number of clusters is {optimal_k}\")\n",
    "\n",
    "# Create a pipeline with the preprocessor and the optimal KMeans model\n",
    "pipeline = Pipeline(steps=[\n",
    "    ('preprocessor', preprocessor),\n",
    "    ('kmeans', KMeans(n_clusters=optimal_k, random_state=42))\n",
    "])\n",
    "\n",
    "# Fit the pipeline to the data\n",
    "pipeline.fit(df)\n",
    "\n",
    "# Predict the clusters\n",
    "clusters = pipeline.predict(df)\n",
    "print(clusters)"
   ],
   "id": "da339166f9de89df",
   "outputs": [
    {
     "name": "stdout",
     "output_type": "stream",
     "text": [
      "Determine Optimal K\n",
      "value of k: 2\n",
      "value of k: 3\n",
      "value of k: 4\n",
      "value of k: 5\n",
      "value of k: 6\n",
      "value of k: 7\n",
      "value of k: 8\n",
      "value of k: 9\n",
      "value of k: 10\n",
      "value of k: 11\n",
      "value of k: 12\n",
      "value of k: 13\n",
      "value of k: 14\n",
      "value of k: 15\n",
      "value of k: 16\n",
      "value of k: 17\n",
      "value of k: 18\n",
      "value of k: 19\n",
      "The optimal number of clusters is 2\n",
      "[0 0 0 ... 1 1 1]\n"
     ]
    }
   ],
   "execution_count": 30
  },
  {
   "metadata": {},
   "cell_type": "markdown",
   "source": "## Sauvegarder la valeur de k ##",
   "id": "924e9192937c9498"
  },
  {
   "metadata": {},
   "cell_type": "code",
   "outputs": [],
   "execution_count": null,
   "source": [
    "with open('optimal_k.txt', 'w') as file:\n",
    "    file.write(f\"{optimal_k}\")"
   ],
   "id": "c4821aa0fa4dc685"
  },
  {
   "metadata": {},
   "cell_type": "markdown",
   "source": "## KMeans ##",
   "id": "28320cfff04cea2b"
  },
  {
   "metadata": {},
   "cell_type": "code",
   "outputs": [],
   "execution_count": null,
   "source": [
    "kmeans = KMeans(n_clusters=optimal_k, random_state=random_state)\n",
    "kmeans.fit(X)"
   ],
   "id": "514c4d8f272329f3"
  },
  {
   "metadata": {},
   "cell_type": "markdown",
   "source": "## Ma valeur ##",
   "id": "b2e7e0815fe5256f"
  },
  {
   "metadata": {},
   "cell_type": "code",
   "outputs": [],
   "execution_count": null,
   "source": "my_value = np.array([[],[]])",
   "id": "bef61d248a92348b"
  },
  {
   "metadata": {},
   "cell_type": "markdown",
   "source": "## Prediction ##",
   "id": "62ad9e771cfb7cad"
  },
  {
   "metadata": {},
   "cell_type": "code",
   "outputs": [],
   "execution_count": null,
   "source": "elements_in_cluster = []",
   "id": "47f51a55634269ad"
  },
  {
   "metadata": {},
   "cell_type": "code",
   "outputs": [],
   "execution_count": null,
   "source": [
    "def get_cluster_info(data_point):\n",
    "    clusters = kmeans.predict(X)\n",
    "    # Predict the cluster for the given data point\n",
    "    data_point_cluster = kmeans.predict([data_point])[0]\n",
    "    \n",
    "    # Get all elements in the same cluster\n",
    "    elements_in_cluster = X[clusters == data_point_cluster]\n",
    "    \n",
    "    return data_point_cluster, elements_in_cluster"
   ],
   "id": "8237f10d531c9cf2"
  },
  {
   "metadata": {},
   "cell_type": "code",
   "outputs": [],
   "execution_count": null,
   "source": [
    "data_point = my_value\n",
    "cluster, elements = get_cluster_info(data_point)\n",
    "elements_in_cluster.append(elements)\n",
    "print(f\"The data point is in cluster {cluster}\")\n",
    "print(f\"Elements in cluster {cluster}:\\n{elements}\")"
   ],
   "id": "df88085c13ecc4dd"
  }
 ],
 "metadata": {
  "kernelspec": {
   "display_name": "Python 3",
   "language": "python",
   "name": "python3"
  },
  "language_info": {
   "codemirror_mode": {
    "name": "ipython",
    "version": 2
   },
   "file_extension": ".py",
   "mimetype": "text/x-python",
   "name": "python",
   "nbconvert_exporter": "python",
   "pygments_lexer": "ipython2",
   "version": "2.7.6"
  }
 },
 "nbformat": 4,
 "nbformat_minor": 5
}
