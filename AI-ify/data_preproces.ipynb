{
 "cells": [
  {
   "metadata": {},
   "cell_type": "markdown",
   "source": "# Import libraries",
   "id": "3e4d29fa0fa51564"
  },
  {
   "metadata": {},
   "cell_type": "code",
   "outputs": [],
   "execution_count": null,
   "source": "import pandas as pd",
   "id": "ddcad570d8fa69f3"
  },
  {
   "metadata": {},
   "cell_type": "markdown",
   "source": "# Data preprocessing",
   "id": "fe1d5af757e1e41b"
  },
  {
   "metadata": {},
   "cell_type": "markdown",
   "source": "## Code to cast,remove duplicates and append data",
   "id": "96919f8bd9391bc8"
  },
  {
   "metadata": {},
   "cell_type": "markdown",
   "source": "### Read the data from the csv files",
   "id": "3bc8e8deb6944af4"
  },
  {
   "metadata": {},
   "cell_type": "code",
   "outputs": [],
   "execution_count": null,
   "source": [
    "data1 = pd.read_csv(\"data/data_170k.csv\")\n",
    "data2 = pd.read_csv(\"data/data_114k.csv\")\n",
    "data3 = pd.read_csv(\"data/data_169k.csv\")\n",
    "\n",
    "print(data1.shape)\n",
    "print(data2.shape)\n",
    "print(data3.shape)"
   ],
   "id": "29e2a9c75fcd479e"
  },
  {
   "metadata": {},
   "cell_type": "markdown",
   "source": "### Concatenate data1, data2 and data3",
   "id": "e5b4ff74e7ceb726"
  },
  {
   "metadata": {},
   "cell_type": "code",
   "outputs": [],
   "execution_count": null,
   "source": [
    "# Concatenate data1, data2 and data3\n",
    "data_appended = pd.concat([data1, data2, data3])\n",
    "print(data_appended.shape)"
   ],
   "id": "f804c3f53e6d0a95"
  },
  {
   "metadata": {},
   "cell_type": "markdown",
   "source": "### Cast the 'explicit' column to a 1 and 0 value",
   "id": "a49245e9dff2230e"
  },
  {
   "metadata": {},
   "cell_type": "code",
   "outputs": [],
   "execution_count": null,
   "source": [
    "# Changes all true and false value to 1 and 0 value\n",
    "data_appended['explicit'] = data_appended['explicit'].apply(lambda x: 1 if x == True else 0)\n",
    "# Print the all the type of value of the column 'explicit'\n",
    "print(data_appended['explicit'].unique())"
   ],
   "id": "ffcea1e3769110e1"
  },
  {
   "metadata": {},
   "cell_type": "markdown",
   "source": "### Remove duplicates",
   "id": "7c7eadedd73dc294"
  },
  {
   "metadata": {},
   "cell_type": "markdown",
   "source": "### Remove duplicates based on the 'id' column",
   "id": "7b9bbd73c0d859ee"
  },
  {
   "metadata": {},
   "cell_type": "code",
   "outputs": [],
   "execution_count": null,
   "source": [
    "data_appended.drop_duplicates(subset=['id'], keep='first', inplace=True)\n",
    "print(data_appended.shape)"
   ],
   "id": "47c286c47de2d1ea"
  },
  {
   "metadata": {},
   "cell_type": "markdown",
   "source": "### Remove rows with NaN values in the 'artists' column",
   "id": "3e6671f0eed6b83b"
  },
  {
   "metadata": {},
   "cell_type": "code",
   "outputs": [],
   "execution_count": null,
   "source": [
    "data_appended = data_appended[~data_appended['artists'].apply(lambda x: isinstance(x, float))]\n",
    "print(data_appended.shape)"
   ],
   "id": "8296d4c16e5b4571"
  },
  {
   "metadata": {},
   "cell_type": "markdown",
   "source": "### Cast the 'artists' column to a list of name(s)",
   "id": "e46ab1441050470e"
  },
  {
   "metadata": {},
   "cell_type": "code",
   "outputs": [],
   "execution_count": null,
   "source": [
    "# Iterate through the 'artists' column and ensure the format is ['artist1', 'artist2', ...]\n",
    "def format_artists(artists):\n",
    "    if isinstance(artists, str) and not artists.startswith('['):\n",
    "        # Split the string by ';' and cast in the format ['artist1', 'artist2', ...]\n",
    "        return [artist.strip() for artist in artists.split(';')]\n",
    "    else:\n",
    "        return artists\n",
    "\n",
    "data_appended['artists'] = data_appended['artists'].apply(format_artists)"
   ],
   "id": "7763d6f3ed1a33f9"
  },
  {
   "metadata": {},
   "cell_type": "markdown",
   "source": "### Append the data to a list",
   "id": "6e9845920b77e09a"
  },
  {
   "metadata": {},
   "cell_type": "code",
   "outputs": [],
   "execution_count": null,
   "source": "data_appended.to_csv(\"data/data_appended.csv\", index=False)",
   "id": "a0c1fd8d66990211"
  },
  {
   "metadata": {},
   "cell_type": "markdown",
   "source": "# Create the list of dictionaries",
   "id": "ab03063a066e3a19"
  },
  {
   "metadata": {},
   "cell_type": "code",
   "outputs": [],
   "execution_count": null,
   "source": [
    "for index, row in data_appended.iterrows():\n",
    "    features_info = row.to_dict()\n",
    "    music_list.append(features_info)\n",
    "\n",
    "print(music_list[:5])"
   ],
   "id": "57f66c28a9cb78ab"
  }
 ],
 "metadata": {
  "kernelspec": {
   "display_name": "Python 3",
   "language": "python",
   "name": "python3"
  },
  "language_info": {
   "codemirror_mode": {
    "name": "ipython",
    "version": 2
   },
   "file_extension": ".py",
   "mimetype": "text/x-python",
   "name": "python",
   "nbconvert_exporter": "python",
   "pygments_lexer": "ipython2",
   "version": "2.7.6"
  }
 },
 "nbformat": 4,
 "nbformat_minor": 5
}
