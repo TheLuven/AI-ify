{
 "cells": [
  {
   "metadata": {},
   "cell_type": "markdown",
   "source": "",
   "id": "88ef5d4bb84be22e"
  },
  {
   "metadata": {
    "ExecuteTime": {
     "end_time": "2024-12-04T08:07:46.742115Z",
     "start_time": "2024-12-04T08:07:45.874026Z"
    }
   },
   "cell_type": "code",
   "source": [
    "import numpy as np\n",
    "import pandas as pd\n",
    "\n",
    "import seaborn as sns\n",
    "import plotly.express as px\n",
    "import matplotlib.pyplot as plt\n",
    "\n",
    "from sklearn.cluster import KMeans\n",
    "from sklearn.preprocessing import StandardScaler\n",
    "from sklearn.pipeline import Pipeline\n",
    "from sklearn.manifold import TSNE\n",
    "from sklearn.decomposition import PCA\n",
    "from sklearn.metrics import euclidean_distances\n",
    "from scipy.spatial.distance import cdist\n",
    "\n",
    "import warnings\n",
    "\n"
   ],
   "id": "7557b5a135b01b57",
   "outputs": [],
   "execution_count": 2
  },
  {
   "metadata": {
    "ExecuteTime": {
     "end_time": "2024-12-04T08:25:15.086260Z",
     "start_time": "2024-12-04T08:25:14.800272Z"
    }
   },
   "cell_type": "code",
   "source": [
    "data = pd.read_csv(\"data/data.csv\")\n",
    "genre_data = pd.read_csv('data/data_by_genres.csv')\n",
    "year_data = pd.read_csv('data/data_by_year.csv')"
   ],
   "id": "ae968bd7178c1210",
   "outputs": [],
   "execution_count": 7
  },
  {
   "metadata": {
    "ExecuteTime": {
     "end_time": "2024-12-04T09:39:12.958139Z",
     "start_time": "2024-12-04T09:39:12.543211Z"
    }
   },
   "cell_type": "code",
   "source": [
    "import spotipy\n",
    "from spotipy.oauth2 import SpotifyOAuth\n",
    "\n",
    "SPOTIFY_CLIENT_ID = \"ed9ece4a286d42f1aa834c82bed1f95e\"\n",
    "SPOTIFY_CLIENT_SECRET = \"e1f250bb36914f3c9235c88df325eff6\"\n",
    "sp = spotipy.Spotify(auth_manager=SpotifyOAuth(\n",
    "    client_id=SPOTIFY_CLIENT_ID,\n",
    "    client_secret=SPOTIFY_CLIENT_SECRET,\n",
    "    redirect_uri=\"http://localhost:8000/callback\",\n",
    "    scope=\"user-top-read\"\n",
    "))\n",
    "\n",
    "top_tracks = sp.current_user_top_tracks(limit=50, time_range='long_term')\n",
    "for idx, track in enumerate(top_tracks['items']):\n",
    "    print(f\"{idx + 1}: {track['name']} by {track['artists'][0]['name']}\")"
   ],
   "id": "b95fbf4214ff17b0",
   "outputs": [
    {
     "name": "stdout",
     "output_type": "stream",
     "text": [
      "1: Where Is My Mind? - 2007 Remaster by Pixies\n",
      "2: Jocelyn Flores by XXXTENTACION\n",
      "3: Falling Down - Bonus Track by Lil Peep\n",
      "4: Teardrop by Massive Attack\n",
      "5: The Night We Met by Lord Huron\n",
      "6: Évidemment by Lomepal\n",
      "7: In This Dark Time by Aime Simone\n",
      "8: death bed (coffee for your head) by Powfu\n",
      "9: Paradise Circus by Massive Attack\n",
      "10: The Seed by AURORA\n",
      "11: Take Me To Church by Hozier\n",
      "12: Reactor by Woodkid\n",
      "13: Hasarder by Lomepal\n",
      "14: 7 Years by Lukas Graham\n",
      "15: Way down We Go by KALEO\n",
      "16: San by Orelsan\n",
      "17: Trop beau by Lomepal\n",
      "18: Another Love by Tom Odell\n",
      "19: Rip X by iamjakehill\n",
      "20: Lucid Dreams by Juice WRLD\n",
      "21: Where's My Love by SYML\n",
      "22: Sundance by Népal\n",
      "23: Sorry by Halsey\n",
      "24: How to Save a Life by The Fray\n",
      "25: 505 by Arctic Monkeys\n",
      "26: Runaway by AURORA\n",
      "27: Flash by Lomepal\n",
      "28: Nique les clones, Pt. II by Nekfeu\n",
      "29: Guns for Hire (from the series Arcane League of Legends) by Woodkid\n",
      "30: Good News by Mac Miller\n",
      "31: Jour meilleur by Orelsan\n",
      "32: Si facile by Casseurs Flowters\n",
      "33: YEAH RIGHT by Joji\n",
      "34: The Most Beautiful Boy - Felsmann + Tiley Reinterpretation by The Irrepressibles\n",
      "35: Crossfader by Népal\n",
      "36: Avant tu riais by Nekfeu\n",
      "37: I Love You by The Post Nobles\n",
      "38: Feel by Robbie Williams\n",
      "39: Atlantis by Seafret\n",
      "40: Can I Exist by MISSIO\n",
      "41: Philadelphia by alt-J\n",
      "42: Trajectoire by Népal\n",
      "43: Cheddar by Népal\n",
      "44: Sparks by Coldplay\n",
      "45: Roxanne by The Police\n",
      "46: Poznań by Low Roar\n",
      "47: It's Ok by Tom Rosenthal\n",
      "48: Mystery of Love by Sufjan Stevens\n",
      "49: Clocks by Coldplay\n",
      "50: Sign of the Times by Harry Styles\n"
     ]
    }
   ],
   "execution_count": 2
  },
  {
   "metadata": {},
   "cell_type": "code",
   "outputs": [],
   "execution_count": null,
   "source": "",
   "id": "146c787b3ad0d08b"
  }
 ],
 "metadata": {
  "kernelspec": {
   "display_name": "Python 3",
   "language": "python",
   "name": "python3"
  },
  "language_info": {
   "codemirror_mode": {
    "name": "ipython",
    "version": 2
   },
   "file_extension": ".py",
   "mimetype": "text/x-python",
   "name": "python",
   "nbconvert_exporter": "python",
   "pygments_lexer": "ipython2",
   "version": "2.7.6"
  }
 },
 "nbformat": 4,
 "nbformat_minor": 5
}
