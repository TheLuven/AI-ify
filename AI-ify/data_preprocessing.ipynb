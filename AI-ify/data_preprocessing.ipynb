{
 "cells": [
  {
   "metadata": {},
   "cell_type": "markdown",
   "source": "# Import libraries",
   "id": "27675c8918781fc"
  },
  {
   "cell_type": "code",
   "id": "initial_id",
   "metadata": {
    "collapsed": true,
    "ExecuteTime": {
     "end_time": "2024-12-04T12:23:39.454645Z",
     "start_time": "2024-12-04T12:23:39.392699Z"
    }
   },
   "source": [
    "import pandas as pd\n",
    "from sklearn.preprocessing import StandardScaler"
   ],
   "outputs": [],
   "execution_count": 4
  },
  {
   "metadata": {},
   "cell_type": "markdown",
   "source": "# Data loading and initialisation",
   "id": "c68b61d7dbc5c398"
  },
  {
   "metadata": {
    "ExecuteTime": {
     "end_time": "2024-12-04T12:23:50.167886Z",
     "start_time": "2024-12-04T12:23:49.836800Z"
    }
   },
   "cell_type": "code",
   "source": [
    "data = pd.read_csv(\"data/data.csv\")\n",
    "music_list = []"
   ],
   "id": "464a1d026b0f0942",
   "outputs": [],
   "execution_count": 6
  },
  {
   "metadata": {
    "ExecuteTime": {
     "end_time": "2024-12-04T12:24:01.051952Z",
     "start_time": "2024-12-04T12:24:00.816654Z"
    }
   },
   "cell_type": "code",
   "source": [
    "data_2 = pd.read_csv(\"data/dataset.csv\")\n",
    "music_list = []"
   ],
   "id": "7c3167a46b397bf3",
   "outputs": [],
   "execution_count": 7
  },
  {
   "metadata": {},
   "cell_type": "markdown",
   "source": "# Data preprocessing",
   "id": "50ff233813e90882"
  },
  {
   "metadata": {
    "ExecuteTime": {
     "end_time": "2024-12-04T12:31:28.919609Z",
     "start_time": "2024-12-04T12:31:26.553386Z"
    }
   },
   "cell_type": "code",
   "source": [
    "for index, row in data_2.iterrows():\n",
    "    features_info = row.to_dict()\n",
    "    music_list.append(features_info)\n",
    "\n",
    "print(music_list[:5])"
   ],
   "id": "cf4a8680dec5aa2b",
   "outputs": [
    {
     "name": "stdout",
     "output_type": "stream",
     "text": [
      "[{'Unnamed: 0': 0, 'track_id': '5SuOikwiRyPMVoIQDJUgSV', 'artists': 'Gen Hoshino', 'album_name': 'Comedy', 'track_name': 'Comedy', 'popularity': 73, 'duration_ms': 230666, 'explicit': False, 'danceability': 0.676, 'energy': 0.461, 'key': 1, 'loudness': -6.746, 'mode': 0, 'speechiness': 0.143, 'acousticness': 0.0322, 'instrumentalness': 1.01e-06, 'liveness': 0.358, 'valence': 0.715, 'tempo': 87.917, 'time_signature': 4, 'track_genre': 'acoustic'}, {'Unnamed: 0': 1, 'track_id': '4qPNDBW1i3p13qLCt0Ki3A', 'artists': 'Ben Woodward', 'album_name': 'Ghost (Acoustic)', 'track_name': 'Ghost - Acoustic', 'popularity': 55, 'duration_ms': 149610, 'explicit': False, 'danceability': 0.42, 'energy': 0.166, 'key': 1, 'loudness': -17.235, 'mode': 1, 'speechiness': 0.0763, 'acousticness': 0.924, 'instrumentalness': 5.56e-06, 'liveness': 0.101, 'valence': 0.267, 'tempo': 77.489, 'time_signature': 4, 'track_genre': 'acoustic'}, {'Unnamed: 0': 2, 'track_id': '1iJBSr7s7jYXzM8EGcbK5b', 'artists': 'Ingrid Michaelson;ZAYN', 'album_name': 'To Begin Again', 'track_name': 'To Begin Again', 'popularity': 57, 'duration_ms': 210826, 'explicit': False, 'danceability': 0.438, 'energy': 0.359, 'key': 0, 'loudness': -9.734, 'mode': 1, 'speechiness': 0.0557, 'acousticness': 0.21, 'instrumentalness': 0.0, 'liveness': 0.117, 'valence': 0.12, 'tempo': 76.332, 'time_signature': 4, 'track_genre': 'acoustic'}, {'Unnamed: 0': 3, 'track_id': '6lfxq3CG4xtTiEg7opyCyx', 'artists': 'Kina Grannis', 'album_name': 'Crazy Rich Asians (Original Motion Picture Soundtrack)', 'track_name': \"Can't Help Falling In Love\", 'popularity': 71, 'duration_ms': 201933, 'explicit': False, 'danceability': 0.266, 'energy': 0.0596, 'key': 0, 'loudness': -18.515, 'mode': 1, 'speechiness': 0.0363, 'acousticness': 0.905, 'instrumentalness': 7.07e-05, 'liveness': 0.132, 'valence': 0.143, 'tempo': 181.74, 'time_signature': 3, 'track_genre': 'acoustic'}, {'Unnamed: 0': 4, 'track_id': '5vjLSffimiIP26QG5WcN2K', 'artists': 'Chord Overstreet', 'album_name': 'Hold On', 'track_name': 'Hold On', 'popularity': 82, 'duration_ms': 198853, 'explicit': False, 'danceability': 0.618, 'energy': 0.443, 'key': 2, 'loudness': -9.681, 'mode': 1, 'speechiness': 0.0526, 'acousticness': 0.469, 'instrumentalness': 0.0, 'liveness': 0.0829, 'valence': 0.167, 'tempo': 119.949, 'time_signature': 4, 'track_genre': 'acoustic'}]\n",
      "Index(['valence', 'year', 'acousticness', 'artists', 'danceability',\n",
      "       'duration_ms', 'energy', 'explicit', 'id', 'instrumentalness', 'key',\n",
      "       'liveness', 'loudness', 'mode', 'name', 'popularity', 'release_date',\n",
      "       'speechiness', 'tempo'],\n",
      "      dtype='object')\n"
     ]
    }
   ],
   "execution_count": 9
  },
  {
   "metadata": {
    "ExecuteTime": {
     "end_time": "2024-12-04T12:12:44.958169Z",
     "start_time": "2024-12-04T12:12:26.154150Z"
    }
   },
   "cell_type": "code",
   "source": [
    "for index, row in data.iterrows():\n",
    "    features_info = row.to_dict()\n",
    "    music_list.append(features_info)"
   ],
   "id": "4ae5f2e3fec524bc",
   "outputs": [],
   "execution_count": 26
  },
  {
   "metadata": {
    "ExecuteTime": {
     "end_time": "2024-12-04T12:32:02.793621Z",
     "start_time": "2024-12-04T12:32:02.788881Z"
    }
   },
   "cell_type": "code",
   "source": [
    "print(music_list[:5])\n",
    "\n",
    "#print all the columns names\n",
    "print(data_2.columns)\n",
    "print(data.columns)"
   ],
   "id": "cf838ec0cfdb6e7c",
   "outputs": [
    {
     "name": "stdout",
     "output_type": "stream",
     "text": [
      "[{'Unnamed: 0': 0, 'track_id': '5SuOikwiRyPMVoIQDJUgSV', 'artists': 'Gen Hoshino', 'album_name': 'Comedy', 'track_name': 'Comedy', 'popularity': 73, 'duration_ms': 230666, 'explicit': False, 'danceability': 0.676, 'energy': 0.461, 'key': 1, 'loudness': -6.746, 'mode': 0, 'speechiness': 0.143, 'acousticness': 0.0322, 'instrumentalness': 1.01e-06, 'liveness': 0.358, 'valence': 0.715, 'tempo': 87.917, 'time_signature': 4, 'track_genre': 'acoustic'}, {'Unnamed: 0': 1, 'track_id': '4qPNDBW1i3p13qLCt0Ki3A', 'artists': 'Ben Woodward', 'album_name': 'Ghost (Acoustic)', 'track_name': 'Ghost - Acoustic', 'popularity': 55, 'duration_ms': 149610, 'explicit': False, 'danceability': 0.42, 'energy': 0.166, 'key': 1, 'loudness': -17.235, 'mode': 1, 'speechiness': 0.0763, 'acousticness': 0.924, 'instrumentalness': 5.56e-06, 'liveness': 0.101, 'valence': 0.267, 'tempo': 77.489, 'time_signature': 4, 'track_genre': 'acoustic'}, {'Unnamed: 0': 2, 'track_id': '1iJBSr7s7jYXzM8EGcbK5b', 'artists': 'Ingrid Michaelson;ZAYN', 'album_name': 'To Begin Again', 'track_name': 'To Begin Again', 'popularity': 57, 'duration_ms': 210826, 'explicit': False, 'danceability': 0.438, 'energy': 0.359, 'key': 0, 'loudness': -9.734, 'mode': 1, 'speechiness': 0.0557, 'acousticness': 0.21, 'instrumentalness': 0.0, 'liveness': 0.117, 'valence': 0.12, 'tempo': 76.332, 'time_signature': 4, 'track_genre': 'acoustic'}, {'Unnamed: 0': 3, 'track_id': '6lfxq3CG4xtTiEg7opyCyx', 'artists': 'Kina Grannis', 'album_name': 'Crazy Rich Asians (Original Motion Picture Soundtrack)', 'track_name': \"Can't Help Falling In Love\", 'popularity': 71, 'duration_ms': 201933, 'explicit': False, 'danceability': 0.266, 'energy': 0.0596, 'key': 0, 'loudness': -18.515, 'mode': 1, 'speechiness': 0.0363, 'acousticness': 0.905, 'instrumentalness': 7.07e-05, 'liveness': 0.132, 'valence': 0.143, 'tempo': 181.74, 'time_signature': 3, 'track_genre': 'acoustic'}, {'Unnamed: 0': 4, 'track_id': '5vjLSffimiIP26QG5WcN2K', 'artists': 'Chord Overstreet', 'album_name': 'Hold On', 'track_name': 'Hold On', 'popularity': 82, 'duration_ms': 198853, 'explicit': False, 'danceability': 0.618, 'energy': 0.443, 'key': 2, 'loudness': -9.681, 'mode': 1, 'speechiness': 0.0526, 'acousticness': 0.469, 'instrumentalness': 0.0, 'liveness': 0.0829, 'valence': 0.167, 'tempo': 119.949, 'time_signature': 4, 'track_genre': 'acoustic'}]\n",
      "Index(['Unnamed: 0', 'track_id', 'artists', 'album_name', 'track_name',\n",
      "       'popularity', 'duration_ms', 'explicit', 'danceability', 'energy',\n",
      "       'key', 'loudness', 'mode', 'speechiness', 'acousticness',\n",
      "       'instrumentalness', 'liveness', 'valence', 'tempo', 'time_signature',\n",
      "       'track_genre'],\n",
      "      dtype='object')\n",
      "Index(['valence', 'year', 'acousticness', 'artists', 'danceability',\n",
      "       'duration_ms', 'energy', 'explicit', 'id', 'instrumentalness', 'key',\n",
      "       'liveness', 'loudness', 'mode', 'name', 'popularity', 'release_date',\n",
      "       'speechiness', 'tempo'],\n",
      "      dtype='object')\n"
     ]
    }
   ],
   "execution_count": 10
  }
 ],
 "metadata": {
  "kernelspec": {
   "display_name": "Python 3",
   "language": "python",
   "name": "python3"
  },
  "language_info": {
   "codemirror_mode": {
    "name": "ipython",
    "version": 2
   },
   "file_extension": ".py",
   "mimetype": "text/x-python",
   "name": "python",
   "nbconvert_exporter": "python",
   "pygments_lexer": "ipython2",
   "version": "2.7.6"
  }
 },
 "nbformat": 4,
 "nbformat_minor": 5
}
