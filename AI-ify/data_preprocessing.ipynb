{
 "cells": [
  {
   "metadata": {},
   "cell_type": "markdown",
   "source": "# Import libraries",
   "id": "27675c8918781fc"
  },
  {
   "cell_type": "code",
   "id": "initial_id",
   "metadata": {
    "collapsed": true,
    "ExecuteTime": {
     "end_time": "2024-12-04T12:51:41.656846Z",
     "start_time": "2024-12-04T12:51:41.653851Z"
    }
   },
   "source": [
    "import pandas as pd\n",
    "from sklearn.preprocessing import StandardScaler"
   ],
   "outputs": [],
   "execution_count": 18
  },
  {
   "metadata": {},
   "cell_type": "markdown",
   "source": "# Data preprocessing",
   "id": "50ff233813e90882"
  },
  {
   "metadata": {},
   "cell_type": "markdown",
   "source": "### Code to remove duplicates and append data",
   "id": "ac577246740e0016"
  },
  {
   "metadata": {
    "ExecuteTime": {
     "end_time": "2024-12-04T13:44:07.389030Z",
     "start_time": "2024-12-04T13:44:04.811939Z"
    }
   },
   "cell_type": "code",
   "source": [
    "data1 = pd.read_csv(\"data/data_170k.csv\")\n",
    "data2 = pd.read_csv(\"data/data_114k.csv\")\n",
    "data3 = pd.read_csv(\"data/data_169k.csv\")\n",
    "\n",
    "print(data1.shape)\n",
    "print(data2.shape)\n",
    "print(data3.shape)\n",
    "\n",
    "#APpend data2 to data1 and data3 .append isn't possible because it's a dataframe\n",
    "data_appended = pd.concat([data1, data2, data3])\n",
    "\n",
    "print(data_appended.shape)\n",
    "\n",
    "data_appended.drop_duplicates(subset=['id'], keep='first', inplace=True)\n",
    "\n",
    "print(data_appended.shape)\n",
    "\n",
    "data_appended.to_csv(\"data/data_appended.csv\", index=False)\n"
   ],
   "id": "eece6865a0416c7e",
   "outputs": [
    {
     "name": "stdout",
     "output_type": "stream",
     "text": [
      "(170653, 19)\n",
      "(114000, 19)\n",
      "(169909, 19)\n",
      "(454562, 19)\n",
      "(271839, 19)\n"
     ]
    }
   ],
   "execution_count": 44
  },
  {
   "metadata": {
    "ExecuteTime": {
     "end_time": "2024-12-04T13:47:01.766890Z",
     "start_time": "2024-12-04T13:46:56.386502Z"
    }
   },
   "cell_type": "code",
   "source": [
    "for index, row in data_appended.iterrows():\n",
    "    features_info = row.to_dict()\n",
    "    music_list.append(features_info)\n",
    "\n",
    "print(music_list[:5])"
   ],
   "id": "282b5620d38c256",
   "outputs": [
    {
     "name": "stdout",
     "output_type": "stream",
     "text": [
      "[{'valence': 0.0594, 'year': 1921, 'acousticness': 0.982, 'artists': \"['Sergei Rachmaninoff', 'James Levine', 'Berliner Philharmoniker']\", 'danceability': 0.279, 'duration_ms': 831667.0, 'energy': 0.211, 'explicit': 0, 'id': '4BJqT0PrAfrxzMOxytFOIz', 'instrumentalness': 0.878, 'key': 10.0, 'liveness': 0.665, 'loudness': -20.096, 'mode': 1.0, 'name': 'Piano Concerto No. 3 in D Minor, Op. 30: III. Finale. Alla breve', 'popularity': 4.0, 'speechiness': 0.0366, 'tempo': 80.954, 'genre': 'unknown'}, {'valence': 0.963, 'year': 1921, 'acousticness': 0.732, 'artists': \"['Dennis Day']\", 'danceability': 0.8190000000000001, 'duration_ms': 180533.0, 'energy': 0.341, 'explicit': 0, 'id': '7xPhfUan2yNtyFG0cUWkt8', 'instrumentalness': 0.0, 'key': 7.0, 'liveness': 0.16, 'loudness': -12.441, 'mode': 1.0, 'name': 'Clancy Lowered the Boom', 'popularity': 5.0, 'speechiness': 0.415, 'tempo': 60.93600000000001, 'genre': 'unknown'}, {'valence': 0.0394, 'year': 1921, 'acousticness': 0.961, 'artists': \"['KHP Kridhamardawa Karaton Ngayogyakarta Hadiningrat']\", 'danceability': 0.328, 'duration_ms': 500062.0, 'energy': 0.166, 'explicit': 0, 'id': '1o6I8BglA6ylDMrIELygv1', 'instrumentalness': 0.913, 'key': 3.0, 'liveness': 0.101, 'loudness': -14.85, 'mode': 1.0, 'name': 'Gati Bali', 'popularity': 5.0, 'speechiness': 0.0339, 'tempo': 110.339, 'genre': 'unknown'}, {'valence': 0.165, 'year': 1921, 'acousticness': 0.967, 'artists': \"['Frank Parker']\", 'danceability': 0.275, 'duration_ms': 210000.0, 'energy': 0.309, 'explicit': 0, 'id': '3ftBPsC5vPBKxYSee08FDH', 'instrumentalness': 2.77e-05, 'key': 5.0, 'liveness': 0.381, 'loudness': -9.316, 'mode': 1.0, 'name': 'Danny Boy', 'popularity': 3.0, 'speechiness': 0.0354, 'tempo': 100.109, 'genre': 'unknown'}, {'valence': 0.253, 'year': 1921, 'acousticness': 0.957, 'artists': \"['Phil Regan']\", 'danceability': 0.418, 'duration_ms': 166693.0, 'energy': 0.193, 'explicit': 0, 'id': '4d6HGyGT8e121BsdKmw9v6', 'instrumentalness': 1.68e-06, 'key': 3.0, 'liveness': 0.229, 'loudness': -10.096, 'mode': 1.0, 'name': 'When Irish Eyes Are Smiling', 'popularity': 2.0, 'speechiness': 0.038, 'tempo': 101.665, 'genre': 'unknown'}]\n"
     ]
    }
   ],
   "execution_count": 46
  }
 ],
 "metadata": {
  "kernelspec": {
   "display_name": "Python 3",
   "language": "python",
   "name": "python3"
  },
  "language_info": {
   "codemirror_mode": {
    "name": "ipython",
    "version": 2
   },
   "file_extension": ".py",
   "mimetype": "text/x-python",
   "name": "python",
   "nbconvert_exporter": "python",
   "pygments_lexer": "ipython2",
   "version": "2.7.6"
  }
 },
 "nbformat": 4,
 "nbformat_minor": 5
}
