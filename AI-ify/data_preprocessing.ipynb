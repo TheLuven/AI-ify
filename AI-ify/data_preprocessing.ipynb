{
 "cells": [
  {
   "metadata": {},
   "cell_type": "markdown",
   "source": "# Import libraries",
   "id": "27675c8918781fc"
  },
  {
   "cell_type": "code",
   "id": "initial_id",
   "metadata": {
    "collapsed": true,
    "ExecuteTime": {
     "end_time": "2024-12-04T10:42:12.126982Z",
     "start_time": "2024-12-04T10:42:12.120812Z"
    }
   },
   "source": [
    "import pandas as pd\n",
    "from sklearn.preprocessing import StandardScaler"
   ],
   "outputs": [],
   "execution_count": 12
  },
  {
   "metadata": {},
   "cell_type": "markdown",
   "source": "# Data loading and initialisation",
   "id": "c68b61d7dbc5c398"
  },
  {
   "metadata": {
    "ExecuteTime": {
     "end_time": "2024-12-04T12:00:12.164218Z",
     "start_time": "2024-12-04T12:00:10.907530Z"
    }
   },
   "cell_type": "code",
   "source": [
    "data = pd.read_csv(\"data/data.csv\")\n",
    "music_list = []"
   ],
   "id": "464a1d026b0f0942",
   "outputs": [],
   "execution_count": 18
  },
  {
   "metadata": {},
   "cell_type": "markdown",
   "source": "# Data preprocessing",
   "id": "50ff233813e90882"
  },
  {
   "metadata": {
    "ExecuteTime": {
     "end_time": "2024-12-04T12:07:28.415311Z",
     "start_time": "2024-12-04T12:07:04.988049Z"
    }
   },
   "cell_type": "code",
   "source": [
    "for index, row in data.iterrows():\n",
    "    features_info = row.to_dict()\n",
    "    music_list.append(features_info)"
   ],
   "id": "4ae5f2e3fec524bc",
   "outputs": [],
   "execution_count": 21
  },
  {
   "metadata": {
    "ExecuteTime": {
     "end_time": "2024-12-04T12:08:31.382022Z",
     "start_time": "2024-12-04T12:08:31.366296Z"
    }
   },
   "cell_type": "code",
   "source": "print(music_list[:5])",
   "id": "cf838ec0cfdb6e7c",
   "outputs": [
    {
     "name": "stdout",
     "output_type": "stream",
     "text": [
      "[{'valence': 0.0594, 'year': '1921', 'acousticness': 0.982, 'danceability': 0.279, 'duration_ms': 831667, 'energy': 0.211, 'explicit': 0, 'instrumentalness': 0.878, 'key': 10, 'liveness': 0.665, 'loudness': -20.096, 'mode': 1, 'popularity': 4, 'speechiness': 0.0366, 'tempo': 80.954}, {'valence': 0.963, 'year': '1921', 'acousticness': 0.732, 'danceability': 0.8190000000000001, 'duration_ms': 180533, 'energy': 0.341, 'explicit': 0, 'instrumentalness': 0.0, 'key': 7, 'liveness': 0.16, 'loudness': -12.441, 'mode': 1, 'popularity': 5, 'speechiness': 0.415, 'tempo': 60.93600000000001}, {'valence': 0.0394, 'year': '1921', 'acousticness': 0.961, 'danceability': 0.328, 'duration_ms': 500062, 'energy': 0.166, 'explicit': 0, 'instrumentalness': 0.913, 'key': 3, 'liveness': 0.101, 'loudness': -14.85, 'mode': 1, 'popularity': 5, 'speechiness': 0.0339, 'tempo': 110.339}, {'valence': 0.165, 'year': '1921', 'acousticness': 0.967, 'danceability': 0.275, 'duration_ms': 210000, 'energy': 0.309, 'explicit': 0, 'instrumentalness': 2.77e-05, 'key': 5, 'liveness': 0.381, 'loudness': -9.316, 'mode': 1, 'popularity': 3, 'speechiness': 0.0354, 'tempo': 100.109}, {'valence': 0.253, 'year': '1921', 'acousticness': 0.957, 'danceability': 0.418, 'duration_ms': 166693, 'energy': 0.193, 'explicit': 0, 'instrumentalness': 1.68e-06, 'key': 3, 'liveness': 0.229, 'loudness': -10.096, 'mode': 1, 'popularity': 2, 'speechiness': 0.038, 'tempo': 101.665}]\n"
     ]
    }
   ],
   "execution_count": 23
  }
 ],
 "metadata": {
  "kernelspec": {
   "display_name": "Python 3",
   "language": "python",
   "name": "python3"
  },
  "language_info": {
   "codemirror_mode": {
    "name": "ipython",
    "version": 2
   },
   "file_extension": ".py",
   "mimetype": "text/x-python",
   "name": "python",
   "nbconvert_exporter": "python",
   "pygments_lexer": "ipython2",
   "version": "2.7.6"
  }
 },
 "nbformat": 4,
 "nbformat_minor": 5
}
