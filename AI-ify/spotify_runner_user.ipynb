{
 "cells": [
  {
   "metadata": {},
   "cell_type": "markdown",
   "source": "",
   "id": "88ef5d4bb84be22e"
  },
  {
   "metadata": {
    "ExecuteTime": {
     "end_time": "2024-12-11T12:17:38.450242Z",
     "start_time": "2024-12-11T12:17:38.016394Z"
    }
   },
   "cell_type": "code",
   "source": [
    "import numpy as np\n",
    "import pandas as pd\n",
    "\n",
    "import seaborn as sns\n",
    "import plotly.express as px\n",
    "import matplotlib.pyplot as plt\n",
    "from numpy.f2py.auxfuncs import throw_error\n",
    "\n",
    "from sklearn.cluster import KMeans\n",
    "from sklearn.preprocessing import StandardScaler\n",
    "from sklearn.pipeline import Pipeline\n",
    "from sklearn.manifold import TSNE\n",
    "from sklearn.decomposition import PCA\n",
    "from sklearn.metrics import euclidean_distances\n",
    "from scipy.spatial.distance import cdist\n",
    "\n",
    "import warnings\n",
    "\n"
   ],
   "id": "7557b5a135b01b57",
   "outputs": [],
   "execution_count": 9
  },
  {
   "metadata": {},
   "cell_type": "markdown",
   "source": "### Création de l'authentification API Spotify",
   "id": "dfce22696e6df403"
  },
  {
   "metadata": {
    "ExecuteTime": {
     "end_time": "2024-12-11T12:39:31.832797Z",
     "start_time": "2024-12-11T12:39:31.828076Z"
    }
   },
   "cell_type": "code",
   "source": [
    "import spotipy\n",
    "from spotipy.oauth2 import SpotifyOAuth\n",
    "\n",
    "SPOTIFY_CLIENT_ID = \"ed9ece4a286d42f1aa834c82bed1f95e\"\n",
    "SPOTIFY_CLIENT_SECRET = \"e1f250bb36914f3c9235c88df325eff6\"\n",
    "sp = spotipy.Spotify(auth_manager=SpotifyOAuth(\n",
    "    client_id=SPOTIFY_CLIENT_ID,\n",
    "    client_secret=SPOTIFY_CLIENT_SECRET,\n",
    "    redirect_uri=\"http://localhost:8000/callback\",\n",
    "    scope=\"user-top-read playlist-read-private user-library-read playlist-modify-public playlist-modify-private\",\n",
    "    cache_path=\"./spotify_cache\",\n",
    "    state=\"unique_state_value\"\n",
    "))"
   ],
   "id": "7c2db8016b1fa492",
   "outputs": [],
   "execution_count": 40
  },
  {
   "metadata": {
    "ExecuteTime": {
     "end_time": "2024-12-11T12:39:29.462735Z",
     "start_time": "2024-12-11T12:39:29.458617Z"
    }
   },
   "cell_type": "code",
   "source": [
    "import os\n",
    "\n",
    "if os.path.exists(\"./spotify_cache\"):\n",
    "    os.remove(\"./spotify_cache\")\n",
    "    print(\"Custom cache file deleted.\")\n",
    "else:\n",
    "    print(\"Custom cache file not found.\")"
   ],
   "id": "4fbc031c34fd574a",
   "outputs": [
    {
     "name": "stdout",
     "output_type": "stream",
     "text": [
      "Custom cache file deleted.\n"
     ]
    }
   ],
   "execution_count": 39
  },
  {
   "metadata": {},
   "cell_type": "markdown",
   "source": "### Get the user's top tracks",
   "id": "7602691844521b80"
  },
  {
   "metadata": {
    "ExecuteTime": {
     "end_time": "2024-12-11T12:40:09.353900Z",
     "start_time": "2024-12-11T12:39:34.750804Z"
    }
   },
   "cell_type": "code",
   "source": [
    "top_tracks = sp.current_user_top_tracks(limit=50, time_range='long_term')\n",
    "\n",
    "print(\"Your top tracks:\")\n",
    "\n",
    "for idx, track in enumerate(top_tracks['items']):\n",
    "    print(f\"{idx + 1}: {track['name']} by {track['artists'][0]['name']}\")\n",
    "    "
   ],
   "id": "5859b72338e8677e",
   "outputs": [
    {
     "name": "stdout",
     "output_type": "stream",
     "text": [
      "Your top tracks:\n",
      "1: 669 Tah by Mini RTTCLAN\n",
      "2: Kpop by Freeze corleone\n",
      "3: La Quête by Orelsan\n",
      "4: Double K by Kaaris\n",
      "5: Dimanche by Leo Roi\n",
      "6: Ancelotti by Freeze corleone\n",
      "7: M-A-espace-M-I-E by MPL\n",
      "8: Washing Machine Heart by Mitski\n",
      "9: Orézon by Oré\n",
      "10: Apocalypse by Kaaris\n",
      "11: Le roi des ombres - Extrait de la BO 'Le roi des ombres' by Kaaris\n",
      "12: Se-vrak by Kaaris\n",
      "13: Jeune intermittent by Spider ZED\n",
      "14: Crève-cœur by Adèle Castillon\n",
      "15: 7 sur 7 by Koba LaD\n",
      "16: Blue by Kerchak\n",
      "17: Eurovision (feat. Rondodasosa, Baby Gang, A2 Anti, Morad, Beny Jr, Ashe 22 & Freeze corleone) by Central Cee\n",
      "18: Règne sur le monde by Freeze corleone\n",
      "19: CP_009_ Évidemment by Orelsan\n",
      "20: Dernière danse by Kyo\n",
      "21: Violette & citronnelle by ZZCCMXTP\n",
      "22: Ta reine by Angèle\n",
      "23: Diarabi by Kaaris\n",
      "24: Adieu les filles by KronoMuzik\n",
      "25: My Love Mine All Mine by Mitski\n",
      "26: FRAUDE by Amine Farsi\n",
      "27: Metaverse by Rim'K\n",
      "28: MW2 by Freeze corleone\n",
      "29: Cesse cesse by Clou\n",
      "30: Zoo by Kaaris\n",
      "31: Oui, je l'adore by Pauline Ester\n",
      "32: Rap catéchisme by Freeze corleone\n",
      "33: Polémique by Freeze corleone\n",
      "34: Freeze Raël by Freeze corleone\n",
      "35: Symphonie du bendo by Naza\n",
      "36: OH MADELEINE by Disiz\n",
      "37: Calme toi by Kerchak\n",
      "38: Tchoin by Kaaris\n",
      "39: Let Me Down Slowly by Alec Benjamin\n",
      "40: Scellé part.2 by Freeze corleone\n",
      "41: Feat. by KIK\n",
      "42: Arrêt du cœur by Kalash Criminel\n",
      "43: A chaque jour... by Dosseh\n",
      "44: Panama by Kaaris\n",
      "45: Brothers by Rilès\n",
      "46: Comme des enfants by Cœur De Pirate\n",
      "47: Shavkat by Freeze corleone\n",
      "48: 8h sonne by ANAÏS MVA\n",
      "49: Gun salute by Kaaris\n",
      "50: Bling Bling by Kaaris\n"
     ]
    }
   ],
   "execution_count": 41
  },
  {
   "metadata": {},
   "cell_type": "markdown",
   "source": "### Get the track IDs to fetch audio features",
   "id": "95db3ec2956adcd3"
  },
  {
   "metadata": {
    "ExecuteTime": {
     "end_time": "2024-12-11T12:41:12.001450Z",
     "start_time": "2024-12-11T12:41:11.999073Z"
    }
   },
   "cell_type": "code",
   "source": [
    "track_ids = [track['id'] for track in top_tracks['items']]\n",
    "\n",
    "print(f\"Track IDs: {track_ids}\")"
   ],
   "id": "b95fbf4214ff17b0",
   "outputs": [
    {
     "name": "stdout",
     "output_type": "stream",
     "text": [
      "Track IDs: ['4sEq16gV91gLn4xgfbDPQt', '6JTFR9jAJ9z8jUiGo2q1PV', '0w6lsLBvhtGcqMYA7MB7r6', '5NV2E7EClr01hmQYLyoDOr', '2ap3iiAG2VJ027m3HtleZL', '3jBIofMaOimfUgK4E3hBGB', '6gpfhniHLBtdj5E1a1VM1S', '3jjsRKEsF42ccXf8kWR3nu', '27gxyjy1stzbiaYUJP719r', '479TjlDwB0JAyPjZjxFah8', '3RXT1XhZSOgkD2pjzXBLHj', '2hUn92NSiQc3MBKYjhgUgc', '2Yy5cJk1eDZ7rRAND119W1', '17Kr5yFiPWlfWJo3c65sE1', '09MdPU11JSdnJGfAGlHHf3', '7wBoSW48q4ZFe8qSdozqqi', '4f5TKGvkD4TkTjr61GKNAG', '363mqittn6QH7w5qMmsEB0', '6btgTbK2UslfSu0qjTEXQm', '3UYc8Rc0hskiAzyvczieGl', '2INs1g6Vfcxo3BWxfoG51U', '3iXhLi33EpUfcOwasC8un1', '1BuOKZA8fokaiEVqBkIHF1', '4RPBN897qKd3wEsxmtSUqd', '3vkCueOmm7xQDoJ17W1Pm3', '5KuU8cuhCGJRmAUZsqUBRE', '7rzjdyHmqwloCA16UBdDgg', '2sMxeHjS9rQh9gB92rcRF9', '1i5nz3R4l37hQ2NmccbXxZ', '3BaGyruhFKKP6f8e2koRri', '6w2Kgprot9BesN76ka2NwK', '2J0AJV5DsKyDuX1qEgJngB', '5cTitJ7nqx8eeJCNIgdHjp', '6DPrYPPGYK218iVIZDix3i', '4Aam8WAOsj5CwZwYcjSCWD', '6mlYa6FsNSfpBtr8axmVoc', '30d0q6kt1BIfwAQUCAfxVQ', '6cryNSlBitzoR2Y5HROrii', '2qxmye6gAegTMjLKEBoR3d', '5IkofYa6Ac1plKIf6nYkDE', '6bImukrYG17iVAr8aa78F8', '2zvseOSbmKBuYBOe264UYm', '0Vi7aOPdOU683VUfZ79c0d', '2HimJmsy7QZOauXXvlCd2m', '45KqDHTOJtIM53QR1gPGTa', '0FNFkTfptDRi0AFaulrpOY', '1A3eBtA4ath65H7PFySd6l', '49kWhmgy3QXiUK9d6UHmEF', '5UgUGPknu6JRgawaJAO9rX', '0tTO8sPwWzlEh2CzUMFZE2']\n"
     ]
    }
   ],
   "execution_count": 42
  },
  {
   "metadata": {},
   "cell_type": "markdown",
   "source": "### Load data_appended dataset and fetch the top tracks using ids",
   "id": "268f8e22a9ddbc53"
  },
  {
   "metadata": {
    "ExecuteTime": {
     "end_time": "2024-12-11T12:41:15.122794Z",
     "start_time": "2024-12-11T12:41:14.566524Z"
    }
   },
   "cell_type": "code",
   "source": [
    "data = pd.read_csv(\"data/data_appended.csv\")\n",
    "\n",
    "top_tracks_data = data[data['id'].isin(track_ids)]\n",
    "\n",
    "print(\"Top tracks data :\")\n",
    "print(\"Found a total of {} tracks\".format(len(top_tracks_data)))\n",
    "print(top_tracks_data)\n",
    "\n",
    "track_to_analyse = top_tracks_data['id'].tolist()\n",
    "\n",
    "print(track_to_analyse)\n",
    "print(\"Tracks that are not in top track :\")\n",
    "for idx,track in enumerate(top_tracks['items']):\n",
    "    if track['id'] not in top_tracks_data['id'].values:\n",
    "        print(f\"{idx}: {track['name']} by {track['artists'][0]['name']}\")"
   ],
   "id": "ce014ee55cb6089e",
   "outputs": [
    {
     "name": "stdout",
     "output_type": "stream",
     "text": [
      "Top tracks data :\n",
      "Found a total of 3 tracks\n",
      "        valence  year  acousticness            artists  danceability  \\\n",
      "19263     0.483  2018        0.7400  ['Alec Benjamin']         0.652   \n",
      "200896    0.582     0        0.1330          ['Rilès']         0.670   \n",
      "215676    0.567     0        0.0092         ['Mitski']         0.613   \n",
      "\n",
      "        duration_ms  energy  explicit                      id  \\\n",
      "19263      169354.0   0.557         0  2qxmye6gAegTMjLKEBoR3d   \n",
      "200896     182044.0   0.630         1  45KqDHTOJtIM53QR1gPGTa   \n",
      "215676     128198.0   0.822         0  3jjsRKEsF42ccXf8kWR3nu   \n",
      "\n",
      "        instrumentalness  key  liveness  loudness  mode  \\\n",
      "19263              0.000  1.0     0.124    -5.714   0.0   \n",
      "200896             0.000  1.0     0.118    -3.651   1.0   \n",
      "215676             0.506  9.0     0.429    -4.087   1.0   \n",
      "\n",
      "                         name  popularity  speechiness    tempo    genre  \n",
      "19263      Let Me Down Slowly        84.0       0.0318  150.073  ['pop']  \n",
      "200896               Brothers        58.0       0.0694   86.025       []  \n",
      "215676  Washing Machine Heart        83.0       0.0260  105.997       []  \n",
      "['2qxmye6gAegTMjLKEBoR3d', '45KqDHTOJtIM53QR1gPGTa', '3jjsRKEsF42ccXf8kWR3nu']\n",
      "Tracks that are not in top track :\n",
      "0: 669 Tah by Mini RTTCLAN\n",
      "1: Kpop by Freeze corleone\n",
      "2: La Quête by Orelsan\n",
      "3: Double K by Kaaris\n",
      "4: Dimanche by Leo Roi\n",
      "5: Ancelotti by Freeze corleone\n",
      "6: M-A-espace-M-I-E by MPL\n",
      "8: Orézon by Oré\n",
      "9: Apocalypse by Kaaris\n",
      "10: Le roi des ombres - Extrait de la BO 'Le roi des ombres' by Kaaris\n",
      "11: Se-vrak by Kaaris\n",
      "12: Jeune intermittent by Spider ZED\n",
      "13: Crève-cœur by Adèle Castillon\n",
      "14: 7 sur 7 by Koba LaD\n",
      "15: Blue by Kerchak\n",
      "16: Eurovision (feat. Rondodasosa, Baby Gang, A2 Anti, Morad, Beny Jr, Ashe 22 & Freeze corleone) by Central Cee\n",
      "17: Règne sur le monde by Freeze corleone\n",
      "18: CP_009_ Évidemment by Orelsan\n",
      "19: Dernière danse by Kyo\n",
      "20: Violette & citronnelle by ZZCCMXTP\n",
      "21: Ta reine by Angèle\n",
      "22: Diarabi by Kaaris\n",
      "23: Adieu les filles by KronoMuzik\n",
      "24: My Love Mine All Mine by Mitski\n",
      "25: FRAUDE by Amine Farsi\n",
      "26: Metaverse by Rim'K\n",
      "27: MW2 by Freeze corleone\n",
      "28: Cesse cesse by Clou\n",
      "29: Zoo by Kaaris\n",
      "30: Oui, je l'adore by Pauline Ester\n",
      "31: Rap catéchisme by Freeze corleone\n",
      "32: Polémique by Freeze corleone\n",
      "33: Freeze Raël by Freeze corleone\n",
      "34: Symphonie du bendo by Naza\n",
      "35: OH MADELEINE by Disiz\n",
      "36: Calme toi by Kerchak\n",
      "37: Tchoin by Kaaris\n",
      "39: Scellé part.2 by Freeze corleone\n",
      "40: Feat. by KIK\n",
      "41: Arrêt du cœur by Kalash Criminel\n",
      "42: A chaque jour... by Dosseh\n",
      "43: Panama by Kaaris\n",
      "45: Comme des enfants by Cœur De Pirate\n",
      "46: Shavkat by Freeze corleone\n",
      "47: 8h sonne by ANAÏS MVA\n",
      "48: Gun salute by Kaaris\n",
      "49: Bling Bling by Kaaris\n"
     ]
    }
   ],
   "execution_count": 43
  },
  {
   "metadata": {
    "ExecuteTime": {
     "end_time": "2024-12-04T13:50:58.562962Z",
     "start_time": "2024-12-04T13:50:58.543381Z"
    }
   },
   "cell_type": "code",
   "source": [
    "#Throw an error to stop the execution here\n",
    "throw_error()"
   ],
   "id": "f4af99c8a4fc6f87",
   "outputs": [
    {
     "ename": "TypeError",
     "evalue": "throw_error.__init__() missing 1 required positional argument: 'mess'",
     "output_type": "error",
     "traceback": [
      "\u001B[0;31m---------------------------------------------------------------------------\u001B[0m",
      "\u001B[0;31mTypeError\u001B[0m                                 Traceback (most recent call last)",
      "Cell \u001B[0;32mIn[40], line 2\u001B[0m\n\u001B[1;32m      1\u001B[0m \u001B[38;5;66;03m#Throw an error to stop the execution here\u001B[39;00m\n\u001B[0;32m----> 2\u001B[0m \u001B[43mthrow_error\u001B[49m\u001B[43m(\u001B[49m\u001B[43m)\u001B[49m\n",
      "\u001B[0;31mTypeError\u001B[0m: throw_error.__init__() missing 1 required positional argument: 'mess'"
     ]
    }
   ],
   "execution_count": 40
  },
  {
   "metadata": {
    "ExecuteTime": {
     "end_time": "2024-12-11T12:42:01.544024Z",
     "start_time": "2024-12-11T12:42:00.114802Z"
    }
   },
   "cell_type": "code",
   "source": [
    "from useKeam import FindSimilarSong\n",
    "\n",
    "f = FindSimilarSong()\n",
    "result = f.find_songs_for_playlist(track_to_analyse)\n",
    "\n",
    "\n"
   ],
   "id": "b5168c3867ae2a70",
   "outputs": [],
   "execution_count": 44
  },
  {
   "metadata": {},
   "cell_type": "markdown",
   "source": "### Create Spotify playlist",
   "id": "db6769386773b483"
  },
  {
   "metadata": {
    "ExecuteTime": {
     "end_time": "2024-12-11T12:42:15.705356Z",
     "start_time": "2024-12-11T12:42:15.347120Z"
    }
   },
   "cell_type": "code",
   "source": [
    "# Get user ID (required to create a playlist)\n",
    "user_id = sp.current_user()['id']\n",
    "\n",
    "# Create a new playlist\n",
    "playlist_name = \"AI-ify Playlist\"\n",
    "playlist_description = \"This is a playlist created using AI-ify.\"\n",
    "playlist = sp.user_playlist_create(user_id, playlist_name, public=True, description=playlist_description)\n",
    "\n",
    "# Add tracks to the playlist\n",
    "sp.playlist_add_items(playlist['id'], result)"
   ],
   "id": "6c021437e23baf06",
   "outputs": [
    {
     "data": {
      "text/plain": [
       "{'snapshot_id': 'AAAAAhsf1CmKa1k3QNNpv8xsTDJ84pXt'}"
      ]
     },
     "execution_count": 45,
     "metadata": {},
     "output_type": "execute_result"
    }
   ],
   "execution_count": 45
  }
 ],
 "metadata": {
  "kernelspec": {
   "display_name": "Python 3",
   "language": "python",
   "name": "python3"
  },
  "language_info": {
   "codemirror_mode": {
    "name": "ipython",
    "version": 2
   },
   "file_extension": ".py",
   "mimetype": "text/x-python",
   "name": "python",
   "nbconvert_exporter": "python",
   "pygments_lexer": "ipython2",
   "version": "2.7.6"
  }
 },
 "nbformat": 4,
 "nbformat_minor": 5
}
