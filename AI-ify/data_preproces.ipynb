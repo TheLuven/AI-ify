{
 "cells": [
  {
   "metadata": {},
   "cell_type": "markdown",
   "source": "# Import libraries",
   "id": "a0f75fd8e575a566"
  },
  {
   "metadata": {},
   "cell_type": "code",
   "outputs": [],
   "execution_count": null,
   "source": [
    "import matplotlib.pyplot as plt\n",
    "import pandas as pd\n",
    "import seaborn as sns"
   ],
   "id": "da170422d80f445b"
  },
  {
   "metadata": {},
   "cell_type": "markdown",
   "source": "# Data preprocessing",
   "id": "92326b9ef65f0ff5"
  },
  {
   "metadata": {},
   "cell_type": "markdown",
   "source": "²### Read the data from the csv files",
   "id": "e6b308b463a7ee7b"
  },
  {
   "metadata": {},
   "cell_type": "code",
   "outputs": [],
   "execution_count": null,
   "source": [
    "data1 = pd.read_csv(\"data/data_170k.csv\")\n",
    "data2 = pd.read_csv(\"data/data_114k.csv\")\n",
    "data3 = pd.read_csv(\"data/data_169k.csv\")\n",
    "print(data1.shape)\n",
    "print(data2.shape)\n",
    "print(data3.shape)"
   ],
   "id": "7a4676e4ad30c601"
  },
  {
   "metadata": {},
   "cell_type": "markdown",
   "source": "### Concatenate data1, data2 and data3",
   "id": "7be84279790ed1ef"
  },
  {
   "metadata": {},
   "cell_type": "code",
   "outputs": [],
   "execution_count": null,
   "source": [
    "# Concatenate data1, data2 and data3\n",
    "data_appended = pd.concat([data1, data2, data3])\n",
    "print(data_appended.shape)"
   ],
   "id": "75b3ce51771f8edf"
  },
  {
   "metadata": {},
   "cell_type": "markdown",
   "source": "### Cast the 'explicit' column to a 1 and 0 value",
   "id": "ab1f18adc0160f58"
  },
  {
   "metadata": {},
   "cell_type": "code",
   "outputs": [],
   "execution_count": null,
   "source": [
    "# Changes all true and false value to 1 and 0 value\n",
    "data_appended['explicit'] = data_appended['explicit'].apply(lambda x: 1 if x == True else 0)\n",
    "# Print the all the type of value of the column 'explicit'\n",
    "print(data_appended['explicit'].unique())"
   ],
   "id": "f64f5f0b486596b8"
  },
  {
   "metadata": {},
   "cell_type": "markdown",
   "source": "### Remove duplicates",
   "id": "3ca714a0ccc6ee64"
  },
  {
   "metadata": {},
   "cell_type": "markdown",
   "source": "### Remove duplicates based on the 'id' column",
   "id": "7c48e4d76fe219ac"
  },
  {
   "metadata": {},
   "cell_type": "code",
   "outputs": [],
   "execution_count": null,
   "source": [
    "data_appended.drop_duplicates(subset=['id'], keep='first', inplace=True)\n",
    "print(data_appended.shape)"
   ],
   "id": "2f77d335f40147a7"
  },
  {
   "metadata": {},
   "cell_type": "markdown",
   "source": "### Remove rows with NaN values in the 'artists' column",
   "id": "90ca3edbba929d39"
  },
  {
   "metadata": {},
   "cell_type": "code",
   "outputs": [],
   "execution_count": null,
   "source": [
    "data_appended = data_appended[~data_appended['artists'].apply(lambda x: isinstance(x, float))]\n",
    "print(data_appended.shape)"
   ],
   "id": "b3b79d5992e899f3"
  },
  {
   "metadata": {},
   "cell_type": "markdown",
   "source": "### Change Genre to a list of genres",
   "id": "c7460fcee7d8ebc9"
  },
  {
   "metadata": {},
   "cell_type": "code",
   "outputs": [],
   "execution_count": null,
   "source": [
    "print(data_appended[['artists', 'genre']].head())\n",
    "\n",
    "data_w_genres = pd.read_csv(\"data/data_w_genres.csv\")\n",
    "\n",
    "artist_genre = dict(zip(data_w_genres['artists'], data_w_genres['genres']))\n",
    "\n",
    "\n",
    "def add_genre(row):\n",
    "    genres = set()\n",
    "    row['artists'] = row['artists'][2:-2]\n",
    "    artists = row['artists'].split(', ')\n",
    "    for artist in artists:\n",
    "        if artist in artist_genre:\n",
    "            genres.add(artist_genre[artist])\n",
    "    return ', '.join(genres) if genres else []\n",
    "\n",
    "\n",
    "data_appended['genre'] = data_appended.apply(add_genre, axis=1)\n",
    "\n",
    "print(data_appended[['artists', 'genre']].head())"
   ],
   "id": "354efa725c42868a"
  },
  {
   "metadata": {},
   "cell_type": "markdown",
   "source": "### Cast the 'artists' column to a list of name(s)",
   "id": "aa9864bf0b13bfc7"
  },
  {
   "metadata": {},
   "cell_type": "code",
   "outputs": [],
   "execution_count": null,
   "source": [
    "# Iterate through the 'artists' column and ensure the format is ['artist1', 'artist2', ...]\n",
    "def format_artists(artists):\n",
    "    if isinstance(artists, str) and not artists.startswith('['):\n",
    "        # Split the string by ';' and cast in the format ['artist1', 'artist2', ...]\n",
    "        return [artist.strip() for artist in artists.split(';')]\n",
    "    else:\n",
    "        return artists\n",
    "\n",
    "\n",
    "# Print some exemple of the 'artists' column before the cast\n",
    "print(\"Before Cast:\")\n",
    "print(data_appended.iloc[0].to_dict()['artists'])\n",
    "print(data_appended.iloc[107281].to_dict()['artists'])\n",
    "print(data_appended.iloc[198057].to_dict()['artists'])\n",
    "print(data_appended.iloc[212638].to_dict()['artists'])\n",
    "\n",
    "data_appended['artists'] = data_appended['artists'].apply(format_artists)\n",
    "\n",
    "# Print the same exemple of the 'artists' column after the cast\n",
    "print(\"\\nAfter Cast:\")\n",
    "print(data_appended.iloc[0].to_dict()['artists'])\n",
    "print(data_appended.iloc[107281].to_dict()['artists'])\n",
    "print(data_appended.iloc[198057].to_dict()['artists'])\n",
    "print(data_appended.iloc[212638].to_dict()['artists'])"
   ],
   "id": "c00e92412421d9f7"
  },
  {
   "metadata": {},
   "cell_type": "markdown",
   "source": "### Calculate the number of different artists",
   "id": "e8d262b59c1162b8"
  },
  {
   "metadata": {},
   "cell_type": "code",
   "outputs": [],
   "execution_count": null,
   "source": [
    "artists = data_appended['artists'].explode().unique()\n",
    "print(f\"Number of different artists: {len(artists)}\")"
   ],
   "id": "e179dd3debbdac51"
  },
  {
   "metadata": {},
   "cell_type": "markdown",
   "source": "### Append the data to a list",
   "id": "d6e126e69a394908"
  },
  {
   "metadata": {},
   "cell_type": "code",
   "outputs": [],
   "execution_count": null,
   "source": "data_appended.to_csv(\"data/data_appended.csv\", index=False)",
   "id": "64904680b5c0dc35"
  },
  {
   "metadata": {},
   "cell_type": "markdown",
   "source": "# Create the list of dictionaries",
   "id": "3c961a0cd6c2b57e"
  },
  {
   "metadata": {},
   "cell_type": "code",
   "outputs": [],
   "execution_count": null,
   "source": [
    "music_list = []\n",
    "for index, row in data_appended.iterrows():\n",
    "    features_info = row.to_dict()\n",
    "    music_list.append(features_info)\n",
    "print(music_list[:5])"
   ],
   "id": "9d1ee9f088c7168c"
  },
  {
   "metadata": {},
   "cell_type": "markdown",
   "source": "## Visualize the data",
   "id": "3ae4d3554006bb8c"
  },
  {
   "metadata": {},
   "cell_type": "code",
   "outputs": [],
   "execution_count": null,
   "source": [
    "# Artists with the most music per year\n",
    "filtered_data = data_appended[data_appended['year'] != 0]\n",
    "exploded_data = filtered_data.explode('artists')\n",
    "artist_year_counts = exploded_data.groupby(['year', 'artists']).size().reset_index(name='Count')\n",
    "top_artist_per_year = artist_year_counts.loc[artist_year_counts.groupby('year')['Count'].idxmax()]\n",
    "top_artist_per_year['artist_year'] = top_artist_per_year.apply(lambda row: f\"{row['artists']} ({row['year']})\", axis=1)\n",
    "plt.figure(figsize=(30, 10))\n",
    "sns.barplot(data=top_artist_per_year, x='year', y='Count', hue='artist_year')\n",
    "plt.title('Artist with the most music per year')\n",
    "plt.xlabel('Year')\n",
    "plt.ylabel('Number of musics')\n",
    "plt.legend(title='Artistes', bbox_to_anchor=(0, -0.1), loc='upper left', ncol=4)\n",
    "plt.xticks(rotation=90)\n",
    "\n",
    "# Number of songs per year\n",
    "filtered_data = data_appended[data_appended['year'] != 0]\n",
    "music_count_df = filtered_data.groupby('year').size().reset_index(name='Count')\n",
    "print(\"Total of musics with a valid year\", music_count_df['Count'].sum())\n",
    "plt.figure(figsize=(10, 5))\n",
    "sns.lineplot(data=music_count_df, x='year', y='Count')\n",
    "plt.title('Number of musics by valid year')\n",
    "plt.xlabel('Year')\n",
    "plt.ylabel('Number of musics')\n",
    "\n",
    "#-- Subplot 1--\n",
    "fig1, axes1 = plt.subplots(2, 2, figsize=(16, 8))\n",
    "\n",
    "# Duration of the songs\n",
    "sns.histplot(data_appended['duration_ms'] / 60000, bins=30, kde=True, ax=axes1[0, 0])\n",
    "axes1[0, 0].set_title('Distribution of the duration of the musics')\n",
    "axes1[0, 0].set_xlabel('Duration (minutes)')\n",
    "axes1[0, 0].set_ylabel('Number of musics')\n",
    "\n",
    "# Popularity of the songs\n",
    "sns.histplot(data_appended['popularity'], bins=30, kde=True, ax=axes1[0, 1])\n",
    "axes1[0, 1].set_title('Distribution of the popularity of the musics')\n",
    "axes1[0, 1].set_xlabel('Popularity')\n",
    "axes1[0, 1].set_ylabel('Number of musics')\n",
    "\n",
    "# Energy of the songs\n",
    "sns.histplot(data_appended['energy'], bins=30, kde=True, ax=axes1[1, 0])\n",
    "axes1[1, 0].set_title('Distribution of the energy of the musics')\n",
    "axes1[1, 0].set_xlabel('Energy')\n",
    "axes1[1, 0].set_ylabel('Number of musics')\n",
    "\n",
    "# Tempo of the songs\n",
    "sns.histplot(data_appended['tempo'], bins=30, kde=True, ax=axes1[1, 1])\n",
    "axes1[1, 1].set_title('Distribution of the tempo of the musics')\n",
    "axes1[1, 1].set_xlabel('Tempo')\n",
    "axes1[1, 1].set_ylabel('Number of musics')\n",
    "\n",
    "plt.tight_layout()\n",
    "#-- Subplot 1--\n",
    "\n",
    "#-- Subplot 2--\n",
    "fig2, axes2 = plt.subplots(1, 3, figsize=(16, 8))\n",
    "\n",
    "# Artists with the most music\n",
    "artist_counts = data_appended['artists'].explode().value_counts().head(10)\n",
    "sns.barplot(x=artist_counts.values, y=artist_counts.index, ax=axes2[0])\n",
    "axes2[0].set_title('Top 10 Artists with the most music')\n",
    "axes2[0].set_xlabel('Number of musics')\n",
    "axes2[0].set_ylabel('Artist')\n",
    "\n",
    "# number of music by genre excluding empty []\n",
    "filtered_data = data_appended[data_appended['genre'] != '[]']\n",
    "genre_counts = filtered_data['genre'].explode().value_counts().head(10)\n",
    "sns.barplot(x=genre_counts.values, y=genre_counts.index, ax=axes2[1])\n",
    "axes2[1].set_title('Number of musics by genre')\n",
    "axes2[1].set_xlabel('Number of musics')\n",
    "axes2[1].set_ylabel('Genre')\n",
    "\n",
    "# Explicit content\n",
    "explicit_counts = data_appended['explicit'].value_counts()\n",
    "sns.barplot(x=explicit_counts.index, y=explicit_counts.values, ax=axes2[2])\n",
    "axes2[1].set_title('Distribution of explicit content')\n",
    "axes2[1].set_xlabel('Explicit (True/False)')\n",
    "axes2[1].set_ylabel('Number of musics')\n",
    "\n",
    "plt.tight_layout()\n",
    "#-- Subplot 2--\n",
    "\n",
    "# Display the graph\n",
    "plt.show()"
   ],
   "id": "e2247a684796c88b"
  }
 ],
 "metadata": {
  "kernelspec": {
   "display_name": "Python 3",
   "language": "python",
   "name": "python3"
  },
  "language_info": {
   "codemirror_mode": {
    "name": "ipython",
    "version": 2
   },
   "file_extension": ".py",
   "mimetype": "text/x-python",
   "name": "python",
   "nbconvert_exporter": "python",
   "pygments_lexer": "ipython2",
   "version": "2.7.6"
  }
 },
 "nbformat": 4,
 "nbformat_minor": 5
}
