{
 "cells": [
  {
   "metadata": {},
   "cell_type": "markdown",
   "source": "# Import libraries",
   "id": "3e4d29fa0fa51564"
  },
  {
   "metadata": {
    "ExecuteTime": {
     "end_time": "2024-12-11T08:59:51.253079Z",
     "start_time": "2024-12-11T08:59:51.236959Z"
    }
   },
   "cell_type": "code",
   "source": "import pandas as pd",
   "id": "ddcad570d8fa69f3",
   "outputs": [],
   "execution_count": 39
  },
  {
   "metadata": {},
   "cell_type": "markdown",
   "source": "# Data preprocessing",
   "id": "fe1d5af757e1e41b"
  },
  {
   "metadata": {},
   "cell_type": "markdown",
   "source": "## Code to cast,remove duplicates and append data",
   "id": "96919f8bd9391bc8"
  },
  {
   "metadata": {},
   "cell_type": "markdown",
   "source": "### Read the data from the csv files",
   "id": "3bc8e8deb6944af4"
  },
  {
   "metadata": {
    "ExecuteTime": {
     "end_time": "2024-12-11T08:59:54.693853Z",
     "start_time": "2024-12-11T08:59:51.314787Z"
    }
   },
   "cell_type": "code",
   "source": [
    "data1 = pd.read_csv(\"data/data_170k.csv\")\n",
    "data2 = pd.read_csv(\"data/data_114k.csv\")\n",
    "data3 = pd.read_csv(\"data/data_169k.csv\")\n",
    "\n",
    "print(data1.shape)\n",
    "print(data2.shape)\n",
    "print(data3.shape)"
   ],
   "id": "29e2a9c75fcd479e",
   "outputs": [
    {
     "name": "stdout",
     "output_type": "stream",
     "text": [
      "(170653, 19)\n",
      "(114000, 19)\n",
      "(169909, 19)\n"
     ]
    }
   ],
   "execution_count": 40
  },
  {
   "metadata": {},
   "cell_type": "markdown",
   "source": "### Concatenate data1, data2 and data3",
   "id": "e5b4ff74e7ceb726"
  },
  {
   "metadata": {
    "ExecuteTime": {
     "end_time": "2024-12-11T08:59:54.954373Z",
     "start_time": "2024-12-11T08:59:54.781438Z"
    }
   },
   "cell_type": "code",
   "source": [
    "# Concatenate data1, data2 and data3\n",
    "data_appended = pd.concat([data1, data2, data3])\n",
    "print(data_appended.shape)"
   ],
   "id": "f804c3f53e6d0a95",
   "outputs": [
    {
     "name": "stdout",
     "output_type": "stream",
     "text": [
      "(454562, 19)\n"
     ]
    }
   ],
   "execution_count": 41
  },
  {
   "metadata": {},
   "cell_type": "markdown",
   "source": "### Cast the 'explicit' column to a 1 and 0 value",
   "id": "a49245e9dff2230e"
  },
  {
   "metadata": {
    "ExecuteTime": {
     "end_time": "2024-12-11T08:59:55.534104Z",
     "start_time": "2024-12-11T08:59:55.050523Z"
    }
   },
   "cell_type": "code",
   "source": [
    "# Changes all true and false value to 1 and 0 value\n",
    "data_appended['explicit'] = data_appended['explicit'].apply(lambda x: 1 if x == True else 0)\n",
    "# Print the all the type of value of the column 'explicit'\n",
    "print(data_appended['explicit'].unique())"
   ],
   "id": "ffcea1e3769110e1",
   "outputs": [
    {
     "name": "stdout",
     "output_type": "stream",
     "text": [
      "[0 1]\n"
     ]
    }
   ],
   "execution_count": 42
  },
  {
   "metadata": {},
   "cell_type": "markdown",
   "source": "### Remove duplicates",
   "id": "7c7eadedd73dc294"
  },
  {
   "metadata": {},
   "cell_type": "markdown",
   "source": "### Remove duplicates based on the 'id' column",
   "id": "7b9bbd73c0d859ee"
  },
  {
   "metadata": {
    "ExecuteTime": {
     "end_time": "2024-12-11T08:59:56.562751Z",
     "start_time": "2024-12-11T08:59:55.606804Z"
    }
   },
   "cell_type": "code",
   "source": [
    "data_appended.drop_duplicates(subset=['id'], keep='first', inplace=True)\n",
    "print(data_appended.shape)"
   ],
   "id": "47c286c47de2d1ea",
   "outputs": [
    {
     "name": "stdout",
     "output_type": "stream",
     "text": [
      "(271839, 19)\n"
     ]
    }
   ],
   "execution_count": 43
  },
  {
   "metadata": {},
   "cell_type": "markdown",
   "source": "### Remove rows with NaN values in the 'artists' column",
   "id": "3e6671f0eed6b83b"
  },
  {
   "metadata": {
    "ExecuteTime": {
     "end_time": "2024-12-11T08:59:56.994695Z",
     "start_time": "2024-12-11T08:59:56.660864Z"
    }
   },
   "cell_type": "code",
   "source": [
    "data_appended = data_appended[~data_appended['artists'].apply(lambda x: isinstance(x, float))]\n",
    "print(data_appended.shape)"
   ],
   "id": "8296d4c16e5b4571",
   "outputs": [
    {
     "name": "stdout",
     "output_type": "stream",
     "text": [
      "(271837, 19)\n"
     ]
    }
   ],
   "execution_count": 44
  },
  {
   "metadata": {},
   "cell_type": "markdown",
   "source": "### Cast the 'artists' column to a list of name(s)",
   "id": "e46ab1441050470e"
  },
  {
   "metadata": {
    "ExecuteTime": {
     "end_time": "2024-12-11T08:59:57.501523Z",
     "start_time": "2024-12-11T08:59:57.088052Z"
    }
   },
   "cell_type": "code",
   "source": [
    "# Iterate through the 'artists' column and ensure the format is ['artist1', 'artist2', ...]\n",
    "def format_artists(artists):\n",
    "    if isinstance(artists, str) and not artists.startswith('['):\n",
    "        # Split the string by ';' and cast in the format ['artist1', 'artist2', ...]\n",
    "        return [artist.strip() for artist in artists.split(';')]\n",
    "    else:\n",
    "        return artists\n",
    "\n",
    "# Print some exemple of the 'artists' column before the cast\n",
    "print(\"Before Cast:\")\n",
    "print(data_appended.iloc[0].to_dict()['artists'])\n",
    "print(data_appended.iloc[107281].to_dict()['artists'])\n",
    "print(data_appended.iloc[198057].to_dict()['artists'])\n",
    "print(data_appended.iloc[212638].to_dict()['artists'])\n",
    "\n",
    "data_appended['artists'] = data_appended['artists'].apply(format_artists)\n",
    "\n",
    "# Print the same exemple of the 'artists' column after the cast\n",
    "print(\"\\nAfter Cast:\")\n",
    "print(data_appended.iloc[0].to_dict()['artists'])\n",
    "print(data_appended.iloc[107281].to_dict()['artists'])\n",
    "print(data_appended.iloc[198057].to_dict()['artists'])\n",
    "print(data_appended.iloc[212638].to_dict()['artists'])"
   ],
   "id": "7763d6f3ed1a33f9",
   "outputs": [
    {
     "name": "stdout",
     "output_type": "stream",
     "text": [
      "Before Cast:\n",
      "['Sergei Rachmaninoff', 'James Levine', 'Berliner Philharmoniker']\n",
      "['Ghost']\n",
      "Unodavid\n",
      "Wisin & Yandel;Chris Brown;T-Pain\n",
      "\n",
      "After Cast:\n",
      "['Sergei Rachmaninoff', 'James Levine', 'Berliner Philharmoniker']\n",
      "['Ghost']\n",
      "['Unodavid']\n",
      "['Wisin & Yandel', 'Chris Brown', 'T-Pain']\n"
     ]
    }
   ],
   "execution_count": 45
  },
  {
   "metadata": {},
   "cell_type": "markdown",
   "source": "### Append the data to a list",
   "id": "6e9845920b77e09a"
  },
  {
   "metadata": {
    "ExecuteTime": {
     "end_time": "2024-12-11T09:00:05.110711Z",
     "start_time": "2024-12-11T08:59:57.592256Z"
    }
   },
   "cell_type": "code",
   "source": "data_appended.to_csv(\"data/data_appended.csv\", index=False)",
   "id": "a0c1fd8d66990211",
   "outputs": [],
   "execution_count": 46
  },
  {
   "metadata": {},
   "cell_type": "markdown",
   "source": "# Create the list of dictionaries",
   "id": "ab03063a066e3a19"
  },
  {
   "metadata": {
    "ExecuteTime": {
     "end_time": "2024-12-11T09:00:44.296464Z",
     "start_time": "2024-12-11T09:00:05.169126Z"
    }
   },
   "cell_type": "code",
   "source": [
    "music_list = []\n",
    "for index, row in data_appended.iterrows():\n",
    "    features_info = row.to_dict()\n",
    "    music_list.append(features_info)\n",
    "\n",
    "print(music_list[:5])"
   ],
   "id": "57f66c28a9cb78ab",
   "outputs": [
    {
     "name": "stdout",
     "output_type": "stream",
     "text": [
      "[{'valence': 0.0594, 'year': 1921, 'acousticness': 0.982, 'artists': \"['Sergei Rachmaninoff', 'James Levine', 'Berliner Philharmoniker']\", 'danceability': 0.279, 'duration_ms': 831667.0, 'energy': 0.211, 'explicit': 0, 'id': '4BJqT0PrAfrxzMOxytFOIz', 'instrumentalness': 0.878, 'key': 10.0, 'liveness': 0.665, 'loudness': -20.096, 'mode': 1.0, 'name': 'Piano Concerto No. 3 in D Minor, Op. 30: III. Finale. Alla breve', 'popularity': 4.0, 'speechiness': 0.0366, 'tempo': 80.954, 'genre': 'unknown'}, {'valence': 0.963, 'year': 1921, 'acousticness': 0.732, 'artists': \"['Dennis Day']\", 'danceability': 0.8190000000000001, 'duration_ms': 180533.0, 'energy': 0.341, 'explicit': 0, 'id': '7xPhfUan2yNtyFG0cUWkt8', 'instrumentalness': 0.0, 'key': 7.0, 'liveness': 0.16, 'loudness': -12.441, 'mode': 1.0, 'name': 'Clancy Lowered the Boom', 'popularity': 5.0, 'speechiness': 0.415, 'tempo': 60.93600000000001, 'genre': 'unknown'}, {'valence': 0.0394, 'year': 1921, 'acousticness': 0.961, 'artists': \"['KHP Kridhamardawa Karaton Ngayogyakarta Hadiningrat']\", 'danceability': 0.328, 'duration_ms': 500062.0, 'energy': 0.166, 'explicit': 0, 'id': '1o6I8BglA6ylDMrIELygv1', 'instrumentalness': 0.913, 'key': 3.0, 'liveness': 0.101, 'loudness': -14.85, 'mode': 1.0, 'name': 'Gati Bali', 'popularity': 5.0, 'speechiness': 0.0339, 'tempo': 110.339, 'genre': 'unknown'}, {'valence': 0.165, 'year': 1921, 'acousticness': 0.967, 'artists': \"['Frank Parker']\", 'danceability': 0.275, 'duration_ms': 210000.0, 'energy': 0.309, 'explicit': 0, 'id': '3ftBPsC5vPBKxYSee08FDH', 'instrumentalness': 2.77e-05, 'key': 5.0, 'liveness': 0.381, 'loudness': -9.316, 'mode': 1.0, 'name': 'Danny Boy', 'popularity': 3.0, 'speechiness': 0.0354, 'tempo': 100.109, 'genre': 'unknown'}, {'valence': 0.253, 'year': 1921, 'acousticness': 0.957, 'artists': \"['Phil Regan']\", 'danceability': 0.418, 'duration_ms': 166693.0, 'energy': 0.193, 'explicit': 0, 'id': '4d6HGyGT8e121BsdKmw9v6', 'instrumentalness': 1.68e-06, 'key': 3.0, 'liveness': 0.229, 'loudness': -10.096, 'mode': 1.0, 'name': 'When Irish Eyes Are Smiling', 'popularity': 2.0, 'speechiness': 0.038, 'tempo': 101.665, 'genre': 'unknown'}]\n"
     ]
    }
   ],
   "execution_count": 47
  }
 ],
 "metadata": {
  "kernelspec": {
   "display_name": "Python 3",
   "language": "python",
   "name": "python3"
  },
  "language_info": {
   "codemirror_mode": {
    "name": "ipython",
    "version": 2
   },
   "file_extension": ".py",
   "mimetype": "text/x-python",
   "name": "python",
   "nbconvert_exporter": "python",
   "pygments_lexer": "ipython2",
   "version": "2.7.6"
  }
 },
 "nbformat": 4,
 "nbformat_minor": 5
}
