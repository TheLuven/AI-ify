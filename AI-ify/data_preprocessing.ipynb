{
 "cells": [
  {
   "metadata": {},
   "cell_type": "markdown",
   "source": "# Import libraries",
   "id": "27675c8918781fc"
  },
  {
   "cell_type": "code",
   "id": "initial_id",
   "metadata": {
    "collapsed": true,
    "ExecuteTime": {
     "end_time": "2024-12-04T15:27:40.904162Z",
     "start_time": "2024-12-04T15:27:40.898814Z"
    }
   },
   "source": "import pandas as pd",
   "outputs": [],
   "execution_count": 95
  },
  {
   "metadata": {},
   "cell_type": "markdown",
   "source": "# Data preprocessing",
   "id": "50ff233813e90882"
  },
  {
   "metadata": {},
   "cell_type": "markdown",
   "source": "## Code to cast,remove duplicates and append data",
   "id": "ac577246740e0016"
  },
  {
   "metadata": {},
   "cell_type": "markdown",
   "source": "### Read the data from the csv files",
   "id": "375c30a1c5fc1c5c"
  },
  {
   "metadata": {
    "ExecuteTime": {
     "end_time": "2024-12-04T15:27:41.871392Z",
     "start_time": "2024-12-04T15:27:40.972617Z"
    }
   },
   "cell_type": "code",
   "source": [
    "data1 = pd.read_csv(\"data/data_170k.csv\")\n",
    "data2 = pd.read_csv(\"data/data_114k.csv\")\n",
    "data3 = pd.read_csv(\"data/data_169k.csv\")\n",
    "\n",
    "print(data1.shape)\n",
    "print(data2.shape)\n",
    "print(data3.shape)"
   ],
   "id": "348963ea76cff516",
   "outputs": [
    {
     "name": "stdout",
     "output_type": "stream",
     "text": [
      "(170653, 19)\n",
      "(114000, 19)\n",
      "(169909, 19)\n"
     ]
    }
   ],
   "execution_count": 96
  },
  {
   "metadata": {},
   "cell_type": "markdown",
   "source": "### Concatenate data1, data2 and data3",
   "id": "8409314df30042e7"
  },
  {
   "metadata": {
    "ExecuteTime": {
     "end_time": "2024-12-04T15:27:41.905920Z",
     "start_time": "2024-12-04T15:27:41.878940Z"
    }
   },
   "cell_type": "code",
   "source": [
    "# Concatenate data1, data2 and data3\n",
    "data_appended = pd.concat([data1, data2, data3])\n",
    "print(data_appended.shape)"
   ],
   "id": "eece6865a0416c7e",
   "outputs": [
    {
     "name": "stdout",
     "output_type": "stream",
     "text": [
      "(454562, 19)\n"
     ]
    }
   ],
   "execution_count": 97
  },
  {
   "metadata": {},
   "cell_type": "markdown",
   "source": "### Cast the 'explicit' column to a 1 and 0 value",
   "id": "83a8197adeac64cd"
  },
  {
   "metadata": {
    "ExecuteTime": {
     "end_time": "2024-12-04T15:27:42.008349Z",
     "start_time": "2024-12-04T15:27:41.939590Z"
    }
   },
   "cell_type": "code",
   "source": [
    "# Changes all true and false value to 1 and 0 value\n",
    "data_appended['explicit'] = data_appended['explicit'].apply(lambda x: 1 if x == True else 0)\n",
    "# Print the all the type of value of the column 'explicit'\n",
    "print(data_appended['explicit'].unique())"
   ],
   "id": "c7a70b8d9fd7abb5",
   "outputs": [
    {
     "name": "stdout",
     "output_type": "stream",
     "text": [
      "[0 1]\n"
     ]
    }
   ],
   "execution_count": 98
  },
  {
   "metadata": {},
   "cell_type": "markdown",
   "source": "### Remove duplicates",
   "id": "493c3dc9ac0a64a9"
  },
  {
   "metadata": {
    "ExecuteTime": {
     "end_time": "2024-12-04T15:27:42.098892Z",
     "start_time": "2024-12-04T15:27:42.039246Z"
    }
   },
   "cell_type": "code",
   "source": [
    "data_appended.drop_duplicates(subset=['id'], keep='first', inplace=True)\n",
    "print(data_appended.shape)"
   ],
   "id": "80bf2579ee8af485",
   "outputs": [
    {
     "name": "stdout",
     "output_type": "stream",
     "text": [
      "(271839, 19)\n"
     ]
    }
   ],
   "execution_count": 99
  },
  {
   "metadata": {},
   "cell_type": "markdown",
   "source": "### Add genre to the genre collumns depending on the artist",
   "id": "79aaf3137f2b20db"
  },
  {
   "metadata": {
    "ExecuteTime": {
     "end_time": "2024-12-04T15:27:44.557451Z",
     "start_time": "2024-12-04T15:27:42.159628Z"
    }
   },
   "cell_type": "code",
   "source": [
    "#print the first 5 rows of the data and only the columns 'artists' and 'genres'\n",
    "print(data_appended[['artists', 'genre']].head())\n",
    "\n",
    "#load dataset data_w_genres.csv\n",
    "data_w_genres = pd.read_csv(\"data/data_w_genres.csv\")\n",
    "\n",
    "#create a dictionary with the artist as the key and the genre as the value\n",
    "artist_genre = dict(zip(data_w_genres['artists'], data_w_genres['genres']))\n",
    "\n",
    "#function to add genre to the genre collumns depending on the artist but the artists can be multiple : ['Sergei Rachmaninoff', 'James Levine', 'Berli...']\n",
    "def add_genre(row):\n",
    "    genres = set()\n",
    "    if pd.isna(row['artists']):\n",
    "        return None\n",
    "    #deletes \"['\" and \"']\" from the string\n",
    "    row['artists'] = row['artists'][2:-2]\n",
    "    artists = row['artists'].split(', ')\n",
    "    for artist in artists:\n",
    "        if artist in artist_genre:\n",
    "            genres.add(artist_genre[artist])\n",
    "    return ', '.join(genres) if genres else None\n",
    "\n",
    "#add genre to the genre collumns depending on the artist\n",
    "data_appended['genre'] = data_appended.apply(add_genre, axis=1)\n",
    "\n",
    "print(data_appended[['artists', 'genre']].head())"
   ],
   "id": "4206178f3fb017b9",
   "outputs": [
    {
     "name": "stdout",
     "output_type": "stream",
     "text": [
      "                                             artists    genre\n",
      "0  ['Sergei Rachmaninoff', 'James Levine', 'Berli...  unknown\n",
      "1                                     ['Dennis Day']  unknown\n",
      "2  ['KHP Kridhamardawa Karaton Ngayogyakarta Hadi...  unknown\n",
      "3                                   ['Frank Parker']  unknown\n",
      "4                                     ['Phil Regan']  unknown\n",
      "                                             artists genre\n",
      "0  ['Sergei Rachmaninoff', 'James Levine', 'Berli...  None\n",
      "1                                     ['Dennis Day']    []\n",
      "2  ['KHP Kridhamardawa Karaton Ngayogyakarta Hadi...    []\n",
      "3                                   ['Frank Parker']    []\n",
      "4                                     ['Phil Regan']    []\n"
     ]
    }
   ],
   "execution_count": 100
  },
  {
   "metadata": {},
   "cell_type": "markdown",
   "source": "### Cast the 'artists' column to a list of name(s)",
   "id": "e44b08a2ae6a40f2"
  },
  {
   "metadata": {
    "ExecuteTime": {
     "end_time": "2024-12-04T15:27:44.566463Z",
     "start_time": "2024-12-04T15:27:44.564685Z"
    }
   },
   "cell_type": "code",
   "source": [
    "# Cast the 'artists' column to a list of name(s)\n",
    "#data_appended['artists'] = data_appended['artists'].fillna('').apply(lambda x: x[1:-1].replace(\"'\", \"\"))\n",
    "# Print the 198057 musique to ensure that the column 'artists' has been cast to a list of name(s)\n",
    "#print(data_appended[198057])"
   ],
   "id": "c69beec7646fdc12",
   "outputs": [],
   "execution_count": 101
  },
  {
   "metadata": {},
   "cell_type": "markdown",
   "source": "### Append the data to a list",
   "id": "3cfc74f4e9b412b7"
  },
  {
   "metadata": {
    "ExecuteTime": {
     "end_time": "2024-12-04T15:27:46.337034Z",
     "start_time": "2024-12-04T15:27:44.627273Z"
    }
   },
   "cell_type": "code",
   "source": "data_appended.to_csv(\"data/data_appended.csv\", index=False)",
   "id": "b08444d76756f337",
   "outputs": [],
   "execution_count": 102
  },
  {
   "metadata": {},
   "cell_type": "markdown",
   "source": "# Create the list of dictionaries",
   "id": "bda1f4231fcf0346"
  },
  {
   "metadata": {
    "ExecuteTime": {
     "end_time": "2024-12-04T15:27:51.914716Z",
     "start_time": "2024-12-04T15:27:46.341206Z"
    }
   },
   "cell_type": "code",
   "source": [
    "for index, row in data_appended.iterrows():\n",
    "    features_info = row.to_dict()\n",
    "    music_list.append(features_info)\n",
    "\n",
    "print(music_list[:5])"
   ],
   "id": "282b5620d38c256",
   "outputs": [
    {
     "name": "stdout",
     "output_type": "stream",
     "text": [
      "[{'valence': 0.0594, 'year': 1921, 'acousticness': 0.982, 'artists': \"['Sergei Rachmaninoff', 'James Levine', 'Berliner Philharmoniker']\", 'danceability': 0.279, 'duration_ms': 831667.0, 'energy': 0.211, 'explicit': 0, 'id': '4BJqT0PrAfrxzMOxytFOIz', 'instrumentalness': 0.878, 'key': 10.0, 'liveness': 0.665, 'loudness': -20.096, 'mode': 1.0, 'name': 'Piano Concerto No. 3 in D Minor, Op. 30: III. Finale. Alla breve', 'popularity': 4.0, 'speechiness': 0.0366, 'tempo': 80.954, 'genre': 'unknown'}, {'valence': 0.963, 'year': 1921, 'acousticness': 0.732, 'artists': \"['Dennis Day']\", 'danceability': 0.8190000000000001, 'duration_ms': 180533.0, 'energy': 0.341, 'explicit': 0, 'id': '7xPhfUan2yNtyFG0cUWkt8', 'instrumentalness': 0.0, 'key': 7.0, 'liveness': 0.16, 'loudness': -12.441, 'mode': 1.0, 'name': 'Clancy Lowered the Boom', 'popularity': 5.0, 'speechiness': 0.415, 'tempo': 60.93600000000001, 'genre': 'unknown'}, {'valence': 0.0394, 'year': 1921, 'acousticness': 0.961, 'artists': \"['KHP Kridhamardawa Karaton Ngayogyakarta Hadiningrat']\", 'danceability': 0.328, 'duration_ms': 500062.0, 'energy': 0.166, 'explicit': 0, 'id': '1o6I8BglA6ylDMrIELygv1', 'instrumentalness': 0.913, 'key': 3.0, 'liveness': 0.101, 'loudness': -14.85, 'mode': 1.0, 'name': 'Gati Bali', 'popularity': 5.0, 'speechiness': 0.0339, 'tempo': 110.339, 'genre': 'unknown'}, {'valence': 0.165, 'year': 1921, 'acousticness': 0.967, 'artists': \"['Frank Parker']\", 'danceability': 0.275, 'duration_ms': 210000.0, 'energy': 0.309, 'explicit': 0, 'id': '3ftBPsC5vPBKxYSee08FDH', 'instrumentalness': 2.77e-05, 'key': 5.0, 'liveness': 0.381, 'loudness': -9.316, 'mode': 1.0, 'name': 'Danny Boy', 'popularity': 3.0, 'speechiness': 0.0354, 'tempo': 100.109, 'genre': 'unknown'}, {'valence': 0.253, 'year': 1921, 'acousticness': 0.957, 'artists': \"['Phil Regan']\", 'danceability': 0.418, 'duration_ms': 166693.0, 'energy': 0.193, 'explicit': 0, 'id': '4d6HGyGT8e121BsdKmw9v6', 'instrumentalness': 1.68e-06, 'key': 3.0, 'liveness': 0.229, 'loudness': -10.096, 'mode': 1.0, 'name': 'When Irish Eyes Are Smiling', 'popularity': 2.0, 'speechiness': 0.038, 'tempo': 101.665, 'genre': 'unknown'}]\n"
     ]
    }
   ],
   "execution_count": 103
  }
 ],
 "metadata": {
  "kernelspec": {
   "display_name": "Python 3",
   "language": "python",
   "name": "python3"
  },
  "language_info": {
   "codemirror_mode": {
    "name": "ipython",
    "version": 2
   },
   "file_extension": ".py",
   "mimetype": "text/x-python",
   "name": "python",
   "nbconvert_exporter": "python",
   "pygments_lexer": "ipython2",
   "version": "2.7.6"
  }
 },
 "nbformat": 4,
 "nbformat_minor": 5
}
