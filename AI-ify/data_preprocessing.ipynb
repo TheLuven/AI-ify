{
 "cells": [
  {
   "metadata": {},
   "cell_type": "markdown",
   "source": "# Import libraries",
   "id": "27675c8918781fc"
  },
  {
   "cell_type": "code",
   "id": "initial_id",
   "metadata": {
    "collapsed": true,
    "ExecuteTime": {
     "end_time": "2024-12-04T15:01:58.162711Z",
     "start_time": "2024-12-04T15:01:58.142409Z"
    }
   },
   "source": "import pandas as pd",
   "outputs": [],
   "execution_count": 55
  },
  {
   "metadata": {},
   "cell_type": "markdown",
   "source": "# Data preprocessing",
   "id": "50ff233813e90882"
  },
  {
   "metadata": {},
   "cell_type": "markdown",
   "source": "## Code to cast,remove duplicates and append data",
   "id": "ac577246740e0016"
  },
  {
   "metadata": {},
   "cell_type": "markdown",
   "source": "### Read the data from the csv files",
   "id": "375c30a1c5fc1c5c"
  },
  {
   "metadata": {
    "ExecuteTime": {
     "end_time": "2024-12-04T15:02:03.503903Z",
     "start_time": "2024-12-04T15:01:59.838783Z"
    }
   },
   "cell_type": "code",
   "source": [
    "data1 = pd.read_csv(\"data/data_170k.csv\")\n",
    "data2 = pd.read_csv(\"data/data_114k.csv\")\n",
    "data3 = pd.read_csv(\"data/data_169k.csv\")\n",
    "\n",
    "print(data1.shape)\n",
    "print(data2.shape)\n",
    "print(data3.shape)"
   ],
   "id": "348963ea76cff516",
   "outputs": [
    {
     "name": "stdout",
     "output_type": "stream",
     "text": [
      "(170653, 19)\n",
      "(114000, 19)\n",
      "(169909, 19)\n"
     ]
    }
   ],
   "execution_count": 56
  },
  {
   "metadata": {},
   "cell_type": "markdown",
   "source": "### Concatenate data1, data2 and data3",
   "id": "8409314df30042e7"
  },
  {
   "metadata": {
    "ExecuteTime": {
     "end_time": "2024-12-04T15:02:11.797249Z",
     "start_time": "2024-12-04T15:02:11.669865Z"
    }
   },
   "cell_type": "code",
   "source": [
    "# Concatenate data1, data2 and data3\n",
    "data_appended = pd.concat([data1, data2, data3])\n",
    "print(data_appended.shape)"
   ],
   "id": "eece6865a0416c7e",
   "outputs": [
    {
     "name": "stdout",
     "output_type": "stream",
     "text": [
      "(454562, 19)\n"
     ]
    }
   ],
   "execution_count": 57
  },
  {
   "metadata": {},
   "cell_type": "markdown",
   "source": "### Cast the 'explicit' column to a 1 and 0 value",
   "id": "83a8197adeac64cd"
  },
  {
   "metadata": {
    "ExecuteTime": {
     "end_time": "2024-12-04T15:02:14.387586Z",
     "start_time": "2024-12-04T15:02:13.954665Z"
    }
   },
   "cell_type": "code",
   "source": [
    "# Changes all true and false value to 1 and 0 value\n",
    "data_appended['explicit'] = data_appended['explicit'].apply(lambda x: 1 if x == True else 0)\n",
    "# Print the all the type of value of the column 'explicit'\n",
    "print(data_appended['explicit'].unique())"
   ],
   "id": "c7a70b8d9fd7abb5",
   "outputs": [
    {
     "name": "stdout",
     "output_type": "stream",
     "text": [
      "[0 1]\n"
     ]
    }
   ],
   "execution_count": 58
  },
  {
   "metadata": {},
   "cell_type": "markdown",
   "source": "### Remove duplicates",
   "id": "493c3dc9ac0a64a9"
  },
  {
   "metadata": {
    "ExecuteTime": {
     "end_time": "2024-12-04T15:02:16.908098Z",
     "start_time": "2024-12-04T15:02:16.668734Z"
    }
   },
   "cell_type": "code",
   "source": [
    "data_appended.drop_duplicates(subset=['id'], keep='first', inplace=True)\n",
    "print(data_appended.shape)"
   ],
   "id": "80bf2579ee8af485",
   "outputs": [
    {
     "name": "stdout",
     "output_type": "stream",
     "text": [
      "(271839, 19)\n"
     ]
    }
   ],
   "execution_count": 59
  },
  {
   "metadata": {},
   "cell_type": "markdown",
   "source": "### Cast the 'artists' column to a list of name(s)",
   "id": "e44b08a2ae6a40f2"
  },
  {
   "metadata": {
    "ExecuteTime": {
     "end_time": "2024-12-04T15:02:22.007400Z",
     "start_time": "2024-12-04T15:02:21.537239Z"
    }
   },
   "cell_type": "code",
   "source": [
    "# Cast the 'artists' column to a list of name(s)\n",
    "data_appended['artists'] = data_appended['artists'].fillna('').apply(lambda x: x[1:-1].replace(\"'\", \"\"))\n",
    "# Print the 198057 musique to ensure that the column 'artists' has been cast to a list of name(s)\n",
    "print(data_appended[198057])"
   ],
   "id": "c69beec7646fdc12",
   "outputs": [
    {
     "ename": "KeyError",
     "evalue": "198057",
     "output_type": "error",
     "traceback": [
      "\u001B[1;31m---------------------------------------------------------------------------\u001B[0m",
      "\u001B[1;31mKeyError\u001B[0m                                  Traceback (most recent call last)",
      "File \u001B[1;32mD:\\Logiciels\\Python\\Lib\\site-packages\\pandas\\core\\indexes\\base.py:3805\u001B[0m, in \u001B[0;36mIndex.get_loc\u001B[1;34m(self, key)\u001B[0m\n\u001B[0;32m   3804\u001B[0m \u001B[38;5;28;01mtry\u001B[39;00m:\n\u001B[1;32m-> 3805\u001B[0m     \u001B[38;5;28;01mreturn\u001B[39;00m \u001B[38;5;28;43mself\u001B[39;49m\u001B[38;5;241;43m.\u001B[39;49m\u001B[43m_engine\u001B[49m\u001B[38;5;241;43m.\u001B[39;49m\u001B[43mget_loc\u001B[49m\u001B[43m(\u001B[49m\u001B[43mcasted_key\u001B[49m\u001B[43m)\u001B[49m\n\u001B[0;32m   3806\u001B[0m \u001B[38;5;28;01mexcept\u001B[39;00m \u001B[38;5;167;01mKeyError\u001B[39;00m \u001B[38;5;28;01mas\u001B[39;00m err:\n",
      "File \u001B[1;32mindex.pyx:167\u001B[0m, in \u001B[0;36mpandas._libs.index.IndexEngine.get_loc\u001B[1;34m()\u001B[0m\n",
      "File \u001B[1;32mindex.pyx:196\u001B[0m, in \u001B[0;36mpandas._libs.index.IndexEngine.get_loc\u001B[1;34m()\u001B[0m\n",
      "File \u001B[1;32mpandas\\\\_libs\\\\hashtable_class_helper.pxi:7081\u001B[0m, in \u001B[0;36mpandas._libs.hashtable.PyObjectHashTable.get_item\u001B[1;34m()\u001B[0m\n",
      "File \u001B[1;32mpandas\\\\_libs\\\\hashtable_class_helper.pxi:7089\u001B[0m, in \u001B[0;36mpandas._libs.hashtable.PyObjectHashTable.get_item\u001B[1;34m()\u001B[0m\n",
      "\u001B[1;31mKeyError\u001B[0m: 198057",
      "\nThe above exception was the direct cause of the following exception:\n",
      "\u001B[1;31mKeyError\u001B[0m                                  Traceback (most recent call last)",
      "Cell \u001B[1;32mIn[60], line 4\u001B[0m\n\u001B[0;32m      2\u001B[0m data_appended[\u001B[38;5;124m'\u001B[39m\u001B[38;5;124martists\u001B[39m\u001B[38;5;124m'\u001B[39m] \u001B[38;5;241m=\u001B[39m data_appended[\u001B[38;5;124m'\u001B[39m\u001B[38;5;124martists\u001B[39m\u001B[38;5;124m'\u001B[39m]\u001B[38;5;241m.\u001B[39mfillna(\u001B[38;5;124m'\u001B[39m\u001B[38;5;124m'\u001B[39m)\u001B[38;5;241m.\u001B[39mapply(\u001B[38;5;28;01mlambda\u001B[39;00m x: x[\u001B[38;5;241m1\u001B[39m:\u001B[38;5;241m-\u001B[39m\u001B[38;5;241m1\u001B[39m]\u001B[38;5;241m.\u001B[39mreplace(\u001B[38;5;124m\"\u001B[39m\u001B[38;5;124m'\u001B[39m\u001B[38;5;124m\"\u001B[39m, \u001B[38;5;124m\"\u001B[39m\u001B[38;5;124m\"\u001B[39m))\n\u001B[0;32m      3\u001B[0m \u001B[38;5;66;03m# Print the 198057 musique to ensure that the column 'artists' has been cast to a list of name(s)\u001B[39;00m\n\u001B[1;32m----> 4\u001B[0m \u001B[38;5;28mprint\u001B[39m(\u001B[43mdata_appended\u001B[49m\u001B[43m[\u001B[49m\u001B[38;5;241;43m198057\u001B[39;49m\u001B[43m]\u001B[49m)\n",
      "File \u001B[1;32mD:\\Logiciels\\Python\\Lib\\site-packages\\pandas\\core\\frame.py:4102\u001B[0m, in \u001B[0;36mDataFrame.__getitem__\u001B[1;34m(self, key)\u001B[0m\n\u001B[0;32m   4100\u001B[0m \u001B[38;5;28;01mif\u001B[39;00m \u001B[38;5;28mself\u001B[39m\u001B[38;5;241m.\u001B[39mcolumns\u001B[38;5;241m.\u001B[39mnlevels \u001B[38;5;241m>\u001B[39m \u001B[38;5;241m1\u001B[39m:\n\u001B[0;32m   4101\u001B[0m     \u001B[38;5;28;01mreturn\u001B[39;00m \u001B[38;5;28mself\u001B[39m\u001B[38;5;241m.\u001B[39m_getitem_multilevel(key)\n\u001B[1;32m-> 4102\u001B[0m indexer \u001B[38;5;241m=\u001B[39m \u001B[38;5;28;43mself\u001B[39;49m\u001B[38;5;241;43m.\u001B[39;49m\u001B[43mcolumns\u001B[49m\u001B[38;5;241;43m.\u001B[39;49m\u001B[43mget_loc\u001B[49m\u001B[43m(\u001B[49m\u001B[43mkey\u001B[49m\u001B[43m)\u001B[49m\n\u001B[0;32m   4103\u001B[0m \u001B[38;5;28;01mif\u001B[39;00m is_integer(indexer):\n\u001B[0;32m   4104\u001B[0m     indexer \u001B[38;5;241m=\u001B[39m [indexer]\n",
      "File \u001B[1;32mD:\\Logiciels\\Python\\Lib\\site-packages\\pandas\\core\\indexes\\base.py:3812\u001B[0m, in \u001B[0;36mIndex.get_loc\u001B[1;34m(self, key)\u001B[0m\n\u001B[0;32m   3807\u001B[0m     \u001B[38;5;28;01mif\u001B[39;00m \u001B[38;5;28misinstance\u001B[39m(casted_key, \u001B[38;5;28mslice\u001B[39m) \u001B[38;5;129;01mor\u001B[39;00m (\n\u001B[0;32m   3808\u001B[0m         \u001B[38;5;28misinstance\u001B[39m(casted_key, abc\u001B[38;5;241m.\u001B[39mIterable)\n\u001B[0;32m   3809\u001B[0m         \u001B[38;5;129;01mand\u001B[39;00m \u001B[38;5;28many\u001B[39m(\u001B[38;5;28misinstance\u001B[39m(x, \u001B[38;5;28mslice\u001B[39m) \u001B[38;5;28;01mfor\u001B[39;00m x \u001B[38;5;129;01min\u001B[39;00m casted_key)\n\u001B[0;32m   3810\u001B[0m     ):\n\u001B[0;32m   3811\u001B[0m         \u001B[38;5;28;01mraise\u001B[39;00m InvalidIndexError(key)\n\u001B[1;32m-> 3812\u001B[0m     \u001B[38;5;28;01mraise\u001B[39;00m \u001B[38;5;167;01mKeyError\u001B[39;00m(key) \u001B[38;5;28;01mfrom\u001B[39;00m \u001B[38;5;21;01merr\u001B[39;00m\n\u001B[0;32m   3813\u001B[0m \u001B[38;5;28;01mexcept\u001B[39;00m \u001B[38;5;167;01mTypeError\u001B[39;00m:\n\u001B[0;32m   3814\u001B[0m     \u001B[38;5;66;03m# If we have a listlike key, _check_indexing_error will raise\u001B[39;00m\n\u001B[0;32m   3815\u001B[0m     \u001B[38;5;66;03m#  InvalidIndexError. Otherwise we fall through and re-raise\u001B[39;00m\n\u001B[0;32m   3816\u001B[0m     \u001B[38;5;66;03m#  the TypeError.\u001B[39;00m\n\u001B[0;32m   3817\u001B[0m     \u001B[38;5;28mself\u001B[39m\u001B[38;5;241m.\u001B[39m_check_indexing_error(key)\n",
      "\u001B[1;31mKeyError\u001B[0m: 198057"
     ]
    }
   ],
   "execution_count": 60
  },
  {
   "metadata": {},
   "cell_type": "markdown",
   "source": "### Append the data to a list",
   "id": "3cfc74f4e9b412b7"
  },
  {
   "metadata": {
    "ExecuteTime": {
     "end_time": "2024-12-04T14:18:35.554061Z",
     "start_time": "2024-12-04T14:18:29.055612Z"
    }
   },
   "cell_type": "code",
   "source": "data_appended.to_csv(\"data/data_appended.csv\", index=False)",
   "id": "b08444d76756f337",
   "outputs": [],
   "execution_count": 49
  },
  {
   "metadata": {},
   "cell_type": "markdown",
   "source": "# Create the list of dictionaries",
   "id": "bda1f4231fcf0346"
  },
  {
   "metadata": {
    "ExecuteTime": {
     "end_time": "2024-12-04T14:19:15.853421Z",
     "start_time": "2024-12-04T14:18:37.806365Z"
    }
   },
   "cell_type": "code",
   "source": [
    "for index, row in data_appended.iterrows():\n",
    "    features_info = row.to_dict()\n",
    "    music_list.append(features_info)\n",
    "\n",
    "print(music_list[:5])"
   ],
   "id": "282b5620d38c256",
   "outputs": [
    {
     "name": "stdout",
     "output_type": "stream",
     "text": [
      "[{'valence': 0.0594, 'year': 1921, 'acousticness': 0.982, 'artists': \"['Sergei Rachmaninoff', 'James Levine', 'Berliner Philharmoniker']\", 'danceability': 0.279, 'duration_ms': 831667, 'energy': 0.211, 'explicit': 0, 'id': '4BJqT0PrAfrxzMOxytFOIz', 'instrumentalness': 0.878, 'key': 10, 'liveness': 0.665, 'loudness': -20.096, 'mode': 1, 'name': 'Piano Concerto No. 3 in D Minor, Op. 30: III. Finale. Alla breve', 'popularity': 4, 'release_date': '1921', 'speechiness': 0.0366, 'tempo': 80.954}, {'valence': 0.963, 'year': 1921, 'acousticness': 0.732, 'artists': \"['Dennis Day']\", 'danceability': 0.8190000000000001, 'duration_ms': 180533, 'energy': 0.341, 'explicit': 0, 'id': '7xPhfUan2yNtyFG0cUWkt8', 'instrumentalness': 0.0, 'key': 7, 'liveness': 0.16, 'loudness': -12.441, 'mode': 1, 'name': 'Clancy Lowered the Boom', 'popularity': 5, 'release_date': '1921', 'speechiness': 0.415, 'tempo': 60.93600000000001}, {'valence': 0.0394, 'year': 1921, 'acousticness': 0.961, 'artists': \"['KHP Kridhamardawa Karaton Ngayogyakarta Hadiningrat']\", 'danceability': 0.328, 'duration_ms': 500062, 'energy': 0.166, 'explicit': 0, 'id': '1o6I8BglA6ylDMrIELygv1', 'instrumentalness': 0.913, 'key': 3, 'liveness': 0.101, 'loudness': -14.85, 'mode': 1, 'name': 'Gati Bali', 'popularity': 5, 'release_date': '1921', 'speechiness': 0.0339, 'tempo': 110.339}, {'valence': 0.165, 'year': 1921, 'acousticness': 0.967, 'artists': \"['Frank Parker']\", 'danceability': 0.275, 'duration_ms': 210000, 'energy': 0.309, 'explicit': 0, 'id': '3ftBPsC5vPBKxYSee08FDH', 'instrumentalness': 2.77e-05, 'key': 5, 'liveness': 0.381, 'loudness': -9.316, 'mode': 1, 'name': 'Danny Boy', 'popularity': 3, 'release_date': '1921', 'speechiness': 0.0354, 'tempo': 100.109}, {'valence': 0.253, 'year': 1921, 'acousticness': 0.957, 'artists': \"['Phil Regan']\", 'danceability': 0.418, 'duration_ms': 166693, 'energy': 0.193, 'explicit': 0, 'id': '4d6HGyGT8e121BsdKmw9v6', 'instrumentalness': 1.68e-06, 'key': 3, 'liveness': 0.229, 'loudness': -10.096, 'mode': 1, 'name': 'When Irish Eyes Are Smiling', 'popularity': 2, 'release_date': '1921', 'speechiness': 0.038, 'tempo': 101.665}]\n"
     ]
    }
   ],
   "execution_count": 50
  }
 ],
 "metadata": {
  "kernelspec": {
   "display_name": "Python 3",
   "language": "python",
   "name": "python3"
  },
  "language_info": {
   "codemirror_mode": {
    "name": "ipython",
    "version": 2
   },
   "file_extension": ".py",
   "mimetype": "text/x-python",
   "name": "python",
   "nbconvert_exporter": "python",
   "pygments_lexer": "ipython2",
   "version": "2.7.6"
  }
 },
 "nbformat": 4,
 "nbformat_minor": 5
}
