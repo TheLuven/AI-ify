{
 "cells": [
  {
   "metadata": {},
   "cell_type": "markdown",
   "source": "# Import libraries",
   "id": "27675c8918781fc"
  },
  {
   "cell_type": "code",
   "id": "initial_id",
   "metadata": {
    "collapsed": true,
    "ExecuteTime": {
     "end_time": "2024-12-04T16:34:10.601714Z",
     "start_time": "2024-12-04T16:34:10.587109Z"
    }
   },
   "source": "import pandas as pd",
   "outputs": [],
   "execution_count": 214
  },
  {
   "metadata": {},
   "cell_type": "markdown",
   "source": "# Data preprocessing",
   "id": "50ff233813e90882"
  },
  {
   "metadata": {},
   "cell_type": "markdown",
   "source": "## Code to cast,remove duplicates and append data",
   "id": "ac577246740e0016"
  },
  {
   "metadata": {},
   "cell_type": "markdown",
   "source": "### Read the data from the csv files",
   "id": "375c30a1c5fc1c5c"
  },
  {
   "metadata": {
    "ExecuteTime": {
     "end_time": "2024-12-04T16:34:14.778491Z",
     "start_time": "2024-12-04T16:34:10.681823Z"
    }
   },
   "cell_type": "code",
   "source": [
    "data1 = pd.read_csv(\"data/data_170k.csv\")\n",
    "data2 = pd.read_csv(\"data/data_114k.csv\")\n",
    "data3 = pd.read_csv(\"data/data_169k.csv\")\n",
    "\n",
    "print(data1.shape)\n",
    "print(data2.shape)\n",
    "print(data3.shape)"
   ],
   "id": "348963ea76cff516",
   "outputs": [
    {
     "name": "stdout",
     "output_type": "stream",
     "text": [
      "(170653, 19)\n",
      "(114000, 19)\n",
      "(169909, 19)\n"
     ]
    }
   ],
   "execution_count": 215
  },
  {
   "metadata": {},
   "cell_type": "markdown",
   "source": "### Concatenate data1, data2 and data3",
   "id": "8409314df30042e7"
  },
  {
   "metadata": {
    "ExecuteTime": {
     "end_time": "2024-12-04T16:34:15.005884Z",
     "start_time": "2024-12-04T16:34:14.779502Z"
    }
   },
   "cell_type": "code",
   "source": [
    "# Concatenate data1, data2 and data3\n",
    "data_appended = pd.concat([data1, data2, data3])\n",
    "print(data_appended.shape)"
   ],
   "id": "eece6865a0416c7e",
   "outputs": [
    {
     "name": "stdout",
     "output_type": "stream",
     "text": [
      "(454562, 19)\n"
     ]
    }
   ],
   "execution_count": 216
  },
  {
   "metadata": {},
   "cell_type": "markdown",
   "source": "### Cast the 'explicit' column to a 1 and 0 value",
   "id": "83a8197adeac64cd"
  },
  {
   "metadata": {
    "ExecuteTime": {
     "end_time": "2024-12-04T16:34:15.674062Z",
     "start_time": "2024-12-04T16:34:15.189574Z"
    }
   },
   "cell_type": "code",
   "source": [
    "# Changes all true and false value to 1 and 0 value\n",
    "data_appended['explicit'] = data_appended['explicit'].apply(lambda x: 1 if x == True else 0)\n",
    "# Print the all the type of value of the column 'explicit'\n",
    "print(data_appended['explicit'].unique())"
   ],
   "id": "c7a70b8d9fd7abb5",
   "outputs": [
    {
     "name": "stdout",
     "output_type": "stream",
     "text": [
      "[0 1]\n"
     ]
    }
   ],
   "execution_count": 217
  },
  {
   "metadata": {},
   "cell_type": "markdown",
   "source": "### Remove duplicates",
   "id": "493c3dc9ac0a64a9"
  },
  {
   "metadata": {},
   "cell_type": "markdown",
   "source": "### Remove duplicates based on the 'id' column",
   "id": "e220e87e8d1781fb"
  },
  {
   "metadata": {
    "ExecuteTime": {
     "end_time": "2024-12-04T16:34:16.017808Z",
     "start_time": "2024-12-04T16:34:15.688083Z"
    }
   },
   "cell_type": "code",
   "source": [
    "data_appended.drop_duplicates(subset=['id'], keep='first', inplace=True)\n",
    "print(data_appended.shape)"
   ],
   "id": "80bf2579ee8af485",
   "outputs": [
    {
     "name": "stdout",
     "output_type": "stream",
     "text": [
      "(271839, 19)\n"
     ]
    }
   ],
   "execution_count": 218
  },
  {
   "metadata": {
    "ExecuteTime": {
     "end_time": "2024-12-04T16:34:16.426568Z",
     "start_time": "2024-12-04T16:34:16.118330Z"
    }
   },
   "cell_type": "code",
   "source": [
    "# Remove rows with NaN values in the 'artists' column\n",
    "data_appended = data_appended[~data_appended['artists'].apply(lambda x: isinstance(x, float))]\n",
    "print(data_appended.shape)"
   ],
   "id": "f45a7e2eeb4eb57d",
   "outputs": [
    {
     "name": "stdout",
     "output_type": "stream",
     "text": [
      "(271837, 19)\n"
     ]
    }
   ],
   "execution_count": 219
  },
  {
   "metadata": {},
   "cell_type": "markdown",
   "source": "### Cast the 'artists' column to a list of name(s)",
   "id": "e44b08a2ae6a40f2"
  },
  {
   "metadata": {
    "ExecuteTime": {
     "end_time": "2024-12-04T16:35:25.432408Z",
     "start_time": "2024-12-04T16:35:25.239242Z"
    }
   },
   "cell_type": "code",
   "source": [
    "# Iterate through the 'artists' column and ensure the format is ['artist1', 'artist2', ...]\n",
    "def format_artists(artists):\n",
    "    if isinstance(artists, str) and not artists.startswith('['):\n",
    "        # Split the string by ';' and cast in the format ['artist1', 'artist2', ...]\n",
    "        return [artist.strip() for artist in artists.split(';')]\n",
    "    else:\n",
    "        return artists\n",
    "\n",
    "data_appended['artists'] = data_appended['artists'].apply(format_artists)"
   ],
   "id": "c69beec7646fdc12",
   "outputs": [],
   "execution_count": 223
  },
  {
   "metadata": {},
   "cell_type": "markdown",
   "source": "### Append the data to a list",
   "id": "3cfc74f4e9b412b7"
  },
  {
   "metadata": {
    "ExecuteTime": {
     "end_time": "2024-12-04T16:34:43.120531Z",
     "start_time": "2024-12-04T16:34:31.695517Z"
    }
   },
   "cell_type": "code",
   "source": "data_appended.to_csv(\"data/data_appended.csv\", index=False)",
   "id": "b08444d76756f337",
   "outputs": [],
   "execution_count": 221
  },
  {
   "metadata": {},
   "cell_type": "markdown",
   "source": "# Create the list of dictionaries",
   "id": "bda1f4231fcf0346"
  },
  {
   "metadata": {
    "ExecuteTime": {
     "end_time": "2024-12-04T16:35:22.018707Z",
     "start_time": "2024-12-04T16:34:43.182291Z"
    }
   },
   "cell_type": "code",
   "source": [
    "for index, row in data_appended.iterrows():\n",
    "    features_info = row.to_dict()\n",
    "    music_list.append(features_info)\n",
    "\n",
    "print(music_list[:5])"
   ],
   "id": "282b5620d38c256",
   "outputs": [
    {
     "name": "stdout",
     "output_type": "stream",
     "text": [
      "[{'valence': 0.0594, 'year': 1921, 'acousticness': 0.982, 'artists': \"['Sergei Rachmaninoff', 'James Levine', 'Berliner Philharmoniker']\", 'danceability': 0.279, 'duration_ms': 831667, 'energy': 0.211, 'explicit': 0, 'id': '4BJqT0PrAfrxzMOxytFOIz', 'instrumentalness': 0.878, 'key': 10, 'liveness': 0.665, 'loudness': -20.096, 'mode': 1, 'name': 'Piano Concerto No. 3 in D Minor, Op. 30: III. Finale. Alla breve', 'popularity': 4, 'release_date': '1921', 'speechiness': 0.0366, 'tempo': 80.954}, {'valence': 0.963, 'year': 1921, 'acousticness': 0.732, 'artists': \"['Dennis Day']\", 'danceability': 0.8190000000000001, 'duration_ms': 180533, 'energy': 0.341, 'explicit': 0, 'id': '7xPhfUan2yNtyFG0cUWkt8', 'instrumentalness': 0.0, 'key': 7, 'liveness': 0.16, 'loudness': -12.441, 'mode': 1, 'name': 'Clancy Lowered the Boom', 'popularity': 5, 'release_date': '1921', 'speechiness': 0.415, 'tempo': 60.93600000000001}, {'valence': 0.0394, 'year': 1921, 'acousticness': 0.961, 'artists': \"['KHP Kridhamardawa Karaton Ngayogyakarta Hadiningrat']\", 'danceability': 0.328, 'duration_ms': 500062, 'energy': 0.166, 'explicit': 0, 'id': '1o6I8BglA6ylDMrIELygv1', 'instrumentalness': 0.913, 'key': 3, 'liveness': 0.101, 'loudness': -14.85, 'mode': 1, 'name': 'Gati Bali', 'popularity': 5, 'release_date': '1921', 'speechiness': 0.0339, 'tempo': 110.339}, {'valence': 0.165, 'year': 1921, 'acousticness': 0.967, 'artists': \"['Frank Parker']\", 'danceability': 0.275, 'duration_ms': 210000, 'energy': 0.309, 'explicit': 0, 'id': '3ftBPsC5vPBKxYSee08FDH', 'instrumentalness': 2.77e-05, 'key': 5, 'liveness': 0.381, 'loudness': -9.316, 'mode': 1, 'name': 'Danny Boy', 'popularity': 3, 'release_date': '1921', 'speechiness': 0.0354, 'tempo': 100.109}, {'valence': 0.253, 'year': 1921, 'acousticness': 0.957, 'artists': \"['Phil Regan']\", 'danceability': 0.418, 'duration_ms': 166693, 'energy': 0.193, 'explicit': 0, 'id': '4d6HGyGT8e121BsdKmw9v6', 'instrumentalness': 1.68e-06, 'key': 3, 'liveness': 0.229, 'loudness': -10.096, 'mode': 1, 'name': 'When Irish Eyes Are Smiling', 'popularity': 2, 'release_date': '1921', 'speechiness': 0.038, 'tempo': 101.665}]\n"
     ]
    }
   ],
   "execution_count": 222
  }
 ],
 "metadata": {
  "kernelspec": {
   "display_name": "Python 3",
   "language": "python",
   "name": "python3"
  },
  "language_info": {
   "codemirror_mode": {
    "name": "ipython",
    "version": 2
   },
   "file_extension": ".py",
   "mimetype": "text/x-python",
   "name": "python",
   "nbconvert_exporter": "python",
   "pygments_lexer": "ipython2",
   "version": "2.7.6"
  }
 },
 "nbformat": 4,
 "nbformat_minor": 5
}
